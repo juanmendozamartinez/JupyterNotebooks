{
  "nbformat": 4,
  "nbformat_minor": 0,
  "metadata": {
    "colab": {
      "name": "JuanMendozaMartinez-RNN.ipynb",
      "provenance": []
    },
    "kernelspec": {
      "name": "python3",
      "display_name": "Python 3"
    },
    "language_info": {
      "name": "python"
    },
    "accelerator": "GPU"
  },
  "cells": [
    {
      "cell_type": "markdown",
      "metadata": {
        "id": "uDRa5AkKVguP"
      },
      "source": [
        "* Juan Mendoza-Martinez\n",
        "* Perm: 5219522"
      ]
    },
    {
      "cell_type": "code",
      "metadata": {
        "colab": {
          "base_uri": "https://localhost:8080/"
        },
        "id": "HxwTJz4WVSKW",
        "outputId": "d9fa380b-15d7-403f-ddd0-27204c0f9be0"
      },
      "source": [
        "from google.colab import drive\n",
        "drive.mount('/content/drive')"
      ],
      "execution_count": null,
      "outputs": [
        {
          "output_type": "stream",
          "text": [
            "Mounted at /content/drive\n"
          ],
          "name": "stdout"
        }
      ]
    },
    {
      "cell_type": "code",
      "metadata": {
        "colab": {
          "base_uri": "https://localhost:8080/"
        },
        "id": "t4TP_wTpXKE3",
        "outputId": "ef17d9d4-5e07-42d2-a023-b66e8f31fb37"
      },
      "source": [
        "!wget https://download.pytorch.org/tutorial/data.zip"
      ],
      "execution_count": null,
      "outputs": [
        {
          "output_type": "stream",
          "text": [
            "--2021-06-05 19:24:00--  https://download.pytorch.org/tutorial/data.zip\n",
            "Resolving download.pytorch.org (download.pytorch.org)... 99.86.33.56, 99.86.33.48, 99.86.33.87, ...\n",
            "Connecting to download.pytorch.org (download.pytorch.org)|99.86.33.56|:443... connected.\n",
            "HTTP request sent, awaiting response... 200 OK\n",
            "Length: 2882130 (2.7M) [application/zip]\n",
            "Saving to: ‘data.zip’\n",
            "\n",
            "\rdata.zip              0%[                    ]       0  --.-KB/s               \rdata.zip            100%[===================>]   2.75M  --.-KB/s    in 0.05s   \n",
            "\n",
            "2021-06-05 19:24:00 (58.0 MB/s) - ‘data.zip’ saved [2882130/2882130]\n",
            "\n"
          ],
          "name": "stdout"
        }
      ]
    },
    {
      "cell_type": "code",
      "metadata": {
        "colab": {
          "base_uri": "https://localhost:8080/"
        },
        "id": "vzT-8VInXNkj",
        "outputId": "cf09960b-ea9a-447d-d453-30f009b2f049"
      },
      "source": [
        "!unzip data.zip -d ."
      ],
      "execution_count": null,
      "outputs": [
        {
          "output_type": "stream",
          "text": [
            "Archive:  data.zip\n",
            "   creating: ./data/\n",
            "  inflating: ./data/eng-fra.txt      \n",
            "   creating: ./data/names/\n",
            "  inflating: ./data/names/Arabic.txt  \n",
            "  inflating: ./data/names/Chinese.txt  \n",
            "  inflating: ./data/names/Czech.txt  \n",
            "  inflating: ./data/names/Dutch.txt  \n",
            "  inflating: ./data/names/English.txt  \n",
            "  inflating: ./data/names/French.txt  \n",
            "  inflating: ./data/names/German.txt  \n",
            "  inflating: ./data/names/Greek.txt  \n",
            "  inflating: ./data/names/Irish.txt  \n",
            "  inflating: ./data/names/Italian.txt  \n",
            "  inflating: ./data/names/Japanese.txt  \n",
            "  inflating: ./data/names/Korean.txt  \n",
            "  inflating: ./data/names/Polish.txt  \n",
            "  inflating: ./data/names/Portuguese.txt  \n",
            "  inflating: ./data/names/Russian.txt  \n",
            "  inflating: ./data/names/Scottish.txt  \n",
            "  inflating: ./data/names/Spanish.txt  \n",
            "  inflating: ./data/names/Vietnamese.txt  \n"
          ],
          "name": "stdout"
        }
      ]
    },
    {
      "cell_type": "code",
      "metadata": {
        "id": "5NbR7rHqXpSi"
      },
      "source": [
        "import matplotlib.pyplot as plt\n",
        "import numpy as np\n",
        "import random"
      ],
      "execution_count": null,
      "outputs": []
    },
    {
      "cell_type": "code",
      "metadata": {
        "id": "zilSQ9H1YWU-"
      },
      "source": [
        "import torch\n",
        "import torch.nn as nn\n",
        "import torchvision.transforms as transforms\n",
        "import torchvision.datasets as dsets"
      ],
      "execution_count": null,
      "outputs": []
    },
    {
      "cell_type": "code",
      "metadata": {
        "id": "3LBfliTSnCZV"
      },
      "source": [
        "from __future__ import unicode_literals, print_function, division\n",
        "from io import open\n",
        "import glob\n",
        "import os\n",
        "import unicodedata\n",
        "import string"
      ],
      "execution_count": null,
      "outputs": []
    },
    {
      "cell_type": "code",
      "metadata": {
        "id": "SQW6Q-eJXl-d"
      },
      "source": [
        "torch.manual_seed(4)\n",
        "np.random.seed(4)\n",
        "random.seed(4)"
      ],
      "execution_count": null,
      "outputs": []
    },
    {
      "cell_type": "markdown",
      "metadata": {
        "id": "iAcI_lyKmmNa"
      },
      "source": [
        "# Prepare & Split Data"
      ]
    },
    {
      "cell_type": "code",
      "metadata": {
        "id": "63x3pk5Sb4Kv"
      },
      "source": [
        "\n",
        "all_letters = string.ascii_letters + \" .,;'-\"\n",
        "n_letters = len(all_letters) + 1 # Plus EOS marker\n",
        "\n",
        "def findFiles(path): return glob.glob(path)\n",
        "\n",
        "# Turn a Unicode string to plain ASCII, thanks to https://stackoverflow.com/a/518232/2809427\n",
        "def unicodeToAscii(s):\n",
        "    return ''.join(\n",
        "        c for c in unicodedata.normalize('NFD', s)\n",
        "        if unicodedata.category(c) != 'Mn'\n",
        "        and c in all_letters\n",
        "    )\n",
        "\n",
        "# Read a file and split into lines\n",
        "def readLines(filename):\n",
        "    lines = open(filename, encoding='utf-8').read().strip().split('\\n')\n",
        "    return [unicodeToAscii(line) for line in lines]\n",
        "\n",
        "\n",
        "category_lines_train = {}\n",
        "category_lines_val = {}\n",
        "all_categories = []\n",
        "for filename in findFiles('data/names/*.txt'):\n",
        "    category = os.path.splitext(os.path.basename(filename))[0]\n",
        "    all_categories.append(category)\n",
        "    lines = readLines(filename)\n",
        "    #Shuffle and Split into Training and Validation data\n",
        "    random.shuffle(lines)\n",
        "    lines_train = lines[0:int(len(lines)*0.85)]\n",
        "    lines_val = lines[int(len(lines)*0.85):len(lines)]\n",
        "    category_lines_train[category] = lines_train\n",
        "    category_lines_val[category] = lines_val\n",
        "\n",
        "n_categories = len(all_categories)\n",
        "\n",
        "if n_categories == 0:\n",
        "    raise RuntimeError('Data not found. Make sure that you downloaded data '\n",
        "        'from https://download.pytorch.org/tutorial/data.zip and extract it to '\n",
        "        'the current directory.')"
      ],
      "execution_count": null,
      "outputs": []
    },
    {
      "cell_type": "markdown",
      "metadata": {
        "id": "8SPjCr2WmumE"
      },
      "source": [
        "# Create Network"
      ]
    },
    {
      "cell_type": "code",
      "metadata": {
        "id": "TkX7LME6Zniu"
      },
      "source": [
        "class RNN(nn.Module):\n",
        "    def __init__(self, input_size, hidden_size, output_size):\n",
        "        super(RNN, self).__init__()\n",
        "        self.hidden_size = hidden_size\n",
        "\n",
        "        self.i2h = nn.Linear(n_categories + input_size + hidden_size, hidden_size)\n",
        "        self.i2o = nn.Linear(n_categories + input_size + hidden_size, output_size)\n",
        "        self.o2o = nn.Linear(hidden_size + output_size, output_size)\n",
        "        self.dropout = nn.Dropout(0.1)\n",
        "        self.softmax = nn.LogSoftmax(dim=1)\n",
        "\n",
        "    def forward(self, category, input, hidden):\n",
        "        input_combined = torch.cat((category, input, hidden), 1)\n",
        "        hidden = self.i2h(input_combined)\n",
        "        output = self.i2o(input_combined)\n",
        "        output_combined = torch.cat((hidden, output), 1)\n",
        "        output = self.o2o(output_combined)\n",
        "        output = self.dropout(output)\n",
        "        output = self.softmax(output)\n",
        "        return output, hidden\n",
        "\n",
        "    def initHidden(self):\n",
        "        return torch.zeros(1, self.hidden_size)"
      ],
      "execution_count": null,
      "outputs": []
    },
    {
      "cell_type": "markdown",
      "metadata": {
        "id": "OWXCiMjZnG58"
      },
      "source": [
        "# Training"
      ]
    },
    {
      "cell_type": "markdown",
      "metadata": {
        "id": "iUJzr6L8n7IA"
      },
      "source": [
        "### Helper Functions"
      ]
    },
    {
      "cell_type": "code",
      "metadata": {
        "id": "cyQTmzdKoRux"
      },
      "source": [
        "import time\n",
        "import math\n",
        "\n",
        "def timeSince(since):\n",
        "    now = time.time()\n",
        "    s = now - since\n",
        "    m = math.floor(s / 60)\n",
        "    s -= m * 60\n",
        "    return '%dm %ds' % (m, s)"
      ],
      "execution_count": null,
      "outputs": []
    },
    {
      "cell_type": "code",
      "metadata": {
        "id": "aahkxN2pnLgg"
      },
      "source": [
        "# Random item from a list\n",
        "def randomChoice(l):\n",
        "    return l[random.randint(0, len(l) - 1)]\n",
        "\n",
        "# Get a random category and random line from that category\n",
        "def randomTrainingPair(category_lines):\n",
        "    category = randomChoice(all_categories)\n",
        "    line = randomChoice(category_lines[category])\n",
        "    return category, line\n",
        "\n",
        "# One-hot vector for category\n",
        "def categoryTensor(category):\n",
        "    li = all_categories.index(category)\n",
        "    tensor = torch.zeros(1, n_categories)\n",
        "    tensor[0][li] = 1\n",
        "    return tensor\n",
        "\n",
        "# One-hot matrix of first to last letters (not including EOS) for input\n",
        "def inputTensor(line):\n",
        "    tensor = torch.zeros(len(line), 1, n_letters)\n",
        "    for li in range(len(line)):\n",
        "        letter = line[li]\n",
        "        tensor[li][0][all_letters.find(letter)] = 1\n",
        "    return tensor\n",
        "\n",
        "# LongTensor of second letter to end (EOS) for target\n",
        "def targetTensor(line):\n",
        "    letter_indexes = [all_letters.find(line[li]) for li in range(1, len(line))]\n",
        "    letter_indexes.append(n_letters - 1) # EOS\n",
        "    return torch.LongTensor(letter_indexes)"
      ],
      "execution_count": null,
      "outputs": []
    },
    {
      "cell_type": "code",
      "metadata": {
        "id": "syikhIDanyV6"
      },
      "source": [
        "def randomTrainingExample(category_lines):\n",
        "    category, line = randomTrainingPair(category_lines)\n",
        "    category_tensor = categoryTensor(category)\n",
        "    input_line_tensor = inputTensor(line)\n",
        "    target_line_tensor = targetTensor(line)\n",
        "    return category_tensor, input_line_tensor, target_line_tensor"
      ],
      "execution_count": null,
      "outputs": []
    },
    {
      "cell_type": "markdown",
      "metadata": {
        "id": "8R1Ws57evM6z"
      },
      "source": [
        "Validation Function"
      ]
    },
    {
      "cell_type": "code",
      "metadata": {
        "id": "vEtWzBN8vLNS"
      },
      "source": [
        "def validation(model,category_tensor, input_line_tensor, target_line_tensor):\n",
        "    target_line_tensor.unsqueeze_(-1)\n",
        "    hidden = model.initHidden()\n",
        "\n",
        "    model.zero_grad()\n",
        "\n",
        "    loss = 0\n",
        "\n",
        "    for i in range(input_line_tensor.size(0)):\n",
        "        output, hidden = model(category_tensor, input_line_tensor[i], hidden)\n",
        "        l = criterion(output, target_line_tensor[i])\n",
        "        loss += l\n",
        "\n",
        "    loss.backward()\n",
        "\n",
        "\n",
        "    return output, loss.item() / input_line_tensor.size(0)"
      ],
      "execution_count": null,
      "outputs": []
    },
    {
      "cell_type": "markdown",
      "metadata": {
        "id": "7gklI3ZAoEL2"
      },
      "source": [
        "### Train Function"
      ]
    },
    {
      "cell_type": "code",
      "metadata": {
        "id": "1x7HdmRkn08w"
      },
      "source": [
        "criterion = nn.NLLLoss()\n",
        "\n",
        "learning_rate = 0.0005\n",
        "\n",
        "def train(model,category_tensor, input_line_tensor, target_line_tensor):\n",
        "    target_line_tensor.unsqueeze_(-1)\n",
        "    hidden = model.initHidden()\n",
        "\n",
        "    model.zero_grad()\n",
        "\n",
        "    loss = 0\n",
        "\n",
        "    for i in range(input_line_tensor.size(0)):\n",
        "        output, hidden = model(category_tensor, input_line_tensor[i], hidden)\n",
        "        l = criterion(output, target_line_tensor[i])\n",
        "        loss += l\n",
        "\n",
        "    loss.backward()\n",
        "\n",
        "    for p in model.parameters():\n",
        "        p.data.add_(p.grad.data, alpha=-learning_rate)\n",
        "\n",
        "    return output, loss.item() / input_line_tensor.size(0)"
      ],
      "execution_count": null,
      "outputs": []
    },
    {
      "cell_type": "code",
      "metadata": {
        "colab": {
          "base_uri": "https://localhost:8080/"
        },
        "id": "frM-x0hjs8gB",
        "outputId": "4c9ae92f-eb5d-4542-e2fa-e96529621a30"
      },
      "source": [
        "rnn = RNN(n_letters, 128, n_letters)\n",
        "\n",
        "n_iters = 100000\n",
        "print_every = 5000\n",
        "plot_every = 500\n",
        "train_losses = []\n",
        "val_losses = []\n",
        "total_loss = 0 # Reset every plot_every iters\n",
        "total_val_loss = 0\n",
        "val_sample_count = 0\n",
        "start = time.time()\n",
        "\n",
        "for iter in range(1, n_iters + 1):\n",
        "    output, loss = train(rnn, *randomTrainingExample(category_lines_train))\n",
        "    total_loss += loss\n",
        "    \n",
        "    if iter % print_every == 0:\n",
        "        for category in all_categories:\n",
        "          for line in category_lines_val[category]:\n",
        "            val_sample_count += 1\n",
        "            category_tensor = categoryTensor(category)\n",
        "            input_line_tensor = inputTensor(line)\n",
        "            target_line_tensor = targetTensor(line)\n",
        "            val_out, val_loss = validation(rnn, category_tensor, input_line_tensor, target_line_tensor)\n",
        "            total_val_loss += val_loss\n",
        "        val_losses.append(total_val_loss / val_sample_count)\n",
        "        total_val_loss = 0\n",
        "        val_sample_count = 0\n",
        "        \n",
        "        print(\"Loss For Train:\")\n",
        "        print('%s (%d %d%%) %.4f' % (timeSince(start), iter, iter / n_iters * 100, loss))\n",
        "        print(\"Loss For Validation:\")\n",
        "        print('%s (%d %d%%) %.4f' % (timeSince(start), iter, iter / n_iters * 100, val_loss))\n",
        "    \n",
        "    if iter % plot_every == 0:\n",
        "        train_losses.append(total_loss / plot_every)\n",
        "        total_loss = 0\n",
        "        "
      ],
      "execution_count": null,
      "outputs": [
        {
          "output_type": "stream",
          "text": [
            "Loss For Train:\n",
            "0m 19s (5000 5%) 2.2727\n",
            "Loss For Validation:\n",
            "0m 19s (5000 5%) 2.9094\n",
            "Loss For Train:\n",
            "0m 38s (10000 10%) 2.5432\n",
            "Loss For Validation:\n",
            "0m 38s (10000 10%) 2.9549\n",
            "Loss For Train:\n",
            "0m 57s (15000 15%) 3.0294\n",
            "Loss For Validation:\n",
            "0m 57s (15000 15%) 2.9618\n",
            "Loss For Train:\n",
            "1m 16s (20000 20%) 2.0233\n",
            "Loss For Validation:\n",
            "1m 16s (20000 20%) 2.9498\n",
            "Loss For Train:\n",
            "1m 35s (25000 25%) 3.3178\n",
            "Loss For Validation:\n",
            "1m 35s (25000 25%) 2.8300\n",
            "Loss For Train:\n",
            "1m 54s (30000 30%) 2.3857\n",
            "Loss For Validation:\n",
            "1m 54s (30000 30%) 2.8973\n",
            "Loss For Train:\n",
            "2m 13s (35000 35%) 2.3018\n",
            "Loss For Validation:\n",
            "2m 13s (35000 35%) 2.6575\n",
            "Loss For Train:\n",
            "2m 33s (40000 40%) 3.0400\n",
            "Loss For Validation:\n",
            "2m 33s (40000 40%) 2.5637\n",
            "Loss For Train:\n",
            "2m 52s (45000 45%) 3.1120\n",
            "Loss For Validation:\n",
            "2m 52s (45000 45%) 2.4874\n",
            "Loss For Train:\n",
            "3m 11s (50000 50%) 3.2907\n",
            "Loss For Validation:\n",
            "3m 11s (50000 50%) 2.3753\n",
            "Loss For Train:\n",
            "3m 31s (55000 55%) 2.5974\n",
            "Loss For Validation:\n",
            "3m 31s (55000 55%) 2.4419\n",
            "Loss For Train:\n",
            "3m 50s (60000 60%) 2.1252\n",
            "Loss For Validation:\n",
            "3m 50s (60000 60%) 2.4177\n",
            "Loss For Train:\n",
            "4m 9s (65000 65%) 2.3474\n",
            "Loss For Validation:\n",
            "4m 9s (65000 65%) 2.5183\n",
            "Loss For Train:\n",
            "4m 28s (70000 70%) 2.2286\n",
            "Loss For Validation:\n",
            "4m 28s (70000 70%) 2.5353\n",
            "Loss For Train:\n",
            "4m 47s (75000 75%) 2.5320\n",
            "Loss For Validation:\n",
            "4m 47s (75000 75%) 2.6153\n",
            "Loss For Train:\n",
            "5m 6s (80000 80%) 2.1079\n",
            "Loss For Validation:\n",
            "5m 6s (80000 80%) 2.3150\n",
            "Loss For Train:\n",
            "5m 25s (85000 85%) 2.2734\n",
            "Loss For Validation:\n",
            "5m 25s (85000 85%) 2.3582\n",
            "Loss For Train:\n",
            "5m 44s (90000 90%) 2.0906\n",
            "Loss For Validation:\n",
            "5m 44s (90000 90%) 2.6659\n",
            "Loss For Train:\n",
            "6m 3s (95000 95%) 2.1255\n",
            "Loss For Validation:\n",
            "6m 3s (95000 95%) 2.4594\n",
            "Loss For Train:\n",
            "6m 23s (100000 100%) 1.5711\n",
            "Loss For Validation:\n",
            "6m 23s (100000 100%) 2.3720\n"
          ],
          "name": "stdout"
        }
      ]
    },
    {
      "cell_type": "markdown",
      "metadata": {
        "id": "qhnbg352JZPx"
      },
      "source": [
        "# (A)"
      ]
    },
    {
      "cell_type": "markdown",
      "metadata": {
        "id": "nlG-Hf3dF-Pi"
      },
      "source": [
        "### Graph the training and validation loss"
      ]
    },
    {
      "cell_type": "code",
      "metadata": {
        "id": "5rEChjRhmXL4"
      },
      "source": [
        "num_train_samples = len(train_losses)\n",
        "num_test_samples = len(val_losses)\n",
        "x_train_list = np.linspace(1, num_train_samples*500, num_train_samples)\n",
        "x_val_list = np.linspace(1, num_test_samples*5000, num_test_samples)"
      ],
      "execution_count": null,
      "outputs": []
    },
    {
      "cell_type": "code",
      "metadata": {
        "colab": {
          "base_uri": "https://localhost:8080/",
          "height": 312
        },
        "id": "aP9z6aADfPRt",
        "outputId": "879d022a-3002-4c8e-8482-0497556e9d17"
      },
      "source": [
        "\n",
        "plt.plot(x_train_list, train_losses, label=\"Training Loss\")\n",
        "plt.plot(x_val_list, val_losses, label=\"Validation Loss\")\n",
        "plt.title(\"Train and Test Loss for Original Model vs Number of Iterations\")\n",
        "plt.ylabel(\"Loss\")\n",
        "plt.xlabel(\"Number of Iterations\")\n",
        "plt.legend()"
      ],
      "execution_count": null,
      "outputs": [
        {
          "output_type": "execute_result",
          "data": {
            "text/plain": [
              "<matplotlib.legend.Legend at 0x7f1538654450>"
            ]
          },
          "metadata": {
            "tags": []
          },
          "execution_count": 83
        },
        {
          "output_type": "display_data",
          "data": {
            "image/png": "[encoded data removed]",
            "text/plain": [
              "<Figure size 432x288 with 1 Axes>"
            ]
          },
          "metadata": {
            "tags": [],
            "needs_background": "light"
          }
        }
      ]
    },
    {
      "cell_type": "markdown",
      "metadata": {
        "id": "F_nMadwOJVS1"
      },
      "source": [
        "# (B)"
      ]
    },
    {
      "cell_type": "code",
      "metadata": {
        "id": "QNop6JwTJQmr"
      },
      "source": [
        "class RNN_no_drop(nn.Module):\n",
        "    def __init__(self, input_size, hidden_size, output_size):\n",
        "        super(RNN_no_drop, self).__init__()\n",
        "        self.hidden_size = hidden_size\n",
        "\n",
        "        self.i2h = nn.Linear(n_categories + input_size + hidden_size, hidden_size)\n",
        "        self.i2o = nn.Linear(n_categories + input_size + hidden_size, output_size)\n",
        "        self.o2o = nn.Linear(hidden_size + output_size, output_size)\n",
        "        self.softmax = nn.LogSoftmax(dim=1)\n",
        "\n",
        "    def forward(self, category, input, hidden):\n",
        "        input_combined = torch.cat((category, input, hidden), 1)\n",
        "        hidden = self.i2h(input_combined)\n",
        "        output = self.i2o(input_combined)\n",
        "        output_combined = torch.cat((hidden, output), 1)\n",
        "        output = self.o2o(output_combined)\n",
        "        output = self.softmax(output)\n",
        "        return output, hidden\n",
        "\n",
        "    def initHidden(self):\n",
        "        return torch.zeros(1, self.hidden_size)"
      ],
      "execution_count": null,
      "outputs": []
    },
    {
      "cell_type": "code",
      "metadata": {
        "colab": {
          "base_uri": "https://localhost:8080/"
        },
        "id": "uIElC5KrKAPz",
        "outputId": "57d64c05-44b6-46f0-bdd8-0d5b98019b98"
      },
      "source": [
        "rnn_no_drop = RNN_no_drop(n_letters, 128, n_letters)\n",
        "\n",
        "n_iters = 100000\n",
        "print_every = 5000\n",
        "plot_every = 500\n",
        "no_drop_train_losses = []\n",
        "no_drop_val_losses = []\n",
        "total_loss = 0 # Reset every plot_every iters\n",
        "total_val_loss = 0\n",
        "val_sample_count = 0\n",
        "start = time.time()\n",
        "\n",
        "for iter in range(1, n_iters + 1):\n",
        "    output, loss = train(rnn_no_drop, *randomTrainingExample(category_lines_train))\n",
        "    total_loss += loss\n",
        "\n",
        "    if iter % print_every == 0:\n",
        "        for category in all_categories:\n",
        "          for line in category_lines_val[category]:\n",
        "            val_sample_count += 1\n",
        "            category_tensor = categoryTensor(category)\n",
        "            input_line_tensor = inputTensor(line)\n",
        "            target_line_tensor = targetTensor(line)\n",
        "            val_out, val_loss = validation(rnn_no_drop, category_tensor, input_line_tensor, target_line_tensor)\n",
        "            total_val_loss += val_loss\n",
        "        no_drop_val_losses.append(total_val_loss / val_sample_count)\n",
        "        total_val_loss = 0\n",
        "        val_sample_count = 0\n",
        "        \n",
        "        print(\"Loss For Train:\")\n",
        "        print('%s (%d %d%%) %.4f' % (timeSince(start), iter, iter / n_iters * 100, loss))\n",
        "        print(\"Loss For Validation:\")\n",
        "        print('%s (%d %d%%) %.4f' % (timeSince(start), iter, iter / n_iters * 100, val_loss))\n",
        "    \n",
        "    if iter % plot_every == 0:\n",
        "        no_drop_train_losses.append(total_loss / plot_every)\n",
        "        total_loss = 0\n",
        "        "
      ],
      "execution_count": null,
      "outputs": [
        {
          "output_type": "stream",
          "text": [
            "Loss For Train:\n",
            "0m 16s (5000 5%) 3.9725\n",
            "Loss For Validation:\n",
            "0m 16s (5000 5%) 2.8759\n",
            "Loss For Train:\n",
            "0m 33s (10000 10%) 2.6586\n",
            "Loss For Validation:\n",
            "0m 33s (10000 10%) 2.8842\n",
            "Loss For Train:\n",
            "0m 49s (15000 15%) 3.7110\n",
            "Loss For Validation:\n",
            "0m 49s (15000 15%) 2.8619\n",
            "Loss For Train:\n",
            "1m 4s (20000 20%) 2.1720\n",
            "Loss For Validation:\n",
            "1m 4s (20000 20%) 2.7051\n",
            "Loss For Train:\n",
            "1m 19s (25000 25%) 2.2114\n",
            "Loss For Validation:\n",
            "1m 19s (25000 25%) 2.7584\n",
            "Loss For Train:\n",
            "1m 35s (30000 30%) 2.2891\n",
            "Loss For Validation:\n",
            "1m 35s (30000 30%) 2.6761\n",
            "Loss For Train:\n",
            "1m 50s (35000 35%) 1.9969\n",
            "Loss For Validation:\n",
            "1m 50s (35000 35%) 2.6852\n",
            "Loss For Train:\n",
            "2m 5s (40000 40%) 1.9893\n",
            "Loss For Validation:\n",
            "2m 5s (40000 40%) 2.4916\n",
            "Loss For Train:\n",
            "2m 21s (45000 45%) 1.9156\n",
            "Loss For Validation:\n",
            "2m 21s (45000 45%) 2.4721\n",
            "Loss For Train:\n",
            "2m 36s (50000 50%) 1.8143\n",
            "Loss For Validation:\n",
            "2m 36s (50000 50%) 2.3007\n",
            "Loss For Train:\n",
            "2m 52s (55000 55%) 2.4076\n",
            "Loss For Validation:\n",
            "2m 52s (55000 55%) 2.3179\n",
            "Loss For Train:\n",
            "3m 9s (60000 60%) 2.3431\n",
            "Loss For Validation:\n",
            "3m 9s (60000 60%) 2.3311\n",
            "Loss For Train:\n",
            "3m 26s (65000 65%) 3.0007\n",
            "Loss For Validation:\n",
            "3m 26s (65000 65%) 2.2625\n",
            "Loss For Train:\n",
            "3m 42s (70000 70%) 2.0422\n",
            "Loss For Validation:\n",
            "3m 42s (70000 70%) 2.4044\n",
            "Loss For Train:\n",
            "3m 58s (75000 75%) 1.9924\n",
            "Loss For Validation:\n",
            "3m 58s (75000 75%) 2.2828\n",
            "Loss For Train:\n",
            "4m 14s (80000 80%) 2.0880\n",
            "Loss For Validation:\n",
            "4m 14s (80000 80%) 2.3970\n",
            "Loss For Train:\n",
            "4m 30s (85000 85%) 2.0160\n",
            "Loss For Validation:\n",
            "4m 30s (85000 85%) 2.2932\n",
            "Loss For Train:\n",
            "4m 46s (90000 90%) 2.0932\n",
            "Loss For Validation:\n",
            "4m 46s (90000 90%) 2.2055\n",
            "Loss For Train:\n",
            "5m 2s (95000 95%) 1.9671\n",
            "Loss For Validation:\n",
            "5m 2s (95000 95%) 2.2452\n",
            "Loss For Train:\n",
            "5m 18s (100000 100%) 3.1457\n",
            "Loss For Validation:\n",
            "5m 18s (100000 100%) 2.3380\n"
          ],
          "name": "stdout"
        }
      ]
    },
    {
      "cell_type": "code",
      "metadata": {
        "colab": {
          "base_uri": "https://localhost:8080/",
          "height": 312
        },
        "id": "j7N29KIuPKt9",
        "outputId": "e00b8c4c-ac14-4e05-f0ec-ee2faa031e65"
      },
      "source": [
        "num_train_samples = len(no_drop_train_losses)\n",
        "num_test_samples = len(no_drop_val_losses)\n",
        "x_train_list = np.linspace(1, num_train_samples*500, num_train_samples)\n",
        "x_val_list = np.linspace(1, num_test_samples*5000, num_test_samples)\n",
        "\n",
        "plt.plot(x_train_list, no_drop_train_losses, label=\"Training Loss\")\n",
        "plt.plot(x_val_list, no_drop_val_losses, label=\"Validation Loss\")\n",
        "plt.title(\"Train and Test Loss for No Dropout Model vs Number of Iterations\")\n",
        "plt.ylabel(\"Loss\")\n",
        "plt.xlabel(\"Number of Iterations\")\n",
        "plt.legend()"
      ],
      "execution_count": null,
      "outputs": [
        {
          "output_type": "execute_result",
          "data": {
            "text/plain": [
              "<matplotlib.legend.Legend at 0x7f15389e5a90>"
            ]
          },
          "metadata": {
            "tags": []
          },
          "execution_count": 64
        },
        {
          "output_type": "display_data",
          "data": {
            "image/png": "[encoded data removed]",
            "text/plain": [
              "<Figure size 432x288 with 1 Axes>"
            ]
          },
          "metadata": {
            "tags": [],
            "needs_background": "light"
          }
        }
      ]
    },
    {
      "cell_type": "markdown",
      "metadata": {
        "id": "qUXc1inUPgBz"
      },
      "source": [
        "# (C)"
      ]
    },
    {
      "cell_type": "code",
      "metadata": {
        "id": "md2M3RaRRWVP"
      },
      "source": [
        "class RNN_reg(nn.Module):\n",
        "    def __init__(self, input_size, hidden_size, output_size):\n",
        "        super(RNN_reg, self).__init__()\n",
        "        self.hidden_size = hidden_size\n",
        "\n",
        "        self.i2h = nn.Linear(n_categories + input_size + hidden_size, hidden_size)\n",
        "        self.i2o = nn.Linear(n_categories + input_size + hidden_size, output_size)\n",
        "        self.o2o = nn.Linear(hidden_size + output_size, output_size)\n",
        "        self.softmax = nn.LogSoftmax(dim=1)\n",
        "\n",
        "    def forward(self, category, input, hidden):\n",
        "        input_combined = torch.cat((category, input, hidden), 1)\n",
        "        hidden = self.i2h(input_combined)\n",
        "        output = self.i2o(input_combined)\n",
        "        output_combined = torch.cat((hidden, output), 1)\n",
        "        output = self.o2o(output_combined)\n",
        "        output = self.softmax(output)\n",
        "        return output, hidden\n",
        "\n",
        "    def initHidden(self):\n",
        "        return torch.zeros(1, self.hidden_size)"
      ],
      "execution_count": null,
      "outputs": []
    },
    {
      "cell_type": "markdown",
      "metadata": {
        "id": "2GG8BbtQTW4j"
      },
      "source": [
        "### Redefined the train and validate functions in order to account for the L2 regularization through the optimizer"
      ]
    },
    {
      "cell_type": "code",
      "metadata": {
        "id": "Ov6iR1diPiTK"
      },
      "source": [
        "criterion = nn.NLLLoss()\n",
        "rnn_reg = RNN_reg(n_letters, 128, n_letters)\n",
        "\n",
        "\n",
        "learning_rate = 0.0005\n",
        "\n",
        "def train(model,category_tensor, input_line_tensor, target_line_tensor):\n",
        "    target_line_tensor.unsqueeze_(-1)\n",
        "    hidden = model.initHidden()\n",
        "\n",
        "    model.zero_grad()\n",
        "\n",
        "    loss = 0\n",
        "    \n",
        "    #######################################\n",
        "    #L2 Normalization:\n",
        "    #Inspired by: https://stackoverflow.com/questions/50149376/how-to-add-a-l2-regularization-term-in-my-loss-function\n",
        "    reg = 0\n",
        "    reg_lambda = 0.01\n",
        "    for param in model.parameters():\n",
        "      reg += 0.5 * (param ** 2).sum() #l2\n",
        "    #######################################\n",
        "    for i in range(input_line_tensor.size(0)):\n",
        "        output, hidden = model(category_tensor, input_line_tensor[i], hidden)\n",
        "        l = criterion(output, target_line_tensor[i]) \n",
        "        loss += l\n",
        "    \n",
        "    loss += reg_lambda * reg\n",
        "    loss.backward()\n",
        "    \n",
        "\n",
        "    for p in model.parameters():\n",
        "        p.data.add_(p.grad.data, alpha=-learning_rate)\n",
        "\n",
        "    return output, loss.item() / input_line_tensor.size(0)\n",
        "\n"
      ],
      "execution_count": null,
      "outputs": []
    },
    {
      "cell_type": "code",
      "metadata": {
        "colab": {
          "base_uri": "https://localhost:8080/"
        },
        "id": "-MzLePPKRuaK",
        "outputId": "e88bf38a-98d5-4da6-eae5-26578fda9ef8"
      },
      "source": [
        "\n",
        "\n",
        "n_iters = 100000\n",
        "print_every = 5000\n",
        "plot_every = 500\n",
        "reg_train_losses = []\n",
        "reg_val_losses = []\n",
        "total_loss = 0 # Reset every plot_every iters\n",
        "total_val_loss = 0\n",
        "val_sample_count = 0\n",
        "start = time.time()\n",
        "\n",
        "for iter in range(1, n_iters + 1):\n",
        "    output, loss = train(rnn_reg, *randomTrainingExample(category_lines_train))\n",
        "    total_loss += loss\n",
        "\n",
        "    if iter % print_every == 0:\n",
        "        for category in all_categories:\n",
        "          for line in category_lines_val[category]:\n",
        "            val_sample_count += 1\n",
        "            category_tensor = categoryTensor(category)\n",
        "            input_line_tensor = inputTensor(line)\n",
        "            target_line_tensor = targetTensor(line)\n",
        "            val_out, val_loss = validation(rnn_reg, category_tensor, input_line_tensor, target_line_tensor)\n",
        "            total_val_loss += val_loss\n",
        "        reg_val_losses.append(total_val_loss / val_sample_count)\n",
        "        total_val_loss = 0\n",
        "        val_sample_count = 0\n",
        "        \n",
        "        print(\"Loss For Train:\")\n",
        "        print('%s (%d %d%%) %.4f' % (timeSince(start), iter, iter / n_iters * 100, loss))\n",
        "        print(\"Loss For Validation:\")\n",
        "        print('%s (%d %d%%) %.4f' % (timeSince(start), iter, iter / n_iters * 100, val_loss))\n",
        "    \n",
        "    if iter % plot_every == 0:\n",
        "        reg_train_losses.append(total_loss / plot_every)\n",
        "        total_loss = 0\n",
        "        "
      ],
      "execution_count": null,
      "outputs": [
        {
          "output_type": "stream",
          "text": [
            "Loss For Train:\n",
            "0m 18s (5000 5%) 2.8553\n",
            "Loss For Validation:\n",
            "0m 18s (5000 5%) 2.9585\n",
            "Loss For Train:\n",
            "0m 38s (10000 10%) 2.3464\n",
            "Loss For Validation:\n",
            "0m 38s (10000 10%) 2.9085\n",
            "Loss For Train:\n",
            "0m 57s (15000 15%) 2.7247\n",
            "Loss For Validation:\n",
            "0m 57s (15000 15%) 2.9408\n",
            "Loss For Train:\n",
            "1m 16s (20000 20%) 2.1459\n",
            "Loss For Validation:\n",
            "1m 16s (20000 20%) 2.9226\n",
            "Loss For Train:\n",
            "1m 35s (25000 25%) 2.0397\n",
            "Loss For Validation:\n",
            "1m 35s (25000 25%) 2.8580\n",
            "Loss For Train:\n",
            "1m 54s (30000 30%) 2.5448\n",
            "Loss For Validation:\n",
            "1m 54s (30000 30%) 2.7135\n",
            "Loss For Train:\n",
            "2m 13s (35000 35%) 2.4081\n",
            "Loss For Validation:\n",
            "2m 13s (35000 35%) 2.7260\n",
            "Loss For Train:\n",
            "2m 32s (40000 40%) 2.5889\n",
            "Loss For Validation:\n",
            "2m 32s (40000 40%) 2.7207\n",
            "Loss For Train:\n",
            "2m 51s (45000 45%) 2.0619\n",
            "Loss For Validation:\n",
            "2m 51s (45000 45%) 2.6211\n",
            "Loss For Train:\n",
            "3m 10s (50000 50%) 1.6266\n",
            "Loss For Validation:\n",
            "3m 10s (50000 50%) 2.5952\n",
            "Loss For Train:\n",
            "3m 29s (55000 55%) 3.1748\n",
            "Loss For Validation:\n",
            "3m 29s (55000 55%) 2.5284\n",
            "Loss For Train:\n",
            "3m 48s (60000 60%) 2.6476\n",
            "Loss For Validation:\n",
            "3m 48s (60000 60%) 2.4590\n",
            "Loss For Train:\n",
            "4m 7s (65000 65%) 2.3870\n",
            "Loss For Validation:\n",
            "4m 7s (65000 65%) 2.5460\n",
            "Loss For Train:\n",
            "4m 25s (70000 70%) 2.7672\n",
            "Loss For Validation:\n",
            "4m 25s (70000 70%) 2.4534\n",
            "Loss For Train:\n",
            "4m 45s (75000 75%) 2.6357\n",
            "Loss For Validation:\n",
            "4m 45s (75000 75%) 2.4419\n",
            "Loss For Train:\n",
            "5m 3s (80000 80%) 2.4335\n",
            "Loss For Validation:\n",
            "5m 3s (80000 80%) 2.4134\n",
            "Loss For Train:\n",
            "5m 22s (85000 85%) 2.6754\n",
            "Loss For Validation:\n",
            "5m 22s (85000 85%) 2.5026\n",
            "Loss For Train:\n",
            "5m 40s (90000 90%) 2.1817\n",
            "Loss For Validation:\n",
            "5m 40s (90000 90%) 2.4573\n",
            "Loss For Train:\n",
            "5m 58s (95000 95%) 2.7925\n",
            "Loss For Validation:\n",
            "5m 58s (95000 95%) 2.2966\n",
            "Loss For Train:\n",
            "6m 16s (100000 100%) 2.6325\n",
            "Loss For Validation:\n",
            "6m 16s (100000 100%) 2.4169\n"
          ],
          "name": "stdout"
        }
      ]
    },
    {
      "cell_type": "code",
      "metadata": {
        "colab": {
          "base_uri": "https://localhost:8080/",
          "height": 312
        },
        "id": "77V8CCwIUKQF",
        "outputId": "cb7befa1-ab4a-4ee6-b1dc-e21fa83069a8"
      },
      "source": [
        "num_train_samples = len(reg_train_losses)\n",
        "num_test_samples = len(reg_val_losses)\n",
        "x_train_list = np.linspace(1, num_train_samples*500, num_train_samples)\n",
        "x_val_list = np.linspace(1, num_test_samples*5000, num_test_samples)\n",
        "\n",
        "plt.plot(x_train_list, reg_train_losses, label=\"Training Loss\")\n",
        "plt.plot(x_val_list, reg_val_losses, label=\"Validation Loss\")\n",
        "plt.title(\"Train and Test Loss for L2 Regularization Model vs Number of Iterations\")\n",
        "plt.ylabel(\"Loss\")\n",
        "plt.xlabel(\"Number of Iterations\")\n",
        "plt.legend()"
      ],
      "execution_count": null,
      "outputs": [
        {
          "output_type": "execute_result",
          "data": {
            "text/plain": [
              "<matplotlib.legend.Legend at 0x7f153883e110>"
            ]
          },
          "metadata": {
            "tags": []
          },
          "execution_count": 73
        },
        {
          "output_type": "display_data",
          "data": {
            "image/png": "[encoded data removed]",
            "text/plain": [
              "<Figure size 432x288 with 1 Axes>"
            ]
          },
          "metadata": {
            "tags": [],
            "needs_background": "light"
          }
        }
      ]
    },
    {
      "cell_type": "markdown",
      "metadata": {
        "id": "tVg-Nm7jTzxw"
      },
      "source": [
        "# (D)"
      ]
    },
    {
      "cell_type": "code",
      "metadata": {
        "id": "iG0EHcxTT3Y9"
      },
      "source": [
        "max_length = 20\n",
        "\n",
        "# Sample from a category and starting letter\n",
        "def sample(model,category, start_letter='A'):\n",
        "    with torch.no_grad():  # no need to track history in sampling\n",
        "        category_tensor = categoryTensor(category)\n",
        "        input = inputTensor(start_letter)\n",
        "        hidden = model.initHidden()\n",
        "\n",
        "        output_name = start_letter\n",
        "\n",
        "        for i in range(max_length):\n",
        "            output, hidden = model(category_tensor, input[0], hidden)\n",
        "            topv, topi = output.topk(1)\n",
        "            topi = topi[0][0]\n",
        "            if topi == n_letters - 1:\n",
        "                break\n",
        "            else:\n",
        "                letter = all_letters[topi]\n",
        "                output_name += letter\n",
        "            input = inputTensor(letter)\n",
        "\n",
        "        return output_name"
      ],
      "execution_count": null,
      "outputs": []
    },
    {
      "cell_type": "code",
      "metadata": {
        "colab": {
          "base_uri": "https://localhost:8080/"
        },
        "id": "MITLvV1wT-tu",
        "outputId": "c2703725-b528-4f3d-9557-e31a03eed404"
      },
      "source": [
        "\n",
        "print(\"Original model: \")\n",
        "print(\"English: \" + sample(rnn, 'English', 'J'))\n",
        "print(\"Portuguese: \" + sample(rnn, 'Portuguese', 'J'))\n",
        "print(\"Russian: \" + sample(rnn, 'Russian', 'J'))\n",
        "print(\"Greek: \" + sample(rnn, 'Greek', 'J'))\n",
        "print(\"Chinese: \" + sample(rnn, 'Chinese', 'J'))\n",
        "print(\"Dutch: \" + sample(rnn, 'Dutch', 'J'))\n",
        "\n",
        "\n",
        "print(\"\\n Model without dropout: \")\n",
        "print(\"English: \" + sample(rnn_no_drop, 'English', 'J'))\n",
        "print(\"Portuguese: \" + sample(rnn_no_drop, 'Portuguese', 'J'))\n",
        "print(\"Russian: \" + sample(rnn_no_drop, 'Russian', 'J'))\n",
        "print(\"Greek: \" + sample(rnn_no_drop, 'Greek', 'J'))\n",
        "print(\"Chinese: \" + sample(rnn_no_drop, 'Chinese', 'J'))\n",
        "print(\"Dutch: \" + sample(rnn_no_drop, 'Dutch', 'J'))\n",
        "\n",
        "\n",
        "print(\"\\n Model with Regularization: \")\n",
        "print(\"English: \" + sample(rnn_reg, 'English', 'J'))\n",
        "print(\"Portuguese: \" + sample(rnn_reg, 'Portuguese', 'J'))\n",
        "print(\"Russian: \" + sample(rnn_reg, 'Russian', 'J'))\n",
        "print(\"Greek: \" + sample(rnn_reg, 'Greek', 'J'))\n",
        "print(\"Chinese: \" + sample(rnn_reg, 'Chinese', 'J'))\n",
        "print(\"Dutch: \" + sample(rnn_reg, 'Dutch', 'J'))"
      ],
      "execution_count": null,
      "outputs": [
        {
          "output_type": "stream",
          "text": [
            "Original model: \n",
            "English: Jander\n",
            "Portuguese: Jarero\n",
            "Russian: Jander\n",
            "Greek: Jangasou\n",
            "Chinese: Jang\n",
            "Dutch: Jeren\n",
            "\n",
            " Model without dropout: \n",
            "English: Janger\n",
            "Portuguese: Jares\n",
            "Russian: Jantonov\n",
            "Greek: Jantos\n",
            "Chinese: Jan\n",
            "Dutch: Janeren\n",
            "\n",
            " Model with Regularization: \n",
            "English: Janter\n",
            "Portuguese: Jarta\n",
            "Russian: Jantov\n",
            "Greek: Jantos\n",
            "Chinese: Jan\n",
            "Dutch: Janer\n"
          ],
          "name": "stdout"
        }
      ]
    }
  ]
}