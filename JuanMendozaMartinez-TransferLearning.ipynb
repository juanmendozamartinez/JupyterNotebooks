{
  "nbformat": 4,
  "nbformat_minor": 0,
  "metadata": {
    "colab": {
      "name": "transfer_learning_starter.ipynb",
      "provenance": [],
      "toc_visible": true
    },
    "kernelspec": {
      "display_name": "Python 3",
      "language": "python",
      "name": "python3"
    },
    "language_info": {
      "codemirror_mode": {
        "name": "ipython",
        "version": 3
      },
      "file_extension": ".py",
      "mimetype": "text/x-python",
      "name": "python",
      "nbconvert_exporter": "python",
      "pygments_lexer": "ipython3",
      "version": "3.8.3"
    },
    "widgets": {
      "application/vnd.jupyter.widget-state+json": {
        "0078b4b563bb4fd4838144b0e2fd89d0": {
          "model_module": "@jupyter-widgets/controls",
          "model_name": "HBoxModel",
          "state": {
            "_view_name": "HBoxView",
            "_dom_classes": [],
            "_model_name": "HBoxModel",
            "_view_module": "@jupyter-widgets/controls",
            "_model_module_version": "1.5.0",
            "_view_count": null,
            "_view_module_version": "1.5.0",
            "box_style": "",
            "layout": "IPY_MODEL_b38b791668c9415aaf10eb02bf492c11",
            "_model_module": "@jupyter-widgets/controls",
            "children": [
              "IPY_MODEL_e35ce548eb5b41e79448dd7e12073832",
              "IPY_MODEL_8668f6a4f1e840859943e66046f7cf8c"
            ]
          }
        },
        "b38b791668c9415aaf10eb02bf492c11": {
          "model_module": "@jupyter-widgets/base",
          "model_name": "LayoutModel",
          "state": {
            "_view_name": "LayoutView",
            "grid_template_rows": null,
            "right": null,
            "justify_content": null,
            "_view_module": "@jupyter-widgets/base",
            "overflow": null,
            "_model_module_version": "1.2.0",
            "_view_count": null,
            "flex_flow": null,
            "width": null,
            "min_width": null,
            "border": null,
            "align_items": null,
            "bottom": null,
            "_model_module": "@jupyter-widgets/base",
            "top": null,
            "grid_column": null,
            "overflow_y": null,
            "overflow_x": null,
            "grid_auto_flow": null,
            "grid_area": null,
            "grid_template_columns": null,
            "flex": null,
            "_model_name": "LayoutModel",
            "justify_items": null,
            "grid_row": null,
            "max_height": null,
            "align_content": null,
            "visibility": null,
            "align_self": null,
            "height": null,
            "min_height": null,
            "padding": null,
            "grid_auto_rows": null,
            "grid_gap": null,
            "max_width": null,
            "order": null,
            "_view_module_version": "1.2.0",
            "grid_template_areas": null,
            "object_position": null,
            "object_fit": null,
            "grid_auto_columns": null,
            "margin": null,
            "display": null,
            "left": null
          }
        },
        "e35ce548eb5b41e79448dd7e12073832": {
          "model_module": "@jupyter-widgets/controls",
          "model_name": "FloatProgressModel",
          "state": {
            "_view_name": "ProgressView",
            "style": "IPY_MODEL_647574c4881f446f9c217feb2ec47023",
            "_dom_classes": [],
            "description": "Dl Completed...: 100%",
            "_model_name": "FloatProgressModel",
            "bar_style": "success",
            "max": 1,
            "_view_module": "@jupyter-widgets/controls",
            "_model_module_version": "1.5.0",
            "value": 1,
            "_view_count": null,
            "_view_module_version": "1.5.0",
            "orientation": "horizontal",
            "min": 0,
            "description_tooltip": null,
            "_model_module": "@jupyter-widgets/controls",
            "layout": "IPY_MODEL_b6be969dda364e0eb35f49805336da10"
          }
        },
        "8668f6a4f1e840859943e66046f7cf8c": {
          "model_module": "@jupyter-widgets/controls",
          "model_name": "HTMLModel",
          "state": {
            "_view_name": "HTMLView",
            "style": "IPY_MODEL_f811924bbb5842d28c52d06e507e1ea4",
            "_dom_classes": [],
            "description": "",
            "_model_name": "HTMLModel",
            "placeholder": "​",
            "_view_module": "@jupyter-widgets/controls",
            "_model_module_version": "1.5.0",
            "value": " 1/1 [00:02&lt;00:00,  2.34s/ url]",
            "_view_count": null,
            "_view_module_version": "1.5.0",
            "description_tooltip": null,
            "_model_module": "@jupyter-widgets/controls",
            "layout": "IPY_MODEL_3ae5be61872340b2b02c1a266660eaff"
          }
        },
        "647574c4881f446f9c217feb2ec47023": {
          "model_module": "@jupyter-widgets/controls",
          "model_name": "ProgressStyleModel",
          "state": {
            "_view_name": "StyleView",
            "_model_name": "ProgressStyleModel",
            "description_width": "initial",
            "_view_module": "@jupyter-widgets/base",
            "_model_module_version": "1.5.0",
            "_view_count": null,
            "_view_module_version": "1.2.0",
            "bar_color": null,
            "_model_module": "@jupyter-widgets/controls"
          }
        },
        "b6be969dda364e0eb35f49805336da10": {
          "model_module": "@jupyter-widgets/base",
          "model_name": "LayoutModel",
          "state": {
            "_view_name": "LayoutView",
            "grid_template_rows": null,
            "right": null,
            "justify_content": null,
            "_view_module": "@jupyter-widgets/base",
            "overflow": null,
            "_model_module_version": "1.2.0",
            "_view_count": null,
            "flex_flow": null,
            "width": null,
            "min_width": null,
            "border": null,
            "align_items": null,
            "bottom": null,
            "_model_module": "@jupyter-widgets/base",
            "top": null,
            "grid_column": null,
            "overflow_y": null,
            "overflow_x": null,
            "grid_auto_flow": null,
            "grid_area": null,
            "grid_template_columns": null,
            "flex": null,
            "_model_name": "LayoutModel",
            "justify_items": null,
            "grid_row": null,
            "max_height": null,
            "align_content": null,
            "visibility": null,
            "align_self": null,
            "height": null,
            "min_height": null,
            "padding": null,
            "grid_auto_rows": null,
            "grid_gap": null,
            "max_width": null,
            "order": null,
            "_view_module_version": "1.2.0",
            "grid_template_areas": null,
            "object_position": null,
            "object_fit": null,
            "grid_auto_columns": null,
            "margin": null,
            "display": null,
            "left": null
          }
        },
        "f811924bbb5842d28c52d06e507e1ea4": {
          "model_module": "@jupyter-widgets/controls",
          "model_name": "DescriptionStyleModel",
          "state": {
            "_view_name": "StyleView",
            "_model_name": "DescriptionStyleModel",
            "description_width": "",
            "_view_module": "@jupyter-widgets/base",
            "_model_module_version": "1.5.0",
            "_view_count": null,
            "_view_module_version": "1.2.0",
            "_model_module": "@jupyter-widgets/controls"
          }
        },
        "3ae5be61872340b2b02c1a266660eaff": {
          "model_module": "@jupyter-widgets/base",
          "model_name": "LayoutModel",
          "state": {
            "_view_name": "LayoutView",
            "grid_template_rows": null,
            "right": null,
            "justify_content": null,
            "_view_module": "@jupyter-widgets/base",
            "overflow": null,
            "_model_module_version": "1.2.0",
            "_view_count": null,
            "flex_flow": null,
            "width": null,
            "min_width": null,
            "border": null,
            "align_items": null,
            "bottom": null,
            "_model_module": "@jupyter-widgets/base",
            "top": null,
            "grid_column": null,
            "overflow_y": null,
            "overflow_x": null,
            "grid_auto_flow": null,
            "grid_area": null,
            "grid_template_columns": null,
            "flex": null,
            "_model_name": "LayoutModel",
            "justify_items": null,
            "grid_row": null,
            "max_height": null,
            "align_content": null,
            "visibility": null,
            "align_self": null,
            "height": null,
            "min_height": null,
            "padding": null,
            "grid_auto_rows": null,
            "grid_gap": null,
            "max_width": null,
            "order": null,
            "_view_module_version": "1.2.0",
            "grid_template_areas": null,
            "object_position": null,
            "object_fit": null,
            "grid_auto_columns": null,
            "margin": null,
            "display": null,
            "left": null
          }
        },
        "1366e6372b0a470fbd68da0548a5a33c": {
          "model_module": "@jupyter-widgets/controls",
          "model_name": "HBoxModel",
          "state": {
            "_view_name": "HBoxView",
            "_dom_classes": [],
            "_model_name": "HBoxModel",
            "_view_module": "@jupyter-widgets/controls",
            "_model_module_version": "1.5.0",
            "_view_count": null,
            "_view_module_version": "1.5.0",
            "box_style": "",
            "layout": "IPY_MODEL_38df5f2e0ae149e1a9afbb0b961c2e7a",
            "_model_module": "@jupyter-widgets/controls",
            "children": [
              "IPY_MODEL_0adcc2c9686c457986e3146786ba3ca5",
              "IPY_MODEL_5441ee15cf6f45b39bf934bf2a70e78f"
            ]
          }
        },
        "38df5f2e0ae149e1a9afbb0b961c2e7a": {
          "model_module": "@jupyter-widgets/base",
          "model_name": "LayoutModel",
          "state": {
            "_view_name": "LayoutView",
            "grid_template_rows": null,
            "right": null,
            "justify_content": null,
            "_view_module": "@jupyter-widgets/base",
            "overflow": null,
            "_model_module_version": "1.2.0",
            "_view_count": null,
            "flex_flow": null,
            "width": null,
            "min_width": null,
            "border": null,
            "align_items": null,
            "bottom": null,
            "_model_module": "@jupyter-widgets/base",
            "top": null,
            "grid_column": null,
            "overflow_y": null,
            "overflow_x": null,
            "grid_auto_flow": null,
            "grid_area": null,
            "grid_template_columns": null,
            "flex": null,
            "_model_name": "LayoutModel",
            "justify_items": null,
            "grid_row": null,
            "max_height": null,
            "align_content": null,
            "visibility": null,
            "align_self": null,
            "height": null,
            "min_height": null,
            "padding": null,
            "grid_auto_rows": null,
            "grid_gap": null,
            "max_width": null,
            "order": null,
            "_view_module_version": "1.2.0",
            "grid_template_areas": null,
            "object_position": null,
            "object_fit": null,
            "grid_auto_columns": null,
            "margin": null,
            "display": null,
            "left": null
          }
        },
        "0adcc2c9686c457986e3146786ba3ca5": {
          "model_module": "@jupyter-widgets/controls",
          "model_name": "FloatProgressModel",
          "state": {
            "_view_name": "ProgressView",
            "style": "IPY_MODEL_61078271030a406e9f9e747cc646d907",
            "_dom_classes": [],
            "description": "Dl Size...: ",
            "_model_name": "FloatProgressModel",
            "bar_style": "success",
            "max": 1,
            "_view_module": "@jupyter-widgets/controls",
            "_model_module_version": "1.5.0",
            "value": 1,
            "_view_count": null,
            "_view_module_version": "1.5.0",
            "orientation": "horizontal",
            "min": 0,
            "description_tooltip": null,
            "_model_module": "@jupyter-widgets/controls",
            "layout": "IPY_MODEL_c21dd74fbc2b4ed990c20dca09dfe989"
          }
        },
        "5441ee15cf6f45b39bf934bf2a70e78f": {
          "model_module": "@jupyter-widgets/controls",
          "model_name": "HTMLModel",
          "state": {
            "_view_name": "HTMLView",
            "style": "IPY_MODEL_a5ff6d7f29ec4ffea0ba082be22731a4",
            "_dom_classes": [],
            "description": "",
            "_model_name": "HTMLModel",
            "placeholder": "​",
            "_view_module": "@jupyter-widgets/controls",
            "_model_module_version": "1.5.0",
            "value": " 11/0 [00:02&lt;00:00,  4.84 MiB/s]",
            "_view_count": null,
            "_view_module_version": "1.5.0",
            "description_tooltip": null,
            "_model_module": "@jupyter-widgets/controls",
            "layout": "IPY_MODEL_c267648e92824da09b270ad3503be085"
          }
        },
        "61078271030a406e9f9e747cc646d907": {
          "model_module": "@jupyter-widgets/controls",
          "model_name": "ProgressStyleModel",
          "state": {
            "_view_name": "StyleView",
            "_model_name": "ProgressStyleModel",
            "description_width": "initial",
            "_view_module": "@jupyter-widgets/base",
            "_model_module_version": "1.5.0",
            "_view_count": null,
            "_view_module_version": "1.2.0",
            "bar_color": null,
            "_model_module": "@jupyter-widgets/controls"
          }
        },
        "c21dd74fbc2b4ed990c20dca09dfe989": {
          "model_module": "@jupyter-widgets/base",
          "model_name": "LayoutModel",
          "state": {
            "_view_name": "LayoutView",
            "grid_template_rows": null,
            "right": null,
            "justify_content": null,
            "_view_module": "@jupyter-widgets/base",
            "overflow": null,
            "_model_module_version": "1.2.0",
            "_view_count": null,
            "flex_flow": null,
            "width": null,
            "min_width": null,
            "border": null,
            "align_items": null,
            "bottom": null,
            "_model_module": "@jupyter-widgets/base",
            "top": null,
            "grid_column": null,
            "overflow_y": null,
            "overflow_x": null,
            "grid_auto_flow": null,
            "grid_area": null,
            "grid_template_columns": null,
            "flex": null,
            "_model_name": "LayoutModel",
            "justify_items": null,
            "grid_row": null,
            "max_height": null,
            "align_content": null,
            "visibility": null,
            "align_self": null,
            "height": null,
            "min_height": null,
            "padding": null,
            "grid_auto_rows": null,
            "grid_gap": null,
            "max_width": null,
            "order": null,
            "_view_module_version": "1.2.0",
            "grid_template_areas": null,
            "object_position": null,
            "object_fit": null,
            "grid_auto_columns": null,
            "margin": null,
            "display": null,
            "left": null
          }
        },
        "a5ff6d7f29ec4ffea0ba082be22731a4": {
          "model_module": "@jupyter-widgets/controls",
          "model_name": "DescriptionStyleModel",
          "state": {
            "_view_name": "StyleView",
            "_model_name": "DescriptionStyleModel",
            "description_width": "",
            "_view_module": "@jupyter-widgets/base",
            "_model_module_version": "1.5.0",
            "_view_count": null,
            "_view_module_version": "1.2.0",
            "_model_module": "@jupyter-widgets/controls"
          }
        },
        "c267648e92824da09b270ad3503be085": {
          "model_module": "@jupyter-widgets/base",
          "model_name": "LayoutModel",
          "state": {
            "_view_name": "LayoutView",
            "grid_template_rows": null,
            "right": null,
            "justify_content": null,
            "_view_module": "@jupyter-widgets/base",
            "overflow": null,
            "_model_module_version": "1.2.0",
            "_view_count": null,
            "flex_flow": null,
            "width": null,
            "min_width": null,
            "border": null,
            "align_items": null,
            "bottom": null,
            "_model_module": "@jupyter-widgets/base",
            "top": null,
            "grid_column": null,
            "overflow_y": null,
            "overflow_x": null,
            "grid_auto_flow": null,
            "grid_area": null,
            "grid_template_columns": null,
            "flex": null,
            "_model_name": "LayoutModel",
            "justify_items": null,
            "grid_row": null,
            "max_height": null,
            "align_content": null,
            "visibility": null,
            "align_self": null,
            "height": null,
            "min_height": null,
            "padding": null,
            "grid_auto_rows": null,
            "grid_gap": null,
            "max_width": null,
            "order": null,
            "_view_module_version": "1.2.0",
            "grid_template_areas": null,
            "object_position": null,
            "object_fit": null,
            "grid_auto_columns": null,
            "margin": null,
            "display": null,
            "left": null
          }
        },
        "3b65c0c85ee944d6bed66e4f4620d027": {
          "model_module": "@jupyter-widgets/controls",
          "model_name": "HBoxModel",
          "state": {
            "_view_name": "HBoxView",
            "_dom_classes": [],
            "_model_name": "HBoxModel",
            "_view_module": "@jupyter-widgets/controls",
            "_model_module_version": "1.5.0",
            "_view_count": null,
            "_view_module_version": "1.5.0",
            "box_style": "",
            "layout": "IPY_MODEL_1e00555b37e34a08b3807eec9a0a98df",
            "_model_module": "@jupyter-widgets/controls",
            "children": [
              "IPY_MODEL_a2393744da614af08e7ed193f4e5c6a2",
              "IPY_MODEL_7c582180d0d040a68f36b265c782fb04"
            ]
          }
        },
        "1e00555b37e34a08b3807eec9a0a98df": {
          "model_module": "@jupyter-widgets/base",
          "model_name": "LayoutModel",
          "state": {
            "_view_name": "LayoutView",
            "grid_template_rows": null,
            "right": null,
            "justify_content": null,
            "_view_module": "@jupyter-widgets/base",
            "overflow": null,
            "_model_module_version": "1.2.0",
            "_view_count": null,
            "flex_flow": null,
            "width": null,
            "min_width": null,
            "border": null,
            "align_items": null,
            "bottom": null,
            "_model_module": "@jupyter-widgets/base",
            "top": null,
            "grid_column": null,
            "overflow_y": null,
            "overflow_x": null,
            "grid_auto_flow": null,
            "grid_area": null,
            "grid_template_columns": null,
            "flex": null,
            "_model_name": "LayoutModel",
            "justify_items": null,
            "grid_row": null,
            "max_height": null,
            "align_content": null,
            "visibility": null,
            "align_self": null,
            "height": null,
            "min_height": null,
            "padding": null,
            "grid_auto_rows": null,
            "grid_gap": null,
            "max_width": null,
            "order": null,
            "_view_module_version": "1.2.0",
            "grid_template_areas": null,
            "object_position": null,
            "object_fit": null,
            "grid_auto_columns": null,
            "margin": null,
            "display": null,
            "left": null
          }
        },
        "a2393744da614af08e7ed193f4e5c6a2": {
          "model_module": "@jupyter-widgets/controls",
          "model_name": "FloatProgressModel",
          "state": {
            "_view_name": "ProgressView",
            "style": "IPY_MODEL_95a9a9756ed048c293f30c3d757ae5cd",
            "_dom_classes": [],
            "description": "Extraction completed...: 100%",
            "_model_name": "FloatProgressModel",
            "bar_style": "success",
            "max": 1,
            "_view_module": "@jupyter-widgets/controls",
            "_model_module_version": "1.5.0",
            "value": 1,
            "_view_count": null,
            "_view_module_version": "1.5.0",
            "orientation": "horizontal",
            "min": 0,
            "description_tooltip": null,
            "_model_module": "@jupyter-widgets/controls",
            "layout": "IPY_MODEL_c9a87c0c10e44a35a7efe10fb7850a2e"
          }
        },
        "7c582180d0d040a68f36b265c782fb04": {
          "model_module": "@jupyter-widgets/controls",
          "model_name": "HTMLModel",
          "state": {
            "_view_name": "HTMLView",
            "style": "IPY_MODEL_0578ccd725824ba4b966e6c54411a3b6",
            "_dom_classes": [],
            "description": "",
            "_model_name": "HTMLModel",
            "placeholder": "​",
            "_view_module": "@jupyter-widgets/controls",
            "_model_module_version": "1.5.0",
            "value": " 1/1 [00:02&lt;00:00,  2.22s/ file]",
            "_view_count": null,
            "_view_module_version": "1.5.0",
            "description_tooltip": null,
            "_model_module": "@jupyter-widgets/controls",
            "layout": "IPY_MODEL_092eeea8799a4b60b24f7280676b2e51"
          }
        },
        "95a9a9756ed048c293f30c3d757ae5cd": {
          "model_module": "@jupyter-widgets/controls",
          "model_name": "ProgressStyleModel",
          "state": {
            "_view_name": "StyleView",
            "_model_name": "ProgressStyleModel",
            "description_width": "initial",
            "_view_module": "@jupyter-widgets/base",
            "_model_module_version": "1.5.0",
            "_view_count": null,
            "_view_module_version": "1.2.0",
            "bar_color": null,
            "_model_module": "@jupyter-widgets/controls"
          }
        },
        "c9a87c0c10e44a35a7efe10fb7850a2e": {
          "model_module": "@jupyter-widgets/base",
          "model_name": "LayoutModel",
          "state": {
            "_view_name": "LayoutView",
            "grid_template_rows": null,
            "right": null,
            "justify_content": null,
            "_view_module": "@jupyter-widgets/base",
            "overflow": null,
            "_model_module_version": "1.2.0",
            "_view_count": null,
            "flex_flow": null,
            "width": null,
            "min_width": null,
            "border": null,
            "align_items": null,
            "bottom": null,
            "_model_module": "@jupyter-widgets/base",
            "top": null,
            "grid_column": null,
            "overflow_y": null,
            "overflow_x": null,
            "grid_auto_flow": null,
            "grid_area": null,
            "grid_template_columns": null,
            "flex": null,
            "_model_name": "LayoutModel",
            "justify_items": null,
            "grid_row": null,
            "max_height": null,
            "align_content": null,
            "visibility": null,
            "align_self": null,
            "height": null,
            "min_height": null,
            "padding": null,
            "grid_auto_rows": null,
            "grid_gap": null,
            "max_width": null,
            "order": null,
            "_view_module_version": "1.2.0",
            "grid_template_areas": null,
            "object_position": null,
            "object_fit": null,
            "grid_auto_columns": null,
            "margin": null,
            "display": null,
            "left": null
          }
        },
        "0578ccd725824ba4b966e6c54411a3b6": {
          "model_module": "@jupyter-widgets/controls",
          "model_name": "DescriptionStyleModel",
          "state": {
            "_view_name": "StyleView",
            "_model_name": "DescriptionStyleModel",
            "description_width": "",
            "_view_module": "@jupyter-widgets/base",
            "_model_module_version": "1.5.0",
            "_view_count": null,
            "_view_module_version": "1.2.0",
            "_model_module": "@jupyter-widgets/controls"
          }
        },
        "092eeea8799a4b60b24f7280676b2e51": {
          "model_module": "@jupyter-widgets/base",
          "model_name": "LayoutModel",
          "state": {
            "_view_name": "LayoutView",
            "grid_template_rows": null,
            "right": null,
            "justify_content": null,
            "_view_module": "@jupyter-widgets/base",
            "overflow": null,
            "_model_module_version": "1.2.0",
            "_view_count": null,
            "flex_flow": null,
            "width": null,
            "min_width": null,
            "border": null,
            "align_items": null,
            "bottom": null,
            "_model_module": "@jupyter-widgets/base",
            "top": null,
            "grid_column": null,
            "overflow_y": null,
            "overflow_x": null,
            "grid_auto_flow": null,
            "grid_area": null,
            "grid_template_columns": null,
            "flex": null,
            "_model_name": "LayoutModel",
            "justify_items": null,
            "grid_row": null,
            "max_height": null,
            "align_content": null,
            "visibility": null,
            "align_self": null,
            "height": null,
            "min_height": null,
            "padding": null,
            "grid_auto_rows": null,
            "grid_gap": null,
            "max_width": null,
            "order": null,
            "_view_module_version": "1.2.0",
            "grid_template_areas": null,
            "object_position": null,
            "object_fit": null,
            "grid_auto_columns": null,
            "margin": null,
            "display": null,
            "left": null
          }
        },
        "6c22bc14cd544949b64de2efb872279b": {
          "model_module": "@jupyter-widgets/controls",
          "model_name": "HBoxModel",
          "state": {
            "_view_name": "HBoxView",
            "_dom_classes": [],
            "_model_name": "HBoxModel",
            "_view_module": "@jupyter-widgets/controls",
            "_model_module_version": "1.5.0",
            "_view_count": null,
            "_view_module_version": "1.5.0",
            "box_style": "",
            "layout": "IPY_MODEL_f545723f26ae4a01922d8f6feef126e5",
            "_model_module": "@jupyter-widgets/controls",
            "children": [
              "IPY_MODEL_91cdd7b6d27d49ce88a2edb7bc0c4218",
              "IPY_MODEL_946b8add2f924aa7845eb07ce07d4991"
            ]
          }
        },
        "f545723f26ae4a01922d8f6feef126e5": {
          "model_module": "@jupyter-widgets/base",
          "model_name": "LayoutModel",
          "state": {
            "_view_name": "LayoutView",
            "grid_template_rows": null,
            "right": null,
            "justify_content": null,
            "_view_module": "@jupyter-widgets/base",
            "overflow": null,
            "_model_module_version": "1.2.0",
            "_view_count": null,
            "flex_flow": null,
            "width": null,
            "min_width": null,
            "border": null,
            "align_items": null,
            "bottom": null,
            "_model_module": "@jupyter-widgets/base",
            "top": null,
            "grid_column": null,
            "overflow_y": null,
            "overflow_x": null,
            "grid_auto_flow": null,
            "grid_area": null,
            "grid_template_columns": null,
            "flex": null,
            "_model_name": "LayoutModel",
            "justify_items": null,
            "grid_row": null,
            "max_height": null,
            "align_content": null,
            "visibility": null,
            "align_self": null,
            "height": null,
            "min_height": null,
            "padding": null,
            "grid_auto_rows": null,
            "grid_gap": null,
            "max_width": null,
            "order": null,
            "_view_module_version": "1.2.0",
            "grid_template_areas": null,
            "object_position": null,
            "object_fit": null,
            "grid_auto_columns": null,
            "margin": null,
            "display": null,
            "left": null
          }
        },
        "91cdd7b6d27d49ce88a2edb7bc0c4218": {
          "model_module": "@jupyter-widgets/controls",
          "model_name": "FloatProgressModel",
          "state": {
            "_view_name": "ProgressView",
            "style": "IPY_MODEL_7ba9937ee36d4f50a217b4ecdd0c35df",
            "_dom_classes": [],
            "description": "",
            "_model_name": "FloatProgressModel",
            "bar_style": "info",
            "max": 1,
            "_view_module": "@jupyter-widgets/controls",
            "_model_module_version": "1.5.0",
            "value": 1,
            "_view_count": null,
            "_view_module_version": "1.5.0",
            "orientation": "horizontal",
            "min": 0,
            "description_tooltip": null,
            "_model_module": "@jupyter-widgets/controls",
            "layout": "IPY_MODEL_6188a35e82634f19af8a78c957efe9ca"
          }
        },
        "946b8add2f924aa7845eb07ce07d4991": {
          "model_module": "@jupyter-widgets/controls",
          "model_name": "HTMLModel",
          "state": {
            "_view_name": "HTMLView",
            "style": "IPY_MODEL_9de1641d143940fda4b0ebf0b7b130b4",
            "_dom_classes": [],
            "description": "",
            "_model_name": "HTMLModel",
            "placeholder": "​",
            "_view_module": "@jupyter-widgets/controls",
            "_model_module_version": "1.5.0",
            "value": " 2500/0 [00:04&lt;00:00, 524.36 examples/s]",
            "_view_count": null,
            "_view_module_version": "1.5.0",
            "description_tooltip": null,
            "_model_module": "@jupyter-widgets/controls",
            "layout": "IPY_MODEL_b6e34d3192a64aab9a56c6bf75c7f291"
          }
        },
        "7ba9937ee36d4f50a217b4ecdd0c35df": {
          "model_module": "@jupyter-widgets/controls",
          "model_name": "ProgressStyleModel",
          "state": {
            "_view_name": "StyleView",
            "_model_name": "ProgressStyleModel",
            "description_width": "initial",
            "_view_module": "@jupyter-widgets/base",
            "_model_module_version": "1.5.0",
            "_view_count": null,
            "_view_module_version": "1.2.0",
            "bar_color": null,
            "_model_module": "@jupyter-widgets/controls"
          }
        },
        "6188a35e82634f19af8a78c957efe9ca": {
          "model_module": "@jupyter-widgets/base",
          "model_name": "LayoutModel",
          "state": {
            "_view_name": "LayoutView",
            "grid_template_rows": null,
            "right": null,
            "justify_content": null,
            "_view_module": "@jupyter-widgets/base",
            "overflow": null,
            "_model_module_version": "1.2.0",
            "_view_count": null,
            "flex_flow": null,
            "width": null,
            "min_width": null,
            "border": null,
            "align_items": null,
            "bottom": null,
            "_model_module": "@jupyter-widgets/base",
            "top": null,
            "grid_column": null,
            "overflow_y": null,
            "overflow_x": null,
            "grid_auto_flow": null,
            "grid_area": null,
            "grid_template_columns": null,
            "flex": null,
            "_model_name": "LayoutModel",
            "justify_items": null,
            "grid_row": null,
            "max_height": null,
            "align_content": null,
            "visibility": null,
            "align_self": null,
            "height": null,
            "min_height": null,
            "padding": null,
            "grid_auto_rows": null,
            "grid_gap": null,
            "max_width": null,
            "order": null,
            "_view_module_version": "1.2.0",
            "grid_template_areas": null,
            "object_position": null,
            "object_fit": null,
            "grid_auto_columns": null,
            "margin": null,
            "display": null,
            "left": null
          }
        },
        "9de1641d143940fda4b0ebf0b7b130b4": {
          "model_module": "@jupyter-widgets/controls",
          "model_name": "DescriptionStyleModel",
          "state": {
            "_view_name": "StyleView",
            "_model_name": "DescriptionStyleModel",
            "description_width": "",
            "_view_module": "@jupyter-widgets/base",
            "_model_module_version": "1.5.0",
            "_view_count": null,
            "_view_module_version": "1.2.0",
            "_model_module": "@jupyter-widgets/controls"
          }
        },
        "b6e34d3192a64aab9a56c6bf75c7f291": {
          "model_module": "@jupyter-widgets/base",
          "model_name": "LayoutModel",
          "state": {
            "_view_name": "LayoutView",
            "grid_template_rows": null,
            "right": null,
            "justify_content": null,
            "_view_module": "@jupyter-widgets/base",
            "overflow": null,
            "_model_module_version": "1.2.0",
            "_view_count": null,
            "flex_flow": null,
            "width": null,
            "min_width": null,
            "border": null,
            "align_items": null,
            "bottom": null,
            "_model_module": "@jupyter-widgets/base",
            "top": null,
            "grid_column": null,
            "overflow_y": null,
            "overflow_x": null,
            "grid_auto_flow": null,
            "grid_area": null,
            "grid_template_columns": null,
            "flex": null,
            "_model_name": "LayoutModel",
            "justify_items": null,
            "grid_row": null,
            "max_height": null,
            "align_content": null,
            "visibility": null,
            "align_self": null,
            "height": null,
            "min_height": null,
            "padding": null,
            "grid_auto_rows": null,
            "grid_gap": null,
            "max_width": null,
            "order": null,
            "_view_module_version": "1.2.0",
            "grid_template_areas": null,
            "object_position": null,
            "object_fit": null,
            "grid_auto_columns": null,
            "margin": null,
            "display": null,
            "left": null
          }
        },
        "6978edf0193346039741e501923ed0d4": {
          "model_module": "@jupyter-widgets/controls",
          "model_name": "HBoxModel",
          "state": {
            "_view_name": "HBoxView",
            "_dom_classes": [],
            "_model_name": "HBoxModel",
            "_view_module": "@jupyter-widgets/controls",
            "_model_module_version": "1.5.0",
            "_view_count": null,
            "_view_module_version": "1.5.0",
            "box_style": "",
            "layout": "IPY_MODEL_01cc67584d004d05bbe2465a34383054",
            "_model_module": "@jupyter-widgets/controls",
            "children": [
              "IPY_MODEL_b90d083f0c644beab64389bc8bb775d3",
              "IPY_MODEL_b49646dc1ef2488daf26eb4ea545695d"
            ]
          }
        },
        "01cc67584d004d05bbe2465a34383054": {
          "model_module": "@jupyter-widgets/base",
          "model_name": "LayoutModel",
          "state": {
            "_view_name": "LayoutView",
            "grid_template_rows": null,
            "right": null,
            "justify_content": null,
            "_view_module": "@jupyter-widgets/base",
            "overflow": null,
            "_model_module_version": "1.2.0",
            "_view_count": null,
            "flex_flow": null,
            "width": null,
            "min_width": null,
            "border": null,
            "align_items": null,
            "bottom": null,
            "_model_module": "@jupyter-widgets/base",
            "top": null,
            "grid_column": null,
            "overflow_y": null,
            "overflow_x": null,
            "grid_auto_flow": null,
            "grid_area": null,
            "grid_template_columns": null,
            "flex": null,
            "_model_name": "LayoutModel",
            "justify_items": null,
            "grid_row": null,
            "max_height": null,
            "align_content": null,
            "visibility": null,
            "align_self": null,
            "height": null,
            "min_height": null,
            "padding": null,
            "grid_auto_rows": null,
            "grid_gap": null,
            "max_width": null,
            "order": null,
            "_view_module_version": "1.2.0",
            "grid_template_areas": null,
            "object_position": null,
            "object_fit": null,
            "grid_auto_columns": null,
            "margin": null,
            "display": null,
            "left": null
          }
        },
        "b90d083f0c644beab64389bc8bb775d3": {
          "model_module": "@jupyter-widgets/controls",
          "model_name": "FloatProgressModel",
          "state": {
            "_view_name": "ProgressView",
            "style": "IPY_MODEL_42b3047c90e24d61a4eaaccaf9117000",
            "_dom_classes": [],
            "description": " 96%",
            "_model_name": "FloatProgressModel",
            "bar_style": "danger",
            "max": 2500,
            "_view_module": "@jupyter-widgets/controls",
            "_model_module_version": "1.5.0",
            "value": 2392,
            "_view_count": null,
            "_view_module_version": "1.5.0",
            "orientation": "horizontal",
            "min": 0,
            "description_tooltip": null,
            "_model_module": "@jupyter-widgets/controls",
            "layout": "IPY_MODEL_f90d6d2d7a4d40888d370c7f2883c353"
          }
        },
        "b49646dc1ef2488daf26eb4ea545695d": {
          "model_module": "@jupyter-widgets/controls",
          "model_name": "HTMLModel",
          "state": {
            "_view_name": "HTMLView",
            "style": "IPY_MODEL_1891d5933ee84419bc392461455364b9",
            "_dom_classes": [],
            "description": "",
            "_model_name": "HTMLModel",
            "placeholder": "​",
            "_view_module": "@jupyter-widgets/controls",
            "_model_module_version": "1.5.0",
            "value": " 2392/2500 [00:00&lt;00:00, 23919.62 examples/s]",
            "_view_count": null,
            "_view_module_version": "1.5.0",
            "description_tooltip": null,
            "_model_module": "@jupyter-widgets/controls",
            "layout": "IPY_MODEL_438c477b6e9840b1a14fc617ec9238ac"
          }
        },
        "42b3047c90e24d61a4eaaccaf9117000": {
          "model_module": "@jupyter-widgets/controls",
          "model_name": "ProgressStyleModel",
          "state": {
            "_view_name": "StyleView",
            "_model_name": "ProgressStyleModel",
            "description_width": "initial",
            "_view_module": "@jupyter-widgets/base",
            "_model_module_version": "1.5.0",
            "_view_count": null,
            "_view_module_version": "1.2.0",
            "bar_color": null,
            "_model_module": "@jupyter-widgets/controls"
          }
        },
        "f90d6d2d7a4d40888d370c7f2883c353": {
          "model_module": "@jupyter-widgets/base",
          "model_name": "LayoutModel",
          "state": {
            "_view_name": "LayoutView",
            "grid_template_rows": null,
            "right": null,
            "justify_content": null,
            "_view_module": "@jupyter-widgets/base",
            "overflow": null,
            "_model_module_version": "1.2.0",
            "_view_count": null,
            "flex_flow": null,
            "width": null,
            "min_width": null,
            "border": null,
            "align_items": null,
            "bottom": null,
            "_model_module": "@jupyter-widgets/base",
            "top": null,
            "grid_column": null,
            "overflow_y": null,
            "overflow_x": null,
            "grid_auto_flow": null,
            "grid_area": null,
            "grid_template_columns": null,
            "flex": null,
            "_model_name": "LayoutModel",
            "justify_items": null,
            "grid_row": null,
            "max_height": null,
            "align_content": null,
            "visibility": null,
            "align_self": null,
            "height": null,
            "min_height": null,
            "padding": null,
            "grid_auto_rows": null,
            "grid_gap": null,
            "max_width": null,
            "order": null,
            "_view_module_version": "1.2.0",
            "grid_template_areas": null,
            "object_position": null,
            "object_fit": null,
            "grid_auto_columns": null,
            "margin": null,
            "display": null,
            "left": null
          }
        },
        "1891d5933ee84419bc392461455364b9": {
          "model_module": "@jupyter-widgets/controls",
          "model_name": "DescriptionStyleModel",
          "state": {
            "_view_name": "StyleView",
            "_model_name": "DescriptionStyleModel",
            "description_width": "",
            "_view_module": "@jupyter-widgets/base",
            "_model_module_version": "1.5.0",
            "_view_count": null,
            "_view_module_version": "1.2.0",
            "_model_module": "@jupyter-widgets/controls"
          }
        },
        "438c477b6e9840b1a14fc617ec9238ac": {
          "model_module": "@jupyter-widgets/base",
          "model_name": "LayoutModel",
          "state": {
            "_view_name": "LayoutView",
            "grid_template_rows": null,
            "right": null,
            "justify_content": null,
            "_view_module": "@jupyter-widgets/base",
            "overflow": null,
            "_model_module_version": "1.2.0",
            "_view_count": null,
            "flex_flow": null,
            "width": null,
            "min_width": null,
            "border": null,
            "align_items": null,
            "bottom": null,
            "_model_module": "@jupyter-widgets/base",
            "top": null,
            "grid_column": null,
            "overflow_y": null,
            "overflow_x": null,
            "grid_auto_flow": null,
            "grid_area": null,
            "grid_template_columns": null,
            "flex": null,
            "_model_name": "LayoutModel",
            "justify_items": null,
            "grid_row": null,
            "max_height": null,
            "align_content": null,
            "visibility": null,
            "align_self": null,
            "height": null,
            "min_height": null,
            "padding": null,
            "grid_auto_rows": null,
            "grid_gap": null,
            "max_width": null,
            "order": null,
            "_view_module_version": "1.2.0",
            "grid_template_areas": null,
            "object_position": null,
            "object_fit": null,
            "grid_auto_columns": null,
            "margin": null,
            "display": null,
            "left": null
          }
        }
      }
    }
  },
  "cells": [
    {
      "cell_type": "markdown",
      "metadata": {
        "id": "iN4mT0xrlYYY"
      },
      "source": [
        "# ECE 157B/272B Homework 4"
      ]
    },
    {
      "cell_type": "markdown",
      "metadata": {
        "id": "rUIUxkZ-lYYe"
      },
      "source": [
        "#### Submission by: Juan Mendoza-Martinez"
      ]
    },
    {
      "cell_type": "markdown",
      "metadata": {
        "id": "LS6o0XlJ_RrN"
      },
      "source": [
        "#Describe our audio preprocessing at a high level.\n"
      ]
    },
    {
      "cell_type": "markdown",
      "metadata": {
        "id": "DEkUS3eB_Uwo"
      },
      "source": [
        "The audio processing step takes all the sound clips and makes them all one consistent length because the network bottoms are not trained on varying length clips. Next, each clip is analyzed using a function to scan through an identify the frequency components of the sound clip using fourier-transform at varying windows of the clip. "
      ]
    },
    {
      "cell_type": "markdown",
      "metadata": {
        "id": "raQETURyA1eP"
      },
      "source": [
        "# Is there a connection between the number of trainable  parameters and the speed of network training? If so, does increasing the trainable parameter count cause training to speed up or slow down?"
      ]
    },
    {
      "cell_type": "markdown",
      "metadata": {
        "id": "aMCid02YBI5C"
      },
      "source": [
        "Based on data and observations, there is a connection between the number of trainable parameters and speed of network training. Increasing the trainable parameter will cause the speed to slow."
      ]
    },
    {
      "cell_type": "markdown",
      "metadata": {
        "id": "Qsh000bYBuoj"
      },
      "source": [
        "# How did setting the ”bottom” to non-trainable affect the training speed?\n",
        "\n",
        "Setting the bottom to non-trainable sped up the training speed."
      ]
    },
    {
      "cell_type": "markdown",
      "metadata": {
        "id": "2C6fdM7iDxe-"
      },
      "source": [
        "# In your own words, what is being transferred by transfer learning for this specific problem?"
      ]
    },
    {
      "cell_type": "markdown",
      "metadata": {
        "id": "7u1bQnp2DzxQ"
      },
      "source": [
        "For this specific problem, Google Speech Commands are being transferred with pretrained models to a smaller dataset of spoken_digit."
      ]
    },
    {
      "cell_type": "markdown",
      "metadata": {
        "id": "utL73FwpER0K"
      },
      "source": [
        "#  In your own words, what is being transferred by transfer learning in general?"
      ]
    },
    {
      "cell_type": "markdown",
      "metadata": {
        "id": "_CKwW-mZEVpg"
      },
      "source": [
        "A model with pretrained data is used in addition to a new model that is using data familiar to the one used in the pretrained model."
      ]
    },
    {
      "cell_type": "markdown",
      "metadata": {
        "id": "LoERDoBmlYYf"
      },
      "source": [
        "First, we'll import our commonly-used packages:"
      ]
    },
    {
      "cell_type": "code",
      "metadata": {
        "id": "3iAm8H5alYYg"
      },
      "source": [
        "import tensorflow as tf\n",
        "import tensorflow_datasets as tfds\n",
        "import tensorflow.keras.layers as layers\n",
        "import matplotlib.pyplot as plt\n",
        "import numpy as np"
      ],
      "execution_count": 45,
      "outputs": []
    },
    {
      "cell_type": "markdown",
      "metadata": {
        "id": "jn2MAkCMlYYg"
      },
      "source": [
        "To load the *spoken_digit* dataset, you'll need to have the package **pydub** installed. That's what this shell line does:"
      ]
    },
    {
      "cell_type": "code",
      "metadata": {
        "id": "Ouj_sM1clYYh",
        "colab": {
          "base_uri": "https://localhost:8080/"
        },
        "outputId": "5260b9c1-50c9-4653-eff2-4cdfa3934843"
      },
      "source": [
        "!pip install pydub"
      ],
      "execution_count": 2,
      "outputs": [
        {
          "output_type": "stream",
          "text": [
            "Collecting pydub\n",
            "  Downloading https://files.pythonhosted.org/packages/8c/74/e6258e98c8fd43ca8e74a411a3a163ac2f12fc2374d2a609c23442ec90a5/pydub-0.25.0-py2.py3-none-any.whl\n",
            "Installing collected packages: pydub\n",
            "Successfully installed pydub-0.25.0\n"
          ],
          "name": "stdout"
        }
      ]
    },
    {
      "cell_type": "markdown",
      "metadata": {
        "id": "wCziw0tflYYh"
      },
      "source": [
        "# Loading\n",
        "To ease loading the dataset from TensorflowDatasets, this function extracts just the audio and label from the content provided, and lets you specify the splits (e.g. train/test) that are loaded:"
      ]
    },
    {
      "cell_type": "code",
      "metadata": {
        "id": "dJjSoINVlYYh"
      },
      "source": [
        "def load_ds(ds:str, splits=['train','test']):\n",
        "    @tf.function(autograph=False)\n",
        "    def make_supervised(dat):\n",
        "        return dat['audio'],dat['label']\n",
        "\n",
        "    splits = tfds.load(ds,split=splits,try_gcs=True)\n",
        "\n",
        "    return [split.map(make_supervised) for split in splits]"
      ],
      "execution_count": 3,
      "outputs": []
    },
    {
      "cell_type": "markdown",
      "metadata": {
        "id": "lmG3iubAlYYi"
      },
      "source": [
        "Because *spoken_digit* only provides a training dataset, we need to split that dataset into train, validation, and test for our own purposes. This tells Tensorflow Datasets to do that for us."
      ]
    },
    {
      "cell_type": "code",
      "metadata": {
        "id": "GzPMaQGYlYYi",
        "colab": {
          "base_uri": "https://localhost:8080/",
          "height": 318,
          "referenced_widgets": [
            "0078b4b563bb4fd4838144b0e2fd89d0",
            "b38b791668c9415aaf10eb02bf492c11",
            "e35ce548eb5b41e79448dd7e12073832",
            "8668f6a4f1e840859943e66046f7cf8c",
            "647574c4881f446f9c217feb2ec47023",
            "b6be969dda364e0eb35f49805336da10",
            "f811924bbb5842d28c52d06e507e1ea4",
            "3ae5be61872340b2b02c1a266660eaff",
            "1366e6372b0a470fbd68da0548a5a33c",
            "38df5f2e0ae149e1a9afbb0b961c2e7a",
            "0adcc2c9686c457986e3146786ba3ca5",
            "5441ee15cf6f45b39bf934bf2a70e78f",
            "61078271030a406e9f9e747cc646d907",
            "c21dd74fbc2b4ed990c20dca09dfe989",
            "a5ff6d7f29ec4ffea0ba082be22731a4",
            "c267648e92824da09b270ad3503be085",
            "3b65c0c85ee944d6bed66e4f4620d027",
            "1e00555b37e34a08b3807eec9a0a98df",
            "a2393744da614af08e7ed193f4e5c6a2",
            "7c582180d0d040a68f36b265c782fb04",
            "95a9a9756ed048c293f30c3d757ae5cd",
            "c9a87c0c10e44a35a7efe10fb7850a2e",
            "0578ccd725824ba4b966e6c54411a3b6",
            "092eeea8799a4b60b24f7280676b2e51",
            "6c22bc14cd544949b64de2efb872279b",
            "f545723f26ae4a01922d8f6feef126e5",
            "91cdd7b6d27d49ce88a2edb7bc0c4218",
            "946b8add2f924aa7845eb07ce07d4991",
            "7ba9937ee36d4f50a217b4ecdd0c35df",
            "6188a35e82634f19af8a78c957efe9ca",
            "9de1641d143940fda4b0ebf0b7b130b4",
            "b6e34d3192a64aab9a56c6bf75c7f291",
            "6978edf0193346039741e501923ed0d4",
            "01cc67584d004d05bbe2465a34383054",
            "b90d083f0c644beab64389bc8bb775d3",
            "b49646dc1ef2488daf26eb4ea545695d",
            "42b3047c90e24d61a4eaaccaf9117000",
            "f90d6d2d7a4d40888d370c7f2883c353",
            "1891d5933ee84419bc392461455364b9",
            "438c477b6e9840b1a14fc617ec9238ac"
          ]
        },
        "outputId": "442366b9-cc5a-41d0-efd6-c92f4edf709c"
      },
      "source": [
        "raw_train, raw_val, raw_test = \\\n",
        "    load_ds('spoken_digit', \n",
        "            splits=['train[:80%]','train[80%:90%]','train[90%:]'])"
      ],
      "execution_count": 4,
      "outputs": [
        {
          "output_type": "stream",
          "text": [
            "\u001b[1mDownloading and preparing dataset spoken_digit/1.0.9 (download: 11.42 MiB, generated: 45.68 MiB, total: 57.10 MiB) to /root/tensorflow_datasets/spoken_digit/1.0.9...\u001b[0m\n"
          ],
          "name": "stdout"
        },
        {
          "output_type": "display_data",
          "data": {
            "application/vnd.jupyter.widget-view+json": {
              "model_id": "0078b4b563bb4fd4838144b0e2fd89d0",
              "version_minor": 0,
              "version_major": 2
            },
            "text/plain": [
              "HBox(children=(FloatProgress(value=1.0, bar_style='info', description='Dl Completed...', max=1.0, style=Progre…"
            ]
          },
          "metadata": {
            "tags": []
          }
        },
        {
          "output_type": "display_data",
          "data": {
            "application/vnd.jupyter.widget-view+json": {
              "model_id": "1366e6372b0a470fbd68da0548a5a33c",
              "version_minor": 0,
              "version_major": 2
            },
            "text/plain": [
              "HBox(children=(FloatProgress(value=1.0, bar_style='info', description='Dl Size...', max=1.0, style=ProgressSty…"
            ]
          },
          "metadata": {
            "tags": []
          }
        },
        {
          "output_type": "display_data",
          "data": {
            "application/vnd.jupyter.widget-view+json": {
              "model_id": "3b65c0c85ee944d6bed66e4f4620d027",
              "version_minor": 0,
              "version_major": 2
            },
            "text/plain": [
              "HBox(children=(FloatProgress(value=1.0, bar_style='info', description='Extraction completed...', max=1.0, styl…"
            ]
          },
          "metadata": {
            "tags": []
          }
        },
        {
          "output_type": "stream",
          "text": [
            "\n",
            "\n",
            "\n",
            "\n",
            "\n",
            "\n"
          ],
          "name": "stdout"
        },
        {
          "output_type": "display_data",
          "data": {
            "application/vnd.jupyter.widget-view+json": {
              "model_id": "6c22bc14cd544949b64de2efb872279b",
              "version_minor": 0,
              "version_major": 2
            },
            "text/plain": [
              "HBox(children=(FloatProgress(value=1.0, bar_style='info', max=1.0), HTML(value='')))"
            ]
          },
          "metadata": {
            "tags": []
          }
        },
        {
          "output_type": "stream",
          "text": [
            "\rShuffling and writing examples to /root/tensorflow_datasets/spoken_digit/1.0.9.incompleteDFD077/spoken_digit-train.tfrecord\n"
          ],
          "name": "stdout"
        },
        {
          "output_type": "display_data",
          "data": {
            "application/vnd.jupyter.widget-view+json": {
              "model_id": "6978edf0193346039741e501923ed0d4",
              "version_minor": 0,
              "version_major": 2
            },
            "text/plain": [
              "HBox(children=(FloatProgress(value=0.0, max=2500.0), HTML(value='')))"
            ]
          },
          "metadata": {
            "tags": []
          }
        },
        {
          "output_type": "stream",
          "text": [
            "\u001b[1mDataset spoken_digit downloaded and prepared to /root/tensorflow_datasets/spoken_digit/1.0.9. Subsequent calls will reuse this data.\u001b[0m\n"
          ],
          "name": "stdout"
        }
      ]
    },
    {
      "cell_type": "markdown",
      "metadata": {
        "id": "q8dIOQE_lYYi"
      },
      "source": [
        "# Preprocessing"
      ]
    },
    {
      "cell_type": "markdown",
      "metadata": {
        "id": "pBNDR1rMlYYj"
      },
      "source": [
        "Next, we need to take our data of unknown length and fix it to some fixed lengths, so that we can use convolutional neural networks on it.\n",
        "\n",
        "(An alternate approach is to use a recurrent neural network, LSTM, or self-attention to deal with the varying lengths. However, *Google Speech Commands* had fixed-length audio files, so our network bottoms weren't trained with varying lengths in mind!)\n",
        "\n",
        "Below is a function to fix each dataset to 8000 samples, aka one second:"
      ]
    },
    {
      "cell_type": "code",
      "metadata": {
        "id": "ySIGJTcxlYYj"
      },
      "source": [
        "target_sample_count = 8000\n",
        "\n",
        "@tf.function(experimental_relax_shapes=True)\n",
        "def fix_8k_length(waveform, label):\n",
        "    # Pad samples with less than 8000 samples, truncate longer\n",
        "    waveform = tf.cast(waveform,tf.float32)\n",
        "    target_samp_count = tf.constant(target_sample_count,tf.int32)\n",
        "    samp_count = tf.shape(waveform)[0]\n",
        "    if samp_count >= target_samp_count:\n",
        "        waveform = tf.slice(waveform,(0,),(target_samp_count,))\n",
        "    else:\n",
        "        waveform = tf.pad(waveform,[(0,target_samp_count-samp_count)])\n",
        "        \n",
        "    return tf.ensure_shape(waveform,shape=(target_sample_count,)), label"
      ],
      "execution_count": 5,
      "outputs": []
    },
    {
      "cell_type": "markdown",
      "metadata": {
        "id": "dl_JrYAOlYYj"
      },
      "source": [
        "We then apply this function to each of our datasets:"
      ]
    },
    {
      "cell_type": "code",
      "metadata": {
        "id": "d6hCKo4rlYYk"
      },
      "source": [
        "fixed_train = raw_train.map(fix_8k_length)\n",
        "fixed_val = raw_val.map(fix_8k_length)\n",
        "fixed_test = raw_test.map(fix_8k_length)"
      ],
      "execution_count": 6,
      "outputs": []
    },
    {
      "cell_type": "markdown",
      "metadata": {
        "id": "cttZOeJNlYYk"
      },
      "source": [
        "Now that they're all the same length and easier to work with, let's take a look at some of these waveforms:"
      ]
    },
    {
      "cell_type": "code",
      "metadata": {
        "id": "UYglFLNKlYYk",
        "colab": {
          "base_uri": "https://localhost:8080/",
          "height": 863
        },
        "outputId": "70ca8746-83ee-4c38-adc5-b89b05fc1e33"
      },
      "source": [
        "\n",
        "for waveform, label in fixed_train.skip(20).take(3):\n",
        "    tf.print(label)\n",
        "    tf.print(tf.shape(waveform))\n",
        "    plt.figure()\n",
        "    plt.plot(waveform)\n",
        "    plt.show()\n",
        "    # TODO: Show the waveforms with Matplotlib."
      ],
      "execution_count": 7,
      "outputs": [
        {
          "output_type": "stream",
          "text": [
            "4\n",
            "[8000]\n"
          ],
          "name": "stdout"
        },
        {
          "output_type": "display_data",
          "data": {
            "image/png": "[encoded data removed]",
            "text/plain": [
              "<Figure size 432x288 with 1 Axes>"
            ]
          },
          "metadata": {
            "tags": [],
            "needs_background": "light"
          }
        },
        {
          "output_type": "stream",
          "text": [
            "3\n",
            "[8000]\n"
          ],
          "name": "stdout"
        },
        {
          "output_type": "display_data",
          "data": {
            "image/png": "[encoded data removed]",
            "text/plain": [
              "<Figure size 432x288 with 1 Axes>"
            ]
          },
          "metadata": {
            "tags": [],
            "needs_background": "light"
          }
        },
        {
          "output_type": "stream",
          "text": [
            "3\n",
            "[8000]\n"
          ],
          "name": "stdout"
        },
        {
          "output_type": "display_data",
          "data": {
            "image/png": "[encoded data removed]",
            "text/plain": [
              "<Figure size 432x288 with 1 Axes>"
            ]
          },
          "metadata": {
            "tags": [],
            "needs_background": "light"
          }
        }
      ]
    },
    {
      "cell_type": "markdown",
      "metadata": {
        "id": "a3wcKXcYlYYk"
      },
      "source": [
        "Next, we want to extract the short-time Fourier transforms of each waveform. A short-time Fourier transform is like a window that slides along the signal. At each point, it determines the frequency components present in the signal inside the window. This creates a varying estimate of what the signal sounds like over time in bins divided by frequency, which is closer to what the human ear actually hears!\n",
        "\n",
        "Tensorflow provides a function, `tf.stft`, which lets you specify the size of the window and how far you move it each step. The code for making use of it is provided below:"
      ]
    },
    {
      "cell_type": "code",
      "metadata": {
        "id": "Etf2FXiQlYYl"
      },
      "source": [
        "@tf.function(autograph=False) \n",
        "# autograph=False means I have no \"if\" statements or loops and is slightly faster.\n",
        "def get_spectrogram(waveform,label):\n",
        "    # Take the short-time Fourier transform:\n",
        "    spectrogram = tf.signal.stft(waveform,frame_length=255,frame_step=128)\n",
        "    # Remove the imaginary components:\n",
        "    spectrogram = tf.abs(spectrogram)\n",
        "    # Make sure it looks like an image, so we can do 2D convolution on it\n",
        "    spectrogram = tf.expand_dims(spectrogram,axis=-1)\n",
        "\n",
        "    return spectrogram, label"
      ],
      "execution_count": 8,
      "outputs": []
    },
    {
      "cell_type": "markdown",
      "metadata": {
        "id": "QmUnxWPblYYl"
      },
      "source": [
        "We then apply this function to each sample in our datasets:"
      ]
    },
    {
      "cell_type": "code",
      "metadata": {
        "id": "n-7J6xxvlYYl"
      },
      "source": [
        "spec_train = fixed_train.map(get_spectrogram)\n",
        "spec_val = fixed_val.map(get_spectrogram)\n",
        "spec_test = fixed_test.map(get_spectrogram)"
      ],
      "execution_count": 9,
      "outputs": []
    },
    {
      "cell_type": "markdown",
      "metadata": {
        "id": "8btmLwwIlYYm"
      },
      "source": [
        "We can now pull out a few of these spectrograms to look at:"
      ]
    },
    {
      "cell_type": "code",
      "metadata": {
        "id": "SqPTYiO4lYYm",
        "colab": {
          "base_uri": "https://localhost:8080/",
          "height": 695
        },
        "outputId": "d8a5101f-e304-4208-9238-189e111a5761"
      },
      "source": [
        "for spectrogram, label in spec_train.skip(20).take(3):\n",
        "    tf.print(label)\n",
        "    tf.print(tf.shape(spectrogram))\n",
        "    # TODO: Show the spectrograms with Matplotlib.\n",
        "    # Gotta remember to tf.squeeze() out that color dimension.\n",
        "    plt.figure()\n",
        "    plt.imshow(tf.squeeze(spectrogram))\n",
        "    plt.show()"
      ],
      "execution_count": 10,
      "outputs": [
        {
          "output_type": "stream",
          "text": [
            "4\n",
            "[61 129 1]\n"
          ],
          "name": "stdout"
        },
        {
          "output_type": "display_data",
          "data": {
            "image/png": "[encoded data removed]",
            "text/plain": [
              "<Figure size 432x288 with 1 Axes>"
            ]
          },
          "metadata": {
            "tags": [],
            "needs_background": "light"
          }
        },
        {
          "output_type": "stream",
          "text": [
            "3\n",
            "[61 129 1]\n"
          ],
          "name": "stdout"
        },
        {
          "output_type": "display_data",
          "data": {
            "image/png": "[encoded data removed]",
            "text/plain": [
              "<Figure size 432x288 with 1 Axes>"
            ]
          },
          "metadata": {
            "tags": [],
            "needs_background": "light"
          }
        },
        {
          "output_type": "stream",
          "text": [
            "3\n",
            "[61 129 1]\n"
          ],
          "name": "stdout"
        },
        {
          "output_type": "display_data",
          "data": {
            "image/png": "[encoded data removed]",
            "text/plain": [
              "<Figure size 432x288 with 1 Axes>"
            ]
          },
          "metadata": {
            "tags": [],
            "needs_background": "light"
          }
        }
      ]
    },
    {
      "cell_type": "markdown",
      "metadata": {
        "id": "jjVbqxbalYYm"
      },
      "source": [
        "To make sure that our network is learning effectively (and doesn't get caught in a cycle of learning and unlearning something) we need to shuffle the data every time we come through for it. Luckily, Tensorflow Datasets have a nice `.shuffle()` method to help us out with that:"
      ]
    },
    {
      "cell_type": "code",
      "metadata": {
        "id": "FOLvCelBlYYm"
      },
      "source": [
        "def shuffle_ds(ds):\n",
        "    return ds.shuffle(ds.cardinality(),reshuffle_each_iteration=True)"
      ],
      "execution_count": 11,
      "outputs": []
    },
    {
      "cell_type": "markdown",
      "metadata": {
        "id": "3PmX5piolYYm"
      },
      "source": [
        "We also want to train our networks with batches of data, to make best use of our computing resources, so we have a function to make those batches:"
      ]
    },
    {
      "cell_type": "code",
      "metadata": {
        "id": "-S7AeH77lYYn"
      },
      "source": [
        "batch_size=64\n",
        "\n",
        "def batch_ds(ds):\n",
        "    return ds.batch(batch_size).prefetch(tf.data.experimental.AUTOTUNE)"
      ],
      "execution_count": 12,
      "outputs": []
    },
    {
      "cell_type": "markdown",
      "metadata": {
        "id": "fEnpMAuKlYYn"
      },
      "source": [
        "Let's apply the shuffles and batching to our datasets to produce what we'll actually give to the optimizer:"
      ]
    },
    {
      "cell_type": "code",
      "metadata": {
        "id": "93hNOvxJlYYn"
      },
      "source": [
        "# Shuffle before we batch to make sure we get different batches each run\n",
        "train_ds = batch_ds(shuffle_ds(spec_train))\n",
        "# Training and testing don't need shuffling.\n",
        "# For them we don't care about order, just accuracy!\n",
        "val_ds = batch_ds(spec_val)\n",
        "test_ds = batch_ds(spec_test)"
      ],
      "execution_count": 13,
      "outputs": []
    },
    {
      "cell_type": "code",
      "metadata": {
        "colab": {
          "base_uri": "https://localhost:8080/"
        },
        "id": "7Jhl8FYJVLT6",
        "outputId": "1f920b6c-846e-4336-d46a-f2d0fe91422e"
      },
      "source": [
        "np_val = np.asarray(val_ds)\n",
        "np_val"
      ],
      "execution_count": 14,
      "outputs": [
        {
          "output_type": "execute_result",
          "data": {
            "text/plain": [
              "array(<PrefetchDataset shapes: ((None, 61, 129, 1), (None,)), types: (tf.float32, tf.int64)>,\n",
              "      dtype=object)"
            ]
          },
          "metadata": {
            "tags": []
          },
          "execution_count": 14
        }
      ]
    },
    {
      "cell_type": "markdown",
      "metadata": {
        "id": "PNUekHrzlYYn"
      },
      "source": [
        "Now we're ready to declare and train models!"
      ]
    },
    {
      "cell_type": "markdown",
      "metadata": {
        "id": "VgA3P_rolYYo"
      },
      "source": [
        "# Your own model!"
      ]
    },
    {
      "cell_type": "code",
      "metadata": {
        "id": "NdkXsbX0lYYo"
      },
      "source": [
        "# TODO: Make a good ol' fasioned model\n",
        "# When your model is ready, to train it you'll use something like\n",
        "# history = my_model_name.fit(train_ds,epochs=24,validation_data=val_ds)\n",
        "# Remember: Compile your model before training.\n",
        "# Our labels are integers; which loss can convert a one-hot vector to an integer?\n",
        "\n",
        "#Define Model\n"
      ],
      "execution_count": 15,
      "outputs": []
    },
    {
      "cell_type": "code",
      "metadata": {
        "colab": {
          "base_uri": "https://localhost:8080/"
        },
        "id": "vNLRAdDI3uwA",
        "outputId": "0cbe52dd-f268-4273-c1a3-cf2e68bc5f42"
      },
      "source": [
        "main_model = tf.keras.Sequential()\n",
        "main_model.add(tf.keras.layers.Input(shape = (61,129,1)))\n",
        "main_model.add(tf.keras.layers.Conv2D(32,3, activation='relu'))\n",
        "main_model.add(tf.keras.layers.Conv2D(64,3, activation='relu'))\n",
        "main_model.add(tf.keras.layers.Dropout(0.25))\n",
        "main_model.add(tf.keras.layers.Flatten())\n",
        "main_model.add(tf.keras.layers.Dense(64, activation='relu'))\n",
        "main_model.add(tf.keras.layers.Dense(10))\n",
        "\n",
        "main_model.summary()\n",
        "\n",
        "main_model.compile(\n",
        "    optimizer = tf.keras.optimizers.Adam(),\n",
        "    loss = tf.keras.losses.SparseCategoricalCrossentropy(from_logits=True),\n",
        "    metrics = ['accuracy'])\n",
        "hist_main = main_model.fit(train_ds, epochs=24, validation_data=val_ds)"
      ],
      "execution_count": 44,
      "outputs": [
        {
          "output_type": "stream",
          "text": [
            "Model: \"sequential_5\"\n",
            "_________________________________________________________________\n",
            "Layer (type)                 Output Shape              Param #   \n",
            "=================================================================\n",
            "conv2d_10 (Conv2D)           (None, 59, 127, 32)       320       \n",
            "_________________________________________________________________\n",
            "conv2d_11 (Conv2D)           (None, 57, 125, 64)       18496     \n",
            "_________________________________________________________________\n",
            "dropout_5 (Dropout)          (None, 57, 125, 64)       0         \n",
            "_________________________________________________________________\n",
            "flatten_5 (Flatten)          (None, 456000)            0         \n",
            "_________________________________________________________________\n",
            "dense_10 (Dense)             (None, 64)                29184064  \n",
            "_________________________________________________________________\n",
            "dense_11 (Dense)             (None, 10)                650       \n",
            "=================================================================\n",
            "Total params: 29,203,530\n",
            "Trainable params: 29,203,530\n",
            "Non-trainable params: 0\n",
            "_________________________________________________________________\n",
            "Epoch 1/24\n",
            "32/32 [==============================] - 68s 2s/step - loss: 20471.1891 - accuracy: 0.2419 - val_loss: 3.5579 - val_accuracy: 0.1280\n",
            "Epoch 2/24\n",
            "32/32 [==============================] - 67s 2s/step - loss: 3.9504 - accuracy: 0.1707 - val_loss: 3.8485 - val_accuracy: 0.1120\n",
            "Epoch 3/24\n",
            "32/32 [==============================] - 67s 2s/step - loss: 2.6553 - accuracy: 0.1879 - val_loss: 7.6065 - val_accuracy: 0.1240\n",
            "Epoch 4/24\n",
            "32/32 [==============================] - 67s 2s/step - loss: 2.4671 - accuracy: 0.2214 - val_loss: 15.7143 - val_accuracy: 0.1320\n",
            "Epoch 5/24\n",
            "32/32 [==============================] - 68s 2s/step - loss: 2.3827 - accuracy: 0.2074 - val_loss: 7.0781 - val_accuracy: 0.1760\n",
            "Epoch 6/24\n",
            "32/32 [==============================] - 67s 2s/step - loss: 2.1205 - accuracy: 0.2769 - val_loss: 10.1091 - val_accuracy: 0.1720\n",
            "Epoch 7/24\n",
            "32/32 [==============================] - 67s 2s/step - loss: 2.0827 - accuracy: 0.3017 - val_loss: 12.7542 - val_accuracy: 0.1720\n",
            "Epoch 8/24\n",
            "32/32 [==============================] - 67s 2s/step - loss: 2.0098 - accuracy: 0.3069 - val_loss: 15.7394 - val_accuracy: 0.2000\n",
            "Epoch 9/24\n",
            "32/32 [==============================] - 67s 2s/step - loss: 2.3731 - accuracy: 0.2915 - val_loss: 14.8157 - val_accuracy: 0.2280\n",
            "Epoch 10/24\n",
            "32/32 [==============================] - 68s 2s/step - loss: 2.0684 - accuracy: 0.3571 - val_loss: 8.0118 - val_accuracy: 0.2600\n",
            "Epoch 11/24\n",
            "32/32 [==============================] - 68s 2s/step - loss: 1.8312 - accuracy: 0.3967 - val_loss: 11.1545 - val_accuracy: 0.2080\n",
            "Epoch 12/24\n",
            "32/32 [==============================] - 67s 2s/step - loss: 1.9417 - accuracy: 0.4243 - val_loss: 6.6618 - val_accuracy: 0.2720\n",
            "Epoch 13/24\n",
            "32/32 [==============================] - 67s 2s/step - loss: 1.6802 - accuracy: 0.4359 - val_loss: 6.6642 - val_accuracy: 0.2440\n",
            "Epoch 14/24\n",
            "32/32 [==============================] - 69s 2s/step - loss: 1.7429 - accuracy: 0.4373 - val_loss: 12.9201 - val_accuracy: 0.2840\n",
            "Epoch 15/24\n",
            "32/32 [==============================] - 68s 2s/step - loss: 1.5637 - accuracy: 0.4504 - val_loss: 12.0332 - val_accuracy: 0.2720\n",
            "Epoch 16/24\n",
            "32/32 [==============================] - 68s 2s/step - loss: 1.5977 - accuracy: 0.4989 - val_loss: 16.5054 - val_accuracy: 0.2440\n",
            "Epoch 17/24\n",
            "32/32 [==============================] - 68s 2s/step - loss: 1.4842 - accuracy: 0.4867 - val_loss: 8.9050 - val_accuracy: 0.3280\n",
            "Epoch 18/24\n",
            "32/32 [==============================] - 68s 2s/step - loss: 1.4847 - accuracy: 0.5374 - val_loss: 13.1701 - val_accuracy: 0.3240\n",
            "Epoch 19/24\n",
            "32/32 [==============================] - 67s 2s/step - loss: 1.4094 - accuracy: 0.5314 - val_loss: 10.5236 - val_accuracy: 0.3560\n",
            "Epoch 20/24\n",
            "32/32 [==============================] - 67s 2s/step - loss: 1.3680 - accuracy: 0.5553 - val_loss: 9.5270 - val_accuracy: 0.3400\n",
            "Epoch 21/24\n",
            "32/32 [==============================] - 67s 2s/step - loss: 1.2571 - accuracy: 0.5765 - val_loss: 14.6875 - val_accuracy: 0.3520\n",
            "Epoch 22/24\n",
            "32/32 [==============================] - 68s 2s/step - loss: 1.2965 - accuracy: 0.5650 - val_loss: 10.3329 - val_accuracy: 0.3760\n",
            "Epoch 23/24\n",
            "32/32 [==============================] - 68s 2s/step - loss: 1.2318 - accuracy: 0.5988 - val_loss: 16.9243 - val_accuracy: 0.3920\n",
            "Epoch 24/24\n",
            "32/32 [==============================] - 69s 2s/step - loss: 2.0992 - accuracy: 0.5695 - val_loss: 4.6680 - val_accuracy: 0.3720\n"
          ],
          "name": "stdout"
        }
      ]
    },
    {
      "cell_type": "markdown",
      "metadata": {
        "id": "MJD14kdnlYYo"
      },
      "source": [
        "# Loading others' bottoms"
      ]
    },
    {
      "cell_type": "code",
      "metadata": {
        "id": "DrVDzRg1lYYp",
        "colab": {
          "base_uri": "https://localhost:8080/"
        },
        "outputId": "987e9207-d93c-4329-a56b-4748dc2b6adf"
      },
      "source": [
        "# TODO: Load bottoms, attach them to tops and train models\n",
        "# tf.keras.models.load_model() sounds useful...\n",
        "# Gotta keep their histories too, or at least the accuracy and loss data\n",
        "model_A = tf.keras.models.load_model('/content/bottom_A.h5', compile=False)\n",
        "\n",
        "model_A.trainable = True\n",
        "\n",
        "new_model = tf.keras.Sequential()\n",
        "new_model.add(tf.keras.layers.Input(shape = (61,129,1)))\n",
        "new_model.add(model_A)\n",
        "new_model.add(tf.keras.layers.Conv2D(32,3, activation='relu'))\n",
        "new_model.add(tf.keras.layers.Conv2D(64,3, activation='relu'))\n",
        "new_model.add(tf.keras.layers.Dropout(0.25))\n",
        "new_model.add(tf.keras.layers.Flatten())\n",
        "new_model.add(tf.keras.layers.Dense(64, activation='relu'))\n",
        "new_model.add(tf.keras.layers.Dense(10))\n",
        "\n",
        "new_model.summary()"
      ],
      "execution_count": 16,
      "outputs": [
        {
          "output_type": "stream",
          "text": [
            "Model: \"sequential\"\n",
            "_________________________________________________________________\n",
            "Layer (type)                 Output Shape              Param #   \n",
            "=================================================================\n",
            "bottom (Sequential)          (None, 12, 5, 32)         14988     \n",
            "_________________________________________________________________\n",
            "conv2d (Conv2D)              (None, 10, 3, 32)         9248      \n",
            "_________________________________________________________________\n",
            "conv2d_1 (Conv2D)            (None, 8, 1, 64)          18496     \n",
            "_________________________________________________________________\n",
            "dropout (Dropout)            (None, 8, 1, 64)          0         \n",
            "_________________________________________________________________\n",
            "flatten (Flatten)            (None, 512)               0         \n",
            "_________________________________________________________________\n",
            "dense (Dense)                (None, 64)                32832     \n",
            "_________________________________________________________________\n",
            "dense_1 (Dense)              (None, 10)                650       \n",
            "=================================================================\n",
            "Total params: 76,214\n",
            "Trainable params: 76,214\n",
            "Non-trainable params: 0\n",
            "_________________________________________________________________\n"
          ],
          "name": "stdout"
        }
      ]
    },
    {
      "cell_type": "code",
      "metadata": {
        "id": "tkgC2zmzcOA5"
      },
      "source": [
        "new_model.compile(\n",
        "    optimizer = tf.keras.optimizers.Adam(),\n",
        "    loss = tf.keras.losses.SparseCategoricalCrossentropy(from_logits=True),\n",
        "    metrics = ['accuracy'])\n",
        "\n"
      ],
      "execution_count": 17,
      "outputs": []
    },
    {
      "cell_type": "code",
      "metadata": {
        "colab": {
          "base_uri": "https://localhost:8080/"
        },
        "id": "OGCUC9bTclRF",
        "outputId": "da9bd60e-2e74-4f4d-8c7a-6d64b13bbc83"
      },
      "source": [
        "hist_A = new_model.fit(train_ds, epochs=24, validation_data=val_ds)"
      ],
      "execution_count": 18,
      "outputs": [
        {
          "output_type": "stream",
          "text": [
            "Epoch 1/24\n",
            "32/32 [==============================] - 59s 2s/step - loss: 2.1283 - accuracy: 0.2286 - val_loss: 0.9257 - val_accuracy: 0.7400\n",
            "Epoch 2/24\n",
            "32/32 [==============================] - 57s 2s/step - loss: 0.8001 - accuracy: 0.7518 - val_loss: 0.4811 - val_accuracy: 0.8640\n",
            "Epoch 3/24\n",
            "32/32 [==============================] - 56s 2s/step - loss: 0.3705 - accuracy: 0.8750 - val_loss: 0.3072 - val_accuracy: 0.9200\n",
            "Epoch 4/24\n",
            "32/32 [==============================] - 60s 2s/step - loss: 0.2375 - accuracy: 0.9371 - val_loss: 0.2774 - val_accuracy: 0.9120\n",
            "Epoch 5/24\n",
            "32/32 [==============================] - 57s 2s/step - loss: 0.1765 - accuracy: 0.9519 - val_loss: 0.1842 - val_accuracy: 0.9560\n",
            "Epoch 6/24\n",
            "32/32 [==============================] - 57s 2s/step - loss: 0.1462 - accuracy: 0.9539 - val_loss: 0.1791 - val_accuracy: 0.9560\n",
            "Epoch 7/24\n",
            "32/32 [==============================] - 57s 2s/step - loss: 0.0950 - accuracy: 0.9685 - val_loss: 0.1632 - val_accuracy: 0.9600\n",
            "Epoch 8/24\n",
            "32/32 [==============================] - 57s 2s/step - loss: 0.0547 - accuracy: 0.9818 - val_loss: 0.2271 - val_accuracy: 0.9320\n",
            "Epoch 9/24\n",
            "32/32 [==============================] - 57s 2s/step - loss: 0.1226 - accuracy: 0.9591 - val_loss: 0.1478 - val_accuracy: 0.9680\n",
            "Epoch 10/24\n",
            "32/32 [==============================] - 57s 2s/step - loss: 0.0895 - accuracy: 0.9715 - val_loss: 0.1196 - val_accuracy: 0.9680\n",
            "Epoch 11/24\n",
            "32/32 [==============================] - 57s 2s/step - loss: 0.0552 - accuracy: 0.9841 - val_loss: 0.1768 - val_accuracy: 0.9440\n",
            "Epoch 12/24\n",
            "32/32 [==============================] - 57s 2s/step - loss: 0.0495 - accuracy: 0.9836 - val_loss: 0.0940 - val_accuracy: 0.9560\n",
            "Epoch 13/24\n",
            "32/32 [==============================] - 58s 2s/step - loss: 0.0273 - accuracy: 0.9943 - val_loss: 0.1126 - val_accuracy: 0.9560\n",
            "Epoch 14/24\n",
            "32/32 [==============================] - 57s 2s/step - loss: 0.0368 - accuracy: 0.9877 - val_loss: 0.1460 - val_accuracy: 0.9480\n",
            "Epoch 15/24\n",
            "32/32 [==============================] - 57s 2s/step - loss: 0.0187 - accuracy: 0.9965 - val_loss: 0.0973 - val_accuracy: 0.9640\n",
            "Epoch 16/24\n",
            "32/32 [==============================] - 57s 2s/step - loss: 0.0192 - accuracy: 0.9936 - val_loss: 0.0853 - val_accuracy: 0.9760\n",
            "Epoch 17/24\n",
            "32/32 [==============================] - 57s 2s/step - loss: 0.0514 - accuracy: 0.9867 - val_loss: 0.1260 - val_accuracy: 0.9680\n",
            "Epoch 18/24\n",
            "32/32 [==============================] - 57s 2s/step - loss: 0.0230 - accuracy: 0.9939 - val_loss: 0.1625 - val_accuracy: 0.9440\n",
            "Epoch 19/24\n",
            "32/32 [==============================] - 57s 2s/step - loss: 0.0725 - accuracy: 0.9820 - val_loss: 0.2031 - val_accuracy: 0.9440\n",
            "Epoch 20/24\n",
            "32/32 [==============================] - 57s 2s/step - loss: 0.0548 - accuracy: 0.9838 - val_loss: 0.1053 - val_accuracy: 0.9720\n",
            "Epoch 21/24\n",
            "32/32 [==============================] - 57s 2s/step - loss: 0.0283 - accuracy: 0.9918 - val_loss: 0.1859 - val_accuracy: 0.9440\n",
            "Epoch 22/24\n",
            "32/32 [==============================] - 57s 2s/step - loss: 0.0464 - accuracy: 0.9827 - val_loss: 0.0606 - val_accuracy: 0.9800\n",
            "Epoch 23/24\n",
            "32/32 [==============================] - 58s 2s/step - loss: 0.0163 - accuracy: 0.9965 - val_loss: 0.0780 - val_accuracy: 0.9680\n",
            "Epoch 24/24\n",
            "32/32 [==============================] - 58s 2s/step - loss: 0.0079 - accuracy: 0.9986 - val_loss: 0.0761 - val_accuracy: 0.9800\n"
          ],
          "name": "stdout"
        }
      ]
    },
    {
      "cell_type": "code",
      "metadata": {
        "id": "phAgqD9nlXCi"
      },
      "source": [
        "np.save('/content/hist_A.npy', hist_A.history)"
      ],
      "execution_count": 19,
      "outputs": []
    },
    {
      "cell_type": "code",
      "metadata": {
        "colab": {
          "base_uri": "https://localhost:8080/"
        },
        "id": "IWij7BvCl8mb",
        "outputId": "0a6d9cdc-a8d7-426c-c15d-d1034fd0c84f"
      },
      "source": [
        "model_B = tf.keras.models.load_model('/content/bottom_B.h5', compile=False)\n",
        "\n",
        "model_B.trainable = True\n",
        "\n",
        "new_model = tf.keras.Sequential()\n",
        "new_model.add(tf.keras.layers.Input(shape = (61,129,1)))\n",
        "new_model.add(model_B)\n",
        "new_model.add(tf.keras.layers.Conv2D(32,3, activation='relu'))\n",
        "new_model.add(tf.keras.layers.Conv2D(64,3, activation='relu'))\n",
        "new_model.add(tf.keras.layers.Dropout(0.25))\n",
        "new_model.add(tf.keras.layers.Flatten())\n",
        "new_model.add(tf.keras.layers.Dense(64, activation='relu'))\n",
        "new_model.add(tf.keras.layers.Dense(10))\n",
        "\n",
        "new_model.summary()"
      ],
      "execution_count": 20,
      "outputs": [
        {
          "output_type": "stream",
          "text": [
            "Model: \"sequential_1\"\n",
            "_________________________________________________________________\n",
            "Layer (type)                 Output Shape              Param #   \n",
            "=================================================================\n",
            "sequential (Sequential)      (None, 12, 5, 32)         14988     \n",
            "_________________________________________________________________\n",
            "conv2d_2 (Conv2D)            (None, 10, 3, 32)         9248      \n",
            "_________________________________________________________________\n",
            "conv2d_3 (Conv2D)            (None, 8, 1, 64)          18496     \n",
            "_________________________________________________________________\n",
            "dropout_1 (Dropout)          (None, 8, 1, 64)          0         \n",
            "_________________________________________________________________\n",
            "flatten_1 (Flatten)          (None, 512)               0         \n",
            "_________________________________________________________________\n",
            "dense_2 (Dense)              (None, 64)                32832     \n",
            "_________________________________________________________________\n",
            "dense_3 (Dense)              (None, 10)                650       \n",
            "=================================================================\n",
            "Total params: 76,214\n",
            "Trainable params: 76,214\n",
            "Non-trainable params: 0\n",
            "_________________________________________________________________\n"
          ],
          "name": "stdout"
        }
      ]
    },
    {
      "cell_type": "code",
      "metadata": {
        "colab": {
          "base_uri": "https://localhost:8080/"
        },
        "id": "rfXckG7zmJKh",
        "outputId": "e6dbc6c0-e1ca-409f-d180-b76b88cf85f9"
      },
      "source": [
        "new_model.compile(\n",
        "    optimizer = tf.keras.optimizers.Adam(),\n",
        "    loss = tf.keras.losses.SparseCategoricalCrossentropy(from_logits=True),\n",
        "    metrics = ['accuracy'])\n",
        "hist_B = new_model.fit(train_ds, epochs=24, validation_data=val_ds)"
      ],
      "execution_count": 21,
      "outputs": [
        {
          "output_type": "stream",
          "text": [
            "Epoch 1/24\n",
            "32/32 [==============================] - 58s 2s/step - loss: 2.1460 - accuracy: 0.2472 - val_loss: 1.1801 - val_accuracy: 0.5720\n",
            "Epoch 2/24\n",
            "32/32 [==============================] - 57s 2s/step - loss: 0.9329 - accuracy: 0.6830 - val_loss: 0.5769 - val_accuracy: 0.8160\n",
            "Epoch 3/24\n",
            "32/32 [==============================] - 57s 2s/step - loss: 0.4793 - accuracy: 0.8266 - val_loss: 0.4809 - val_accuracy: 0.8960\n",
            "Epoch 4/24\n",
            "32/32 [==============================] - 57s 2s/step - loss: 0.3071 - accuracy: 0.8997 - val_loss: 0.3527 - val_accuracy: 0.8880\n",
            "Epoch 5/24\n",
            "32/32 [==============================] - 57s 2s/step - loss: 0.2106 - accuracy: 0.9302 - val_loss: 0.3407 - val_accuracy: 0.9080\n",
            "Epoch 6/24\n",
            "32/32 [==============================] - 57s 2s/step - loss: 0.1751 - accuracy: 0.9400 - val_loss: 0.2216 - val_accuracy: 0.9480\n",
            "Epoch 7/24\n",
            "32/32 [==============================] - 57s 2s/step - loss: 0.1784 - accuracy: 0.9424 - val_loss: 0.1526 - val_accuracy: 0.9480\n",
            "Epoch 8/24\n",
            "32/32 [==============================] - 57s 2s/step - loss: 0.0889 - accuracy: 0.9769 - val_loss: 0.2135 - val_accuracy: 0.9360\n",
            "Epoch 9/24\n",
            "32/32 [==============================] - 57s 2s/step - loss: 0.0940 - accuracy: 0.9705 - val_loss: 0.2978 - val_accuracy: 0.9200\n",
            "Epoch 10/24\n",
            "32/32 [==============================] - 57s 2s/step - loss: 0.1364 - accuracy: 0.9601 - val_loss: 0.1412 - val_accuracy: 0.9440\n",
            "Epoch 11/24\n",
            "32/32 [==============================] - 57s 2s/step - loss: 0.0987 - accuracy: 0.9715 - val_loss: 0.1930 - val_accuracy: 0.9400\n",
            "Epoch 12/24\n",
            "32/32 [==============================] - 57s 2s/step - loss: 0.0560 - accuracy: 0.9821 - val_loss: 0.1153 - val_accuracy: 0.9720\n",
            "Epoch 13/24\n",
            "32/32 [==============================] - 57s 2s/step - loss: 0.0560 - accuracy: 0.9849 - val_loss: 0.1301 - val_accuracy: 0.9600\n",
            "Epoch 14/24\n",
            "32/32 [==============================] - 57s 2s/step - loss: 0.0388 - accuracy: 0.9857 - val_loss: 0.1140 - val_accuracy: 0.9680\n",
            "Epoch 15/24\n",
            "32/32 [==============================] - 57s 2s/step - loss: 0.0150 - accuracy: 0.9966 - val_loss: 0.1186 - val_accuracy: 0.9680\n",
            "Epoch 16/24\n",
            "32/32 [==============================] - 57s 2s/step - loss: 0.0190 - accuracy: 0.9934 - val_loss: 0.0926 - val_accuracy: 0.9760\n",
            "Epoch 17/24\n",
            "32/32 [==============================] - 57s 2s/step - loss: 0.0194 - accuracy: 0.9925 - val_loss: 0.1095 - val_accuracy: 0.9680\n",
            "Epoch 18/24\n",
            "32/32 [==============================] - 57s 2s/step - loss: 0.0273 - accuracy: 0.9920 - val_loss: 0.1495 - val_accuracy: 0.9560\n",
            "Epoch 19/24\n",
            "32/32 [==============================] - 57s 2s/step - loss: 0.1058 - accuracy: 0.9739 - val_loss: 0.3169 - val_accuracy: 0.9600\n",
            "Epoch 20/24\n",
            "32/32 [==============================] - 57s 2s/step - loss: 0.1537 - accuracy: 0.9596 - val_loss: 0.2986 - val_accuracy: 0.9200\n",
            "Epoch 21/24\n",
            "32/32 [==============================] - 57s 2s/step - loss: 0.0925 - accuracy: 0.9719 - val_loss: 0.1547 - val_accuracy: 0.9600\n",
            "Epoch 22/24\n",
            "32/32 [==============================] - 57s 2s/step - loss: 0.0383 - accuracy: 0.9892 - val_loss: 0.1242 - val_accuracy: 0.9640\n",
            "Epoch 23/24\n",
            "32/32 [==============================] - 57s 2s/step - loss: 0.0467 - accuracy: 0.9839 - val_loss: 0.1497 - val_accuracy: 0.9640\n",
            "Epoch 24/24\n",
            "32/32 [==============================] - 57s 2s/step - loss: 0.0433 - accuracy: 0.9880 - val_loss: 0.1078 - val_accuracy: 0.9680\n"
          ],
          "name": "stdout"
        }
      ]
    },
    {
      "cell_type": "code",
      "metadata": {
        "id": "6JCCNkuzu9rt"
      },
      "source": [
        "np.save('/content/hist_B.npy', hist_B.history)"
      ],
      "execution_count": 22,
      "outputs": []
    },
    {
      "cell_type": "markdown",
      "metadata": {
        "id": "W7jaN7volYYp"
      },
      "source": [
        "# Non-trainable bottoms"
      ]
    },
    {
      "cell_type": "markdown",
      "metadata": {
        "id": "-EvVs6BgdofR"
      },
      "source": [
        ""
      ]
    },
    {
      "cell_type": "code",
      "metadata": {
        "id": "-XKNONsjlYYp",
        "colab": {
          "base_uri": "https://localhost:8080/"
        },
        "outputId": "a5c04764-9e16-4407-d2ce-220015cd4908"
      },
      "source": [
        "# TODO: Load a bottom, set it untrainable, then attach it to a top.\n",
        "# The attribute to set to False should be `modelname.trainable`\n",
        "# Gotta keep its history too\n",
        "model_C = tf.keras.models.load_model('/content/bottom_C.h5', compile=False)\n",
        "\n",
        "model_C.trainable = False\n",
        "\n",
        "new_model = tf.keras.Sequential()\n",
        "new_model.add(tf.keras.layers.Input(shape = (61,129,1)))\n",
        "new_model.add(model_C)\n",
        "new_model.add(tf.keras.layers.Conv2D(32,3, activation='relu'))\n",
        "new_model.add(tf.keras.layers.Conv2D(64,3, activation='relu'))\n",
        "new_model.add(tf.keras.layers.Dropout(0.25))\n",
        "new_model.add(tf.keras.layers.Flatten())\n",
        "new_model.add(tf.keras.layers.Dense(64, activation='relu'))\n",
        "new_model.add(tf.keras.layers.Dense(10))\n",
        "\n",
        "new_model.summary()"
      ],
      "execution_count": 23,
      "outputs": [
        {
          "output_type": "stream",
          "text": [
            "Model: \"sequential_2\"\n",
            "_________________________________________________________________\n",
            "Layer (type)                 Output Shape              Param #   \n",
            "=================================================================\n",
            "bottom (Sequential)          (None, 12, 5, 32)         14988     \n",
            "_________________________________________________________________\n",
            "conv2d_4 (Conv2D)            (None, 10, 3, 32)         9248      \n",
            "_________________________________________________________________\n",
            "conv2d_5 (Conv2D)            (None, 8, 1, 64)          18496     \n",
            "_________________________________________________________________\n",
            "dropout_2 (Dropout)          (None, 8, 1, 64)          0         \n",
            "_________________________________________________________________\n",
            "flatten_2 (Flatten)          (None, 512)               0         \n",
            "_________________________________________________________________\n",
            "dense_4 (Dense)              (None, 64)                32832     \n",
            "_________________________________________________________________\n",
            "dense_5 (Dense)              (None, 10)                650       \n",
            "=================================================================\n",
            "Total params: 76,214\n",
            "Trainable params: 61,226\n",
            "Non-trainable params: 14,988\n",
            "_________________________________________________________________\n"
          ],
          "name": "stdout"
        }
      ]
    },
    {
      "cell_type": "code",
      "metadata": {
        "colab": {
          "base_uri": "https://localhost:8080/"
        },
        "id": "qdG8F1IZvM3U",
        "outputId": "dc642d2e-f9ee-418f-8d8e-c084ee043a12"
      },
      "source": [
        "new_model.compile(\n",
        "    optimizer = tf.keras.optimizers.Adam(),\n",
        "    loss = tf.keras.losses.SparseCategoricalCrossentropy(from_logits=True),\n",
        "    metrics = ['accuracy'])\n",
        "hist_C = new_model.fit(train_ds, epochs=24, validation_data=val_ds)"
      ],
      "execution_count": 24,
      "outputs": [
        {
          "output_type": "stream",
          "text": [
            "Epoch 1/24\n",
            "32/32 [==============================] - 25s 649ms/step - loss: 2.2072 - accuracy: 0.2224 - val_loss: 1.5343 - val_accuracy: 0.5080\n",
            "Epoch 2/24\n",
            "32/32 [==============================] - 24s 645ms/step - loss: 1.3684 - accuracy: 0.5497 - val_loss: 0.9104 - val_accuracy: 0.7160\n",
            "Epoch 3/24\n",
            "32/32 [==============================] - 24s 643ms/step - loss: 0.8039 - accuracy: 0.7534 - val_loss: 0.6723 - val_accuracy: 0.7640\n",
            "Epoch 4/24\n",
            "32/32 [==============================] - 24s 644ms/step - loss: 0.5885 - accuracy: 0.8185 - val_loss: 0.4840 - val_accuracy: 0.8480\n",
            "Epoch 5/24\n",
            "32/32 [==============================] - 24s 644ms/step - loss: 0.4490 - accuracy: 0.8638 - val_loss: 0.4012 - val_accuracy: 0.8880\n",
            "Epoch 6/24\n",
            "32/32 [==============================] - 24s 644ms/step - loss: 0.3654 - accuracy: 0.8920 - val_loss: 0.3542 - val_accuracy: 0.8920\n",
            "Epoch 7/24\n",
            "32/32 [==============================] - 24s 642ms/step - loss: 0.3087 - accuracy: 0.9006 - val_loss: 0.2791 - val_accuracy: 0.9240\n",
            "Epoch 8/24\n",
            "32/32 [==============================] - 24s 642ms/step - loss: 0.2694 - accuracy: 0.9194 - val_loss: 0.2533 - val_accuracy: 0.9240\n",
            "Epoch 9/24\n",
            "32/32 [==============================] - 24s 643ms/step - loss: 0.2190 - accuracy: 0.9324 - val_loss: 0.2363 - val_accuracy: 0.9280\n",
            "Epoch 10/24\n",
            "32/32 [==============================] - 24s 644ms/step - loss: 0.2473 - accuracy: 0.9240 - val_loss: 0.2638 - val_accuracy: 0.9200\n",
            "Epoch 11/24\n",
            "32/32 [==============================] - 24s 644ms/step - loss: 0.1599 - accuracy: 0.9587 - val_loss: 0.2204 - val_accuracy: 0.9200\n",
            "Epoch 12/24\n",
            "32/32 [==============================] - 24s 644ms/step - loss: 0.1660 - accuracy: 0.9535 - val_loss: 0.1841 - val_accuracy: 0.9480\n",
            "Epoch 13/24\n",
            "32/32 [==============================] - 24s 643ms/step - loss: 0.1530 - accuracy: 0.9587 - val_loss: 0.2183 - val_accuracy: 0.9240\n",
            "Epoch 14/24\n",
            "32/32 [==============================] - 24s 644ms/step - loss: 0.1297 - accuracy: 0.9613 - val_loss: 0.1653 - val_accuracy: 0.9520\n",
            "Epoch 15/24\n",
            "32/32 [==============================] - 24s 644ms/step - loss: 0.1248 - accuracy: 0.9625 - val_loss: 0.1678 - val_accuracy: 0.9600\n",
            "Epoch 16/24\n",
            "32/32 [==============================] - 24s 643ms/step - loss: 0.1428 - accuracy: 0.9589 - val_loss: 0.1632 - val_accuracy: 0.9520\n",
            "Epoch 17/24\n",
            "32/32 [==============================] - 24s 644ms/step - loss: 0.1263 - accuracy: 0.9592 - val_loss: 0.1375 - val_accuracy: 0.9600\n",
            "Epoch 18/24\n",
            "32/32 [==============================] - 24s 643ms/step - loss: 0.0866 - accuracy: 0.9725 - val_loss: 0.1837 - val_accuracy: 0.9320\n",
            "Epoch 19/24\n",
            "32/32 [==============================] - 24s 643ms/step - loss: 0.0902 - accuracy: 0.9720 - val_loss: 0.1846 - val_accuracy: 0.9320\n",
            "Epoch 20/24\n",
            "32/32 [==============================] - 24s 646ms/step - loss: 0.0832 - accuracy: 0.9749 - val_loss: 0.1656 - val_accuracy: 0.9560\n",
            "Epoch 21/24\n",
            "32/32 [==============================] - 24s 643ms/step - loss: 0.0852 - accuracy: 0.9752 - val_loss: 0.1439 - val_accuracy: 0.9520\n",
            "Epoch 22/24\n",
            "32/32 [==============================] - 24s 645ms/step - loss: 0.0615 - accuracy: 0.9827 - val_loss: 0.1833 - val_accuracy: 0.9560\n",
            "Epoch 23/24\n",
            "32/32 [==============================] - 24s 646ms/step - loss: 0.0636 - accuracy: 0.9839 - val_loss: 0.1302 - val_accuracy: 0.9680\n",
            "Epoch 24/24\n",
            "32/32 [==============================] - 24s 643ms/step - loss: 0.0641 - accuracy: 0.9820 - val_loss: 0.1642 - val_accuracy: 0.9440\n"
          ],
          "name": "stdout"
        }
      ]
    },
    {
      "cell_type": "code",
      "metadata": {
        "id": "4MeRfVUn0M1U"
      },
      "source": [
        "np.save('/content/hist_C.npy', hist_C.history)"
      ],
      "execution_count": 25,
      "outputs": []
    },
    {
      "cell_type": "code",
      "metadata": {
        "id": "XBEq9_aP1KVD",
        "colab": {
          "base_uri": "https://localhost:8080/"
        },
        "outputId": "b667ee74-f048-4396-9895-58bfd592bea0"
      },
      "source": [
        "model_fav = tf.keras.models.load_model('/content/bottom_A.h5', compile=False)\n",
        "\n",
        "model_fav.trainable = False\n",
        "\n",
        "new_model = tf.keras.Sequential()\n",
        "new_model.add(tf.keras.layers.Input(shape = (61,129,1)))\n",
        "new_model.add(model_fav)\n",
        "new_model.add(tf.keras.layers.Conv2D(32,3, activation='relu'))\n",
        "new_model.add(tf.keras.layers.Conv2D(64,3, activation='relu'))\n",
        "new_model.add(tf.keras.layers.Dropout(0.25))\n",
        "new_model.add(tf.keras.layers.Flatten())\n",
        "new_model.add(tf.keras.layers.Dense(64, activation='relu'))\n",
        "new_model.add(tf.keras.layers.Dense(10))\n",
        "\n",
        "new_model.summary()"
      ],
      "execution_count": 26,
      "outputs": [
        {
          "output_type": "stream",
          "text": [
            "Model: \"sequential_3\"\n",
            "_________________________________________________________________\n",
            "Layer (type)                 Output Shape              Param #   \n",
            "=================================================================\n",
            "bottom (Sequential)          (None, 12, 5, 32)         14988     \n",
            "_________________________________________________________________\n",
            "conv2d_6 (Conv2D)            (None, 10, 3, 32)         9248      \n",
            "_________________________________________________________________\n",
            "conv2d_7 (Conv2D)            (None, 8, 1, 64)          18496     \n",
            "_________________________________________________________________\n",
            "dropout_3 (Dropout)          (None, 8, 1, 64)          0         \n",
            "_________________________________________________________________\n",
            "flatten_3 (Flatten)          (None, 512)               0         \n",
            "_________________________________________________________________\n",
            "dense_6 (Dense)              (None, 64)                32832     \n",
            "_________________________________________________________________\n",
            "dense_7 (Dense)              (None, 10)                650       \n",
            "=================================================================\n",
            "Total params: 76,214\n",
            "Trainable params: 61,226\n",
            "Non-trainable params: 14,988\n",
            "_________________________________________________________________\n"
          ],
          "name": "stdout"
        }
      ]
    },
    {
      "cell_type": "code",
      "metadata": {
        "colab": {
          "base_uri": "https://localhost:8080/"
        },
        "id": "yKJoQ620fyX6",
        "outputId": "22d32d66-8f7b-422e-8902-34e064889eee"
      },
      "source": [
        "new_model.compile(\n",
        "    optimizer = tf.keras.optimizers.Adam(),\n",
        "    loss = tf.keras.losses.SparseCategoricalCrossentropy(from_logits=True),\n",
        "    metrics = ['accuracy'])\n",
        "hist_fav = new_model.fit(train_ds, epochs=24, validation_data=val_ds)"
      ],
      "execution_count": 27,
      "outputs": [
        {
          "output_type": "stream",
          "text": [
            "Epoch 1/24\n",
            "32/32 [==============================] - 25s 651ms/step - loss: 2.2011 - accuracy: 0.2065 - val_loss: 1.4493 - val_accuracy: 0.5400\n",
            "Epoch 2/24\n",
            "32/32 [==============================] - 24s 643ms/step - loss: 1.2484 - accuracy: 0.5955 - val_loss: 0.7661 - val_accuracy: 0.7840\n",
            "Epoch 3/24\n",
            "32/32 [==============================] - 24s 644ms/step - loss: 0.7381 - accuracy: 0.7471 - val_loss: 0.5356 - val_accuracy: 0.8280\n",
            "Epoch 4/24\n",
            "32/32 [==============================] - 24s 645ms/step - loss: 0.4521 - accuracy: 0.8590 - val_loss: 0.4317 - val_accuracy: 0.8720\n",
            "Epoch 5/24\n",
            "32/32 [==============================] - 24s 643ms/step - loss: 0.4006 - accuracy: 0.8679 - val_loss: 0.4116 - val_accuracy: 0.8720\n",
            "Epoch 6/24\n",
            "32/32 [==============================] - 24s 646ms/step - loss: 0.3273 - accuracy: 0.8838 - val_loss: 0.3803 - val_accuracy: 0.8960\n",
            "Epoch 7/24\n",
            "32/32 [==============================] - 24s 643ms/step - loss: 0.2579 - accuracy: 0.9173 - val_loss: 0.3142 - val_accuracy: 0.9080\n",
            "Epoch 8/24\n",
            "32/32 [==============================] - 24s 647ms/step - loss: 0.2177 - accuracy: 0.9342 - val_loss: 0.2975 - val_accuracy: 0.9120\n",
            "Epoch 9/24\n",
            "32/32 [==============================] - 24s 649ms/step - loss: 0.2107 - accuracy: 0.9347 - val_loss: 0.2815 - val_accuracy: 0.9240\n",
            "Epoch 10/24\n",
            "32/32 [==============================] - 24s 646ms/step - loss: 0.1799 - accuracy: 0.9425 - val_loss: 0.2740 - val_accuracy: 0.9240\n",
            "Epoch 11/24\n",
            "32/32 [==============================] - 24s 648ms/step - loss: 0.1437 - accuracy: 0.9586 - val_loss: 0.2893 - val_accuracy: 0.9240\n",
            "Epoch 12/24\n",
            "32/32 [==============================] - 24s 645ms/step - loss: 0.1527 - accuracy: 0.9536 - val_loss: 0.2560 - val_accuracy: 0.9360\n",
            "Epoch 13/24\n",
            "32/32 [==============================] - 24s 645ms/step - loss: 0.1213 - accuracy: 0.9621 - val_loss: 0.2338 - val_accuracy: 0.9320\n",
            "Epoch 14/24\n",
            "32/32 [==============================] - 24s 646ms/step - loss: 0.1108 - accuracy: 0.9686 - val_loss: 0.2389 - val_accuracy: 0.9400\n",
            "Epoch 15/24\n",
            "32/32 [==============================] - 24s 645ms/step - loss: 0.0979 - accuracy: 0.9701 - val_loss: 0.2200 - val_accuracy: 0.9400\n",
            "Epoch 16/24\n",
            "32/32 [==============================] - 24s 647ms/step - loss: 0.0875 - accuracy: 0.9737 - val_loss: 0.1765 - val_accuracy: 0.9560\n",
            "Epoch 17/24\n",
            "32/32 [==============================] - 24s 649ms/step - loss: 0.1041 - accuracy: 0.9718 - val_loss: 0.2031 - val_accuracy: 0.9480\n",
            "Epoch 18/24\n",
            "32/32 [==============================] - 24s 649ms/step - loss: 0.0892 - accuracy: 0.9758 - val_loss: 0.1972 - val_accuracy: 0.9560\n",
            "Epoch 19/24\n",
            "32/32 [==============================] - 24s 649ms/step - loss: 0.0668 - accuracy: 0.9833 - val_loss: 0.1941 - val_accuracy: 0.9520\n",
            "Epoch 20/24\n",
            "32/32 [==============================] - 24s 648ms/step - loss: 0.0598 - accuracy: 0.9834 - val_loss: 0.2018 - val_accuracy: 0.9480\n",
            "Epoch 21/24\n",
            "32/32 [==============================] - 24s 649ms/step - loss: 0.0679 - accuracy: 0.9796 - val_loss: 0.2115 - val_accuracy: 0.9520\n",
            "Epoch 22/24\n",
            "32/32 [==============================] - 24s 650ms/step - loss: 0.0659 - accuracy: 0.9787 - val_loss: 0.2102 - val_accuracy: 0.9560\n",
            "Epoch 23/24\n",
            "32/32 [==============================] - 24s 656ms/step - loss: 0.0608 - accuracy: 0.9832 - val_loss: 0.2249 - val_accuracy: 0.9560\n",
            "Epoch 24/24\n",
            "32/32 [==============================] - 24s 655ms/step - loss: 0.0580 - accuracy: 0.9836 - val_loss: 0.2205 - val_accuracy: 0.9480\n"
          ],
          "name": "stdout"
        }
      ]
    },
    {
      "cell_type": "code",
      "metadata": {
        "id": "cM-SkR-Lf1nL"
      },
      "source": [
        "np.save('/content/hist_fav.npy', hist_fav.history)"
      ],
      "execution_count": 28,
      "outputs": []
    },
    {
      "cell_type": "markdown",
      "metadata": {
        "id": "tqcCkbKElYYp"
      },
      "source": [
        "# Performance comparison"
      ]
    },
    {
      "cell_type": "code",
      "metadata": {
        "id": "ouFNPkZklYYq",
        "colab": {
          "base_uri": "https://localhost:8080/",
          "height": 295
        },
        "outputId": "f983771b-f20c-4be7-cc2a-375ab41ef304"
      },
      "source": [
        "# TODO: Plot accuracies and losses of all five networks trained so far \n",
        "#  onto two plots:\n",
        "# + one for accuracies\n",
        "# + one for losses\n",
        "# Gotta remember labels!\n",
        "plt.plot(hist_A.history['accuracy'], label = 'History A')\n",
        "plt.plot(hist_B.history['accuracy'], label = 'History B')\n",
        "plt.plot(hist_C.history['accuracy'], label = 'History C')\n",
        "plt.plot(hist_fav.history['accuracy'], label = 'History Favorite')\n",
        "plt.title('accuracy vs epoch')\n",
        "plt.ylabel('accuracy')\n",
        "plt.xlabel('epoch')\n",
        "plt.legend()\n",
        "plt.show()"
      ],
      "execution_count": 40,
      "outputs": [
        {
          "output_type": "display_data",
          "data": {
            "image/png": "[encoded data removed]",
            "text/plain": [
              "<Figure size 432x288 with 1 Axes>"
            ]
          },
          "metadata": {
            "tags": [],
            "needs_background": "light"
          }
        }
      ]
    },
    {
      "cell_type": "code",
      "metadata": {
        "colab": {
          "base_uri": "https://localhost:8080/",
          "height": 295
        },
        "id": "WMIBR8ozzQDN",
        "outputId": "5b92761f-b99c-4398-c47c-a8d99d1e5675"
      },
      "source": [
        "plt.plot(hist_A.history['val_accuracy'], label = 'History A')\n",
        "plt.plot(hist_B.history['val_accuracy'], label = 'History B')\n",
        "plt.plot(hist_C.history['val_accuracy'], label = 'History C')\n",
        "plt.plot(hist_fav.history['val_accuracy'], label = 'History Favorite')\n",
        "plt.title('Validation accuracy vs Epoch')\n",
        "plt.ylabel('accuracy')\n",
        "plt.xlabel('epoch')\n",
        "plt.legend()\n",
        "plt.show()"
      ],
      "execution_count": 41,
      "outputs": [
        {
          "output_type": "display_data",
          "data": {
            "image/png": "[encoded data removed]",
            "text/plain": [
              "<Figure size 432x288 with 1 Axes>"
            ]
          },
          "metadata": {
            "tags": [],
            "needs_background": "light"
          }
        }
      ]
    },
    {
      "cell_type": "code",
      "metadata": {
        "colab": {
          "base_uri": "https://localhost:8080/",
          "height": 295
        },
        "id": "vibtwSTUzd2Z",
        "outputId": "c00c6761-4740-4765-9cde-39bc82947138"
      },
      "source": [
        "plt.plot(hist_A.history['loss'], label = 'History A')\n",
        "plt.plot(hist_B.history['loss'], label = 'History B')\n",
        "plt.plot(hist_C.history['loss'], label = 'History C')\n",
        "plt.plot(hist_fav.history['loss'], label = 'History Favorite')\n",
        "plt.title('loss vs epoch')\n",
        "plt.ylabel('loss')\n",
        "plt.xlabel('epoch')\n",
        "plt.legend()\n",
        "plt.show()"
      ],
      "execution_count": 42,
      "outputs": [
        {
          "output_type": "display_data",
          "data": {
            "image/png": "[encoded data removed]",
            "text/plain": [
              "<Figure size 432x288 with 1 Axes>"
            ]
          },
          "metadata": {
            "tags": [],
            "needs_background": "light"
          }
        }
      ]
    },
    {
      "cell_type": "markdown",
      "metadata": {
        "id": "JlcOHKMeB_jv"
      },
      "source": [
        "###Examine your plot from the Workflow.\n",
        "(1 pts) Which network did best, in your eyes? Worst?\n",
        "\n",
        "The network with Bottom A did best. The network with Bottom C did worst.\n",
        "\n",
        "(1 pts) Did any networks seem to overfit to the data?\n",
        "\n",
        "Bottom C network seemed to overfit to the data based on comparison with accuracy and validation accuracy.\n",
        "\n",
        "(1 pts) Did the networks with pretrained bottoms have any surprising behaviour? Rapid initial growth? Starting at a higher first accuracy?\n",
        "\n",
        "By analyzing at each epoch, it can be observed that the model with bottom A had a higher accuracy first at Epoch 4. Model with bottom B had a faster loss decline in comparison to the other models. "
      ]
    }
  ]
}