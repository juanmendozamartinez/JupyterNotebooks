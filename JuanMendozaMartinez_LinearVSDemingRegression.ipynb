{
  "nbformat": 4,
  "nbformat_minor": 0,
  "metadata": {
    "colab": {
      "name": "JuanMendozaMartinez-LinearVSDemingRegression.ipynb",
      "provenance": [],
      "collapsed_sections": [],
      "toc_visible": true
    },
    "kernelspec": {
      "name": "python3",
      "display_name": "Python 3"
    },
    "language_info": {
      "name": "python"
    }
  },
  "cells": [
    {
      "cell_type": "markdown",
      "metadata": {
        "id": "6X9SbpLPgRjc"
      },
      "source": [
        "### **Due Date: Friday, April 16, 5PM PDT, on Gradescope.**\n"
      ]
    },
    {
      "cell_type": "markdown",
      "metadata": {
        "id": "ogSkkESOdnMM"
      },
      "source": [
        "# Submission instructions\n",
        "\n",
        "1. Copy this notebook into your own Google drive with its original name (for example, you can copy this notebook to a folder named `ECE180` that you create in your Google Drive).\n",
        "2. Work on your own copy and after you are done, make sure all your code has executed and output of the code (if any) is visible below each code block for full credit. You are given skeleton code for Problem 1 and 2 below.\n",
        "3. To submit to gradescope, download this notebook as a pdf (using `nbconvert` - instructions mentioned below and summarized in point 4, 5 here) after executing all code blocks and rename the pdf to ECE180-S21-HW2-FirstName-LastName-PermNumber.pdf and then submit. **Note**: **When submitting your pdf to gradescope, please indicate the pages where your answers are located.**\n",
        "4. Note: the default location for Google drive after you mount it (see below for how to mounting) `/content/drive/MyDrive`.\n",
        "5. Say that the location of this notebook on your google drive is in a folder `ECE180`. Then, the full path for the notebook in Google Colab with its original name would be: `/content/drive/MyDrive/ECE180/ECE180-S21-HW2.ipynb`. Towards the end of this notebook, you will see the command to convert this notebook to pdf, which would be saved as /content/drive/MyDrive/ECE180/ECE180-S21-HW2.pdf. This is the pdf you will rename (point 3) and submit."
      ]
    },
    {
      "cell_type": "markdown",
      "metadata": {
        "id": "lD9yWx64wnhe"
      },
      "source": [
        "# Preliminary steps:\n",
        "1.   Run code below to mount the Google drive (in some cases, you may need to enter the authorization code for this after following the link that might show). Note: you can view the contents of Google Drive in Google Colab in the left panel after mounting it (you might need to refresh the folders to see). The location for Google Drive after you mount it is `/content/drive/MyDrive`."
      ]
    },
    {
      "cell_type": "code",
      "metadata": {
        "id": "beDjDHphv_8E",
        "colab": {
          "base_uri": "https://localhost:8080/"
        },
        "outputId": "cd46a986-6b99-485b-ded2-21481331fcb2"
      },
      "source": [
        "## might need to enter authorization code\n",
        "from google.colab import drive\n",
        "drive.mount('/content/drive/')"
      ],
      "execution_count": null,
      "outputs": [
        {
          "output_type": "stream",
          "text": [
            "Drive already mounted at /content/drive/; to attempt to forcibly remount, call drive.mount(\"/content/drive/\", force_remount=True).\n"
          ],
          "name": "stdout"
        }
      ]
    },
    {
      "cell_type": "markdown",
      "metadata": {
        "id": "9AmZ4aOJwqgb"
      },
      "source": [
        "\n",
        "2.   Next, let us install the dependencies you will need to convert this notebook to pdf (point 3 of submission instructions) using `nbconvert` utility for submission to Gradescope. To install `nbconvert`, run the following commands - make sure they complete without any errors - seek help on the Gauchospace forums or from TAs if you encounter errors. \n",
        "Watch out for a prompt to press ENTER - you have to respond by clicking below the prompt to reveal a text box and then press enter.\n",
        "NOTE: in order to reduce the size of this notebook, the output of the following code cell can be deleted (by clicking the 'x' icon that shows up in the top left of the cell output, before saving this notebook as a pdf)."
      ]
    },
    {
      "cell_type": "code",
      "metadata": {
        "id": "PjU8lCD1dmgy",
        "colab": {
          "base_uri": "https://localhost:8080/",
          "height": 1000
        },
        "outputId": "50ed86a6-7a0b-4e23-aac6-0890bb62f8d1"
      },
      "source": [
        "!git clone https://github.com/jupyter/nbconvert.git\n",
        "%cd nbconvert\n",
        "!pip install -e .;\n",
        "%cd /content/\n",
        "!apt-get -q install pandoc\n",
        "!apt-get -qq update\n",
        "!apt-get -qq install inkscape\n",
        "!add-apt-repository universe\n",
        "!add-apt-repository ppa:inkscape.dev/stable\n",
        "!apt-get -qq update\n",
        "!apt -qq install inkscape\n",
        "!apt-get -qq install texlive-xetex texlive-fonts-recommended texlive-generic-recommended"
      ],
      "execution_count": null,
      "outputs": [
        {
          "output_type": "stream",
          "text": [
            "Cloning into 'nbconvert'...\n",
            "remote: Enumerating objects: 19638, done.\u001b[K\n",
            "remote: Counting objects: 100% (78/78), done.\u001b[K\n",
            "remote: Compressing objects: 100% (60/60), done.\u001b[K\n",
            "remote: Total 19638 (delta 42), reused 31 (delta 18), pack-reused 19560\u001b[K\n",
            "Receiving objects: 100% (19638/19638), 4.12 MiB | 21.09 MiB/s, done.\n",
            "Resolving deltas: 100% (13403/13403), done.\n",
            "/content/nbconvert\n",
            "Obtaining file:///content/nbconvert\n",
            "Requirement already satisfied: mistune<2,>=0.8.1 in /usr/local/lib/python3.7/dist-packages (from nbconvert==6.0.8.dev0) (0.8.4)\n",
            "Requirement already satisfied: jinja2>=2.4 in /usr/local/lib/python3.7/dist-packages (from nbconvert==6.0.8.dev0) (2.11.3)\n",
            "Requirement already satisfied: pygments>=2.4.1 in /usr/local/lib/python3.7/dist-packages (from nbconvert==6.0.8.dev0) (2.6.1)\n",
            "Requirement already satisfied: jupyterlab_pygments in /usr/local/lib/python3.7/dist-packages (from nbconvert==6.0.8.dev0) (0.1.2)\n",
            "Requirement already satisfied: traitlets>=5.0 in /usr/local/lib/python3.7/dist-packages (from nbconvert==6.0.8.dev0) (5.0.5)\n",
            "Requirement already satisfied: jupyter_core in /usr/local/lib/python3.7/dist-packages (from nbconvert==6.0.8.dev0) (4.7.1)\n",
            "Requirement already satisfied: nbformat>=4.4 in /usr/local/lib/python3.7/dist-packages (from nbconvert==6.0.8.dev0) (5.1.3)\n",
            "Requirement already satisfied: entrypoints>=0.2.2 in /usr/local/lib/python3.7/dist-packages (from nbconvert==6.0.8.dev0) (0.3)\n",
            "Requirement already satisfied: bleach in /usr/local/lib/python3.7/dist-packages (from nbconvert==6.0.8.dev0) (3.3.0)\n",
            "Requirement already satisfied: pandocfilters>=1.4.1 in /usr/local/lib/python3.7/dist-packages (from nbconvert==6.0.8.dev0) (1.4.3)\n",
            "Requirement already satisfied: testpath in /usr/local/lib/python3.7/dist-packages (from nbconvert==6.0.8.dev0) (0.4.4)\n",
            "Requirement already satisfied: defusedxml in /usr/local/lib/python3.7/dist-packages (from nbconvert==6.0.8.dev0) (0.7.1)\n",
            "Requirement already satisfied: nbclient<0.6.0,>=0.5.0 in /usr/local/lib/python3.7/dist-packages (from nbconvert==6.0.8.dev0) (0.5.3)\n",
            "Requirement already satisfied: MarkupSafe>=0.23 in /usr/local/lib/python3.7/dist-packages (from jinja2>=2.4->nbconvert==6.0.8.dev0) (1.1.1)\n",
            "Requirement already satisfied: ipython-genutils in /usr/local/lib/python3.7/dist-packages (from traitlets>=5.0->nbconvert==6.0.8.dev0) (0.2.0)\n",
            "Requirement already satisfied: jsonschema!=2.5.0,>=2.4 in /usr/local/lib/python3.7/dist-packages (from nbformat>=4.4->nbconvert==6.0.8.dev0) (2.6.0)\n",
            "Requirement already satisfied: six>=1.9.0 in /usr/local/lib/python3.7/dist-packages (from bleach->nbconvert==6.0.8.dev0) (1.15.0)\n",
            "Requirement already satisfied: packaging in /usr/local/lib/python3.7/dist-packages (from bleach->nbconvert==6.0.8.dev0) (20.9)\n",
            "Requirement already satisfied: webencodings in /usr/local/lib/python3.7/dist-packages (from bleach->nbconvert==6.0.8.dev0) (0.5.1)\n",
            "Collecting jupyter-client>=6.1.5\n",
            "\u001b[?25l  Downloading https://files.pythonhosted.org/packages/77/e8/c3cf72a32a697256608d5fa96360c431adec6e1c6709ba7f13f99ff5ee04/jupyter_client-6.1.12-py3-none-any.whl (112kB)\n",
            "\u001b[K     |████████████████████████████████| 122kB 8.5MB/s \n",
            "\u001b[?25hRequirement already satisfied: nest-asyncio in /usr/local/lib/python3.7/dist-packages (from nbclient<0.6.0,>=0.5.0->nbconvert==6.0.8.dev0) (1.5.1)\n",
            "Requirement already satisfied: async-generator in /usr/local/lib/python3.7/dist-packages (from nbclient<0.6.0,>=0.5.0->nbconvert==6.0.8.dev0) (1.10)\n",
            "Requirement already satisfied: pyparsing>=2.0.2 in /usr/local/lib/python3.7/dist-packages (from packaging->bleach->nbconvert==6.0.8.dev0) (2.4.7)\n",
            "Requirement already satisfied: pyzmq>=13 in /usr/local/lib/python3.7/dist-packages (from jupyter-client>=6.1.5->nbclient<0.6.0,>=0.5.0->nbconvert==6.0.8.dev0) (22.0.3)\n",
            "Requirement already satisfied: tornado>=4.1 in /usr/local/lib/python3.7/dist-packages (from jupyter-client>=6.1.5->nbclient<0.6.0,>=0.5.0->nbconvert==6.0.8.dev0) (5.1.1)\n",
            "Requirement already satisfied: python-dateutil>=2.1 in /usr/local/lib/python3.7/dist-packages (from jupyter-client>=6.1.5->nbclient<0.6.0,>=0.5.0->nbconvert==6.0.8.dev0) (2.8.1)\n",
            "Installing collected packages: nbconvert, jupyter-client\n",
            "  Found existing installation: nbconvert 5.6.1\n",
            "    Uninstalling nbconvert-5.6.1:\n",
            "      Successfully uninstalled nbconvert-5.6.1\n",
            "  Running setup.py develop for nbconvert\n",
            "  Found existing installation: jupyter-client 5.3.5\n",
            "    Uninstalling jupyter-client-5.3.5:\n",
            "      Successfully uninstalled jupyter-client-5.3.5\n",
            "Successfully installed jupyter-client-6.1.12 nbconvert\n"
          ],
          "name": "stdout"
        },
        {
          "output_type": "display_data",
          "data": {
            "application/vnd.colab-display-data+json": {
              "pip_warning": {
                "packages": [
                  "jupyter_client"
                ]
              }
            }
          },
          "metadata": {
            "tags": []
          }
        },
        {
          "output_type": "stream",
          "text": [
            "/content\n",
            "Reading package lists...\n",
            "Building dependency tree...\n",
            "Reading state information...\n",
            "pandoc is already the newest version (1.19.2.4~dfsg-1build4).\n",
            "pandoc set to manually installed.\n",
            "0 upgraded, 0 newly installed, 0 to remove and 31 not upgraded.\n",
            "Extracting templates from packages: 100%\n",
            "Preconfiguring packages ...\n",
            "(Reading database ... 160983 files and directories currently installed.)\n",
            "Preparing to unpack .../libperl5.26_5.26.1-6ubuntu0.5_amd64.deb ...\n",
            "Unpacking libperl5.26:amd64 (5.26.1-6ubuntu0.5) over (5.26.1-6ubuntu0.3) ...\n",
            "Preparing to unpack .../perl_5.26.1-6ubuntu0.5_amd64.deb ...\n",
            "Unpacking perl (5.26.1-6ubuntu0.5) over (5.26.1-6ubuntu0.3) ...\n",
            "Preparing to unpack .../perl-base_5.26.1-6ubuntu0.5_amd64.deb ...\n",
            "Unpacking perl-base (5.26.1-6ubuntu0.5) over (5.26.1-6ubuntu0.3) ...\n",
            "Setting up perl-base (5.26.1-6ubuntu0.5) ...\n",
            "(Reading database ... 160983 files and directories currently installed.)\n",
            "Preparing to unpack .../perl-modules-5.26_5.26.1-6ubuntu0.5_all.deb ...\n",
            "Unpacking perl-modules-5.26 (5.26.1-6ubuntu0.5) over (5.26.1-6ubuntu0.3) ...\n",
            "Selecting previously unselected package fonts-droid-fallback.\n",
            "Preparing to unpack .../fonts-droid-fallback_1%3a6.0.1r16-1.1_all.deb ...\n",
            "Unpacking fonts-droid-fallback (1:6.0.1r16-1.1) ...\n",
            "Selecting previously unselected package libsigsegv2:amd64.\n",
            "Preparing to unpack .../libsigsegv2_2.12-1_amd64.deb ...\n",
            "Unpacking libsigsegv2:amd64 (2.12-1) ...\n",
            "Setting up libsigsegv2:amd64 (2.12-1) ...\n",
            "Selecting previously unselected package gawk.\n",
            "(Reading database ... 161004 files and directories currently installed.)\n",
            "Preparing to unpack .../00-gawk_1%3a4.1.4+dfsg-1build1_amd64.deb ...\n",
            "Unpacking gawk (1:4.1.4+dfsg-1build1) ...\n",
            "Selecting previously unselected package imagemagick-6-common.\n",
            "Preparing to unpack .../01-imagemagick-6-common_8%3a6.9.7.4+dfsg-16ubuntu6.9_all.deb ...\n",
            "Unpacking imagemagick-6-common (8:6.9.7.4+dfsg-16ubuntu6.9) ...\n",
            "Selecting previously unselected package liblqr-1-0:amd64.\n",
            "Preparing to unpack .../02-liblqr-1-0_0.4.2-2.1_amd64.deb ...\n",
            "Unpacking liblqr-1-0:amd64 (0.4.2-2.1) ...\n",
            "Selecting previously unselected package libmagickcore-6.q16-3:amd64.\n",
            "Preparing to unpack .../03-libmagickcore-6.q16-3_8%3a6.9.7.4+dfsg-16ubuntu6.9_amd64.deb ...\n",
            "Unpacking libmagickcore-6.q16-3:amd64 (8:6.9.7.4+dfsg-16ubuntu6.9) ...\n",
            "Selecting previously unselected package libimage-magick-q16-perl.\n",
            "Preparing to unpack .../04-libimage-magick-q16-perl_8%3a6.9.7.4+dfsg-16ubuntu6.9_amd64.deb ...\n",
            "Unpacking libimage-magick-q16-perl (8:6.9.7.4+dfsg-16ubuntu6.9) ...\n",
            "Selecting previously unselected package libimage-magick-perl.\n",
            "Preparing to unpack .../05-libimage-magick-perl_8%3a6.9.7.4+dfsg-16ubuntu6.9_all.deb ...\n",
            "Unpacking libimage-magick-perl (8:6.9.7.4+dfsg-16ubuntu6.9) ...\n",
            "Selecting previously unselected package libmagickwand-6.q16-3:amd64.\n",
            "Preparing to unpack .../06-libmagickwand-6.q16-3_8%3a6.9.7.4+dfsg-16ubuntu6.9_amd64.deb ...\n",
            "Unpacking libmagickwand-6.q16-3:amd64 (8:6.9.7.4+dfsg-16ubuntu6.9) ...\n",
            "Selecting previously unselected package poppler-data.\n",
            "Preparing to unpack .../07-poppler-data_0.4.8-2_all.deb ...\n",
            "Unpacking poppler-data (0.4.8-2) ...\n",
            "Selecting previously unselected package libtext-iconv-perl.\n",
            "Preparing to unpack .../08-libtext-iconv-perl_1.7-5build6_amd64.deb ...\n",
            "Unpacking libtext-iconv-perl (1.7-5build6) ...\n",
            "Selecting previously unselected package libaspell15:amd64.\n",
            "Preparing to unpack .../09-libaspell15_0.60.7~20110707-4ubuntu0.1_amd64.deb ...\n",
            "Unpacking libaspell15:amd64 (0.60.7~20110707-4ubuntu0.1) ...\n",
            "Selecting previously unselected package emacsen-common.\n",
            "Preparing to unpack .../10-emacsen-common_2.0.8_all.deb ...\n",
            "Unpacking emacsen-common (2.0.8) ...\n",
            "Selecting previously unselected package dictionaries-common.\n",
            "Preparing to unpack .../11-dictionaries-common_1.27.2_all.deb ...\n",
            "Adding 'diversion of /usr/share/dict/words to /usr/share/dict/words.pre-dictionaries-common by dictionaries-common'\n",
            "Unpacking dictionaries-common (1.27.2) ...\n",
            "Selecting previously unselected package aspell.\n",
            "Preparing to unpack .../12-aspell_0.60.7~20110707-4ubuntu0.1_amd64.deb ...\n",
            "Unpacking aspell (0.60.7~20110707-4ubuntu0.1) ...\n",
            "Selecting previously unselected package aspell-en.\n",
            "Preparing to unpack .../13-aspell-en_2017.08.24-0-0.1_all.deb ...\n",
            "Unpacking aspell-en (2017.08.24-0-0.1) ...\n",
            "Selecting previously unselected package hunspell-en-us.\n",
            "Preparing to unpack .../14-hunspell-en-us_1%3a2017.08.24_all.deb ...\n",
            "Unpacking hunspell-en-us (1:2017.08.24) ...\n",
            "Selecting previously unselected package libhunspell-1.6-0:amd64.\n",
            "Preparing to unpack .../15-libhunspell-1.6-0_1.6.2-1_amd64.deb ...\n",
            "Unpacking libhunspell-1.6-0:amd64 (1.6.2-1) ...\n",
            "Selecting previously unselected package libenchant1c2a:amd64.\n",
            "Preparing to unpack .../16-libenchant1c2a_1.6.0-11.1_amd64.deb ...\n",
            "Unpacking libenchant1c2a:amd64 (1.6.0-11.1) ...\n",
            "Selecting previously unselected package enchant.\n",
            "Preparing to unpack .../17-enchant_1.6.0-11.1_amd64.deb ...\n",
            "Unpacking enchant (1.6.0-11.1) ...\n",
            "Selecting previously unselected package fig2dev.\n",
            "Preparing to unpack .../18-fig2dev_1%3a3.2.6a-6ubuntu1_amd64.deb ...\n",
            "Unpacking fig2dev (1:3.2.6a-6ubuntu1) ...\n",
            "Selecting previously unselected package fonts-noto-mono.\n",
            "Preparing to unpack .../19-fonts-noto-mono_20171026-2_all.deb ...\n",
            "Unpacking fonts-noto-mono (20171026-2) ...\n",
            "Selecting previously unselected package libcupsimage2:amd64.\n",
            "Preparing to unpack .../20-libcupsimage2_2.2.7-1ubuntu2.8_amd64.deb ...\n",
            "Unpacking libcupsimage2:amd64 (2.2.7-1ubuntu2.8) ...\n",
            "Selecting previously unselected package libijs-0.35:amd64.\n",
            "Preparing to unpack .../21-libijs-0.35_0.35-13_amd64.deb ...\n",
            "Unpacking libijs-0.35:amd64 (0.35-13) ...\n",
            "Selecting previously unselected package libjbig2dec0:amd64.\n",
            "Preparing to unpack .../22-libjbig2dec0_0.13-6_amd64.deb ...\n",
            "Unpacking libjbig2dec0:amd64 (0.13-6) ...\n",
            "Selecting previously unselected package libgs9-common.\n",
            "Preparing to unpack .../23-libgs9-common_9.26~dfsg+0-0ubuntu0.18.04.14_all.deb ...\n",
            "Unpacking libgs9-common (9.26~dfsg+0-0ubuntu0.18.04.14) ...\n",
            "Selecting previously unselected package libgs9:amd64.\n",
            "Preparing to unpack .../24-libgs9_9.26~dfsg+0-0ubuntu0.18.04.14_amd64.deb ...\n",
            "Unpacking libgs9:amd64 (9.26~dfsg+0-0ubuntu0.18.04.14) ...\n",
            "Selecting previously unselected package ghostscript.\n",
            "Preparing to unpack .../25-ghostscript_9.26~dfsg+0-0ubuntu0.18.04.14_amd64.deb ...\n",
            "Unpacking ghostscript (9.26~dfsg+0-0ubuntu0.18.04.14) ...\n",
            "Selecting previously unselected package gsfonts.\n",
            "Preparing to unpack .../26-gsfonts_1%3a8.11+urwcyr1.0.7~pre44-4.4_all.deb ...\n",
            "Unpacking gsfonts (1:8.11+urwcyr1.0.7~pre44-4.4) ...\n",
            "Selecting previously unselected package imagemagick-6.q16.\n",
            "Preparing to unpack .../27-imagemagick-6.q16_8%3a6.9.7.4+dfsg-16ubuntu6.9_amd64.deb ...\n",
            "Unpacking imagemagick-6.q16 (8:6.9.7.4+dfsg-16ubuntu6.9) ...\n",
            "Selecting previously unselected package imagemagick.\n",
            "Preparing to unpack .../28-imagemagick_8%3a6.9.7.4+dfsg-16ubuntu6.9_amd64.deb ...\n",
            "Unpacking imagemagick (8:6.9.7.4+dfsg-16ubuntu6.9) ...\n",
            "Selecting previously unselected package libsigc++-2.0-0v5:amd64.\n",
            "Preparing to unpack .../29-libsigc++-2.0-0v5_2.10.0-2_amd64.deb ...\n",
            "Unpacking libsigc++-2.0-0v5:amd64 (2.10.0-2) ...\n",
            "Selecting previously unselected package libglibmm-2.4-1v5:amd64.\n",
            "Preparing to unpack .../30-libglibmm-2.4-1v5_2.56.0-1_amd64.deb ...\n",
            "Unpacking libglibmm-2.4-1v5:amd64 (2.56.0-1) ...\n",
            "Selecting previously unselected package libatkmm-1.6-1v5:amd64.\n",
            "Preparing to unpack .../31-libatkmm-1.6-1v5_2.24.2-3_amd64.deb ...\n",
            "Unpacking libatkmm-1.6-1v5:amd64 (2.24.2-3) ...\n",
            "Selecting previously unselected package libcairomm-1.0-1v5:amd64.\n",
            "Preparing to unpack .../32-libcairomm-1.0-1v5_1.12.2-3_amd64.deb ...\n",
            "Unpacking libcairomm-1.0-1v5:amd64 (1.12.2-3) ...\n",
            "Selecting previously unselected package librevenge-0.0-0:amd64.\n",
            "Preparing to unpack .../33-librevenge-0.0-0_0.0.4-6ubuntu2_amd64.deb ...\n",
            "Unpacking librevenge-0.0-0:amd64 (0.0.4-6ubuntu2) ...\n",
            "Selecting previously unselected package libcdr-0.1-1:amd64.\n",
            "Preparing to unpack .../34-libcdr-0.1-1_0.1.4-1build1_amd64.deb ...\n",
            "Unpacking libcdr-0.1-1:amd64 (0.1.4-1build1) ...\n",
            "Selecting previously unselected package libdbus-glib-1-2:amd64.\n",
            "Preparing to unpack .../35-libdbus-glib-1-2_0.110-2_amd64.deb ...\n",
            "Unpacking libdbus-glib-1-2:amd64 (0.110-2) ...\n",
            "Selecting previously unselected package libgslcblas0:amd64.\n",
            "Preparing to unpack .../36-libgslcblas0_2.4+dfsg-6_amd64.deb ...\n",
            "Unpacking libgslcblas0:amd64 (2.4+dfsg-6) ...\n",
            "Selecting previously unselected package libgsl23:amd64.\n",
            "Preparing to unpack .../37-libgsl23_2.4+dfsg-6_amd64.deb ...\n",
            "Unpacking libgsl23:amd64 (2.4+dfsg-6) ...\n",
            "Selecting previously unselected package libgtk2.0-common.\n",
            "Preparing to unpack .../38-libgtk2.0-common_2.24.32-1ubuntu1_all.deb ...\n",
            "Unpacking libgtk2.0-common (2.24.32-1ubuntu1) ...\n",
            "Selecting previously unselected package libgtk2.0-0:amd64.\n",
            "Preparing to unpack .../39-libgtk2.0-0_2.24.32-1ubuntu1_amd64.deb ...\n",
            "Unpacking libgtk2.0-0:amd64 (2.24.32-1ubuntu1) ...\n",
            "Selecting previously unselected package libpangomm-1.4-1v5:amd64.\n",
            "Preparing to unpack .../40-libpangomm-1.4-1v5_2.40.1-4_amd64.deb ...\n",
            "Unpacking libpangomm-1.4-1v5:amd64 (2.40.1-4) ...\n",
            "Selecting previously unselected package libgtkmm-2.4-1v5:amd64.\n",
            "Preparing to unpack .../41-libgtkmm-2.4-1v5_1%3a2.24.5-2_amd64.deb ...\n",
            "Unpacking libgtkmm-2.4-1v5:amd64 (1:2.24.5-2) ...\n",
            "Selecting previously unselected package libgtkspell0:amd64.\n",
            "Preparing to unpack .../42-libgtkspell0_2.0.16-1.2_amd64.deb ...\n",
            "Unpacking libgtkspell0:amd64 (2.0.16-1.2) ...\n",
            "Selecting previously unselected package libmagick++-6.q16-7:amd64.\n",
            "Preparing to unpack .../43-libmagick++-6.q16-7_8%3a6.9.7.4+dfsg-16ubuntu6.9_amd64.deb ...\n",
            "Unpacking libmagick++-6.q16-7:amd64 (8:6.9.7.4+dfsg-16ubuntu6.9) ...\n",
            "Selecting previously unselected package libpoppler-glib8:amd64.\n",
            "Preparing to unpack .../44-libpoppler-glib8_0.62.0-2ubuntu2.12_amd64.deb ...\n",
            "Unpacking libpoppler-glib8:amd64 (0.62.0-2ubuntu2.12) ...\n",
            "Selecting previously unselected package libpotrace0.\n",
            "Preparing to unpack .../45-libpotrace0_1.14-2_amd64.deb ...\n",
            "Unpacking libpotrace0 (1.14-2) ...\n",
            "Selecting previously unselected package libvisio-0.1-1:amd64.\n",
            "Preparing to unpack .../46-libvisio-0.1-1_0.1.6-1build1_amd64.deb ...\n",
            "Unpacking libvisio-0.1-1:amd64 (0.1.6-1build1) ...\n",
            "Selecting previously unselected package libwpd-0.10-10:amd64.\n",
            "Preparing to unpack .../47-libwpd-0.10-10_0.10.2-2_amd64.deb ...\n",
            "Unpacking libwpd-0.10-10:amd64 (0.10.2-2) ...\n",
            "Selecting previously unselected package libwpg-0.3-3:amd64.\n",
            "Preparing to unpack .../48-libwpg-0.3-3_0.3.1-3_amd64.deb ...\n",
            "Unpacking libwpg-0.3-3:amd64 (0.3.1-3) ...\n",
            "Selecting previously unselected package inkscape.\n",
            "Preparing to unpack .../49-inkscape_0.92.3-1_amd64.deb ...\n",
            "Unpacking inkscape (0.92.3-1) ...\n",
            "Selecting previously unselected package libcupsfilters1:amd64.\n",
            "Preparing to unpack .../50-libcupsfilters1_1.20.2-0ubuntu3.1_amd64.deb ...\n",
            "Unpacking libcupsfilters1:amd64 (1.20.2-0ubuntu3.1) ...\n",
            "Selecting previously unselected package libdjvulibre-text.\n",
            "Preparing to unpack .../51-libdjvulibre-text_3.5.27.1-8ubuntu0.2_all.deb ...\n",
            "Unpacking libdjvulibre-text (3.5.27.1-8ubuntu0.2) ...\n",
            "Selecting previously unselected package libdjvulibre21:amd64.\n",
            "Preparing to unpack .../52-libdjvulibre21_3.5.27.1-8ubuntu0.2_amd64.deb ...\n",
            "Unpacking libdjvulibre21:amd64 (3.5.27.1-8ubuntu0.2) ...\n",
            "Selecting previously unselected package libgail18:amd64.\n",
            "Preparing to unpack .../53-libgail18_2.24.32-1ubuntu1_amd64.deb ...\n",
            "Unpacking libgail18:amd64 (2.24.32-1ubuntu1) ...\n",
            "Selecting previously unselected package libgail-common:amd64.\n",
            "Preparing to unpack .../54-libgail-common_2.24.32-1ubuntu1_amd64.deb ...\n",
            "Unpacking libgail-common:amd64 (2.24.32-1ubuntu1) ...\n",
            "Selecting previously unselected package libgtk2.0-bin.\n",
            "Preparing to unpack .../55-libgtk2.0-bin_2.24.32-1ubuntu1_amd64.deb ...\n",
            "Unpacking libgtk2.0-bin (2.24.32-1ubuntu1) ...\n",
            "Selecting previously unselected package libwmf0.2-7:amd64.\n",
            "Preparing to unpack .../56-libwmf0.2-7_0.2.8.4-12_amd64.deb ...\n",
            "Unpacking libwmf0.2-7:amd64 (0.2.8.4-12) ...\n",
            "Selecting previously unselected package libmagickcore-6.q16-3-extra:amd64.\n",
            "Preparing to unpack .../57-libmagickcore-6.q16-3-extra_8%3a6.9.7.4+dfsg-16ubuntu6.9_amd64.deb ...\n",
            "Unpacking libmagickcore-6.q16-3-extra:amd64 (8:6.9.7.4+dfsg-16ubuntu6.9) ...\n",
            "Selecting previously unselected package libnetpbm10.\n",
            "Preparing to unpack .../58-libnetpbm10_2%3a10.0-15.3build1_amd64.deb ...\n",
            "Unpacking libnetpbm10 (2:10.0-15.3build1) ...\n",
            "Selecting previously unselected package libwmf-bin.\n",
            "Preparing to unpack .../59-libwmf-bin_0.2.8.4-12_amd64.deb ...\n",
            "Unpacking libwmf-bin (0.2.8.4-12) ...\n",
            "Selecting previously unselected package netpbm.\n",
            "Preparing to unpack .../60-netpbm_2%3a10.0-15.3build1_amd64.deb ...\n",
            "Unpacking netpbm (2:10.0-15.3build1) ...\n",
            "Selecting previously unselected package python-bs4.\n",
            "Preparing to unpack .../61-python-bs4_4.6.0-1_all.deb ...\n",
            "Unpacking python-bs4 (4.6.0-1) ...\n",
            "Selecting previously unselected package python-pkg-resources.\n",
            "Preparing to unpack .../62-python-pkg-resources_39.0.1-2_all.deb ...\n",
            "Unpacking python-pkg-resources (39.0.1-2) ...\n",
            "Selecting previously unselected package python-chardet.\n",
            "Preparing to unpack .../63-python-chardet_3.0.4-1_all.deb ...\n",
            "Unpacking python-chardet (3.0.4-1) ...\n",
            "Selecting previously unselected package python-six.\n",
            "Preparing to unpack .../64-python-six_1.11.0-2_all.deb ...\n",
            "Unpacking python-six (1.11.0-2) ...\n",
            "Selecting previously unselected package python-webencodings.\n",
            "Preparing to unpack .../65-python-webencodings_0.5-2_all.deb ...\n",
            "Unpacking python-webencodings (0.5-2) ...\n",
            "Selecting previously unselected package python-html5lib.\n",
            "Preparing to unpack .../66-python-html5lib_0.999999999-1_all.deb ...\n",
            "Unpacking python-html5lib (0.999999999-1) ...\n",
            "Selecting previously unselected package python-lxml:amd64.\n",
            "Preparing to unpack .../67-python-lxml_4.2.1-1ubuntu0.4_amd64.deb ...\n",
            "Unpacking python-lxml:amd64 (4.2.1-1ubuntu0.4) ...\n",
            "Selecting previously unselected package python3-six.\n",
            "Preparing to unpack .../68-python3-six_1.11.0-2_all.deb ...\n",
            "Unpacking python3-six (1.11.0-2) ...\n",
            "Selecting previously unselected package python3-pkg-resources.\n",
            "Preparing to unpack .../69-python3-pkg-resources_39.0.1-2_all.deb ...\n",
            "Unpacking python3-pkg-resources (39.0.1-2) ...\n",
            "Selecting previously unselected package python3-scour.\n",
            "Preparing to unpack .../70-python3-scour_0.36-2_all.deb ...\n",
            "Unpacking python3-scour (0.36-2) ...\n",
            "Selecting previously unselected package scour.\n",
            "Preparing to unpack .../71-scour_0.36-2_all.deb ...\n",
            "Unpacking scour (0.36-2) ...\n",
            "Selecting previously unselected package python-scour.\n",
            "Preparing to unpack .../72-python-scour_0.36-2_all.deb ...\n",
            "Unpacking python-scour (0.36-2) ...\n",
            "Selecting previously unselected package transfig.\n",
            "Preparing to unpack .../73-transfig_1%3a3.2.6a-6ubuntu1_all.deb ...\n",
            "Unpacking transfig (1:3.2.6a-6ubuntu1) ...\n",
            "Setting up libgs9-common (9.26~dfsg+0-0ubuntu0.18.04.14) ...\n",
            "Setting up imagemagick-6-common (8:6.9.7.4+dfsg-16ubuntu6.9) ...\n",
            "Setting up libpoppler-glib8:amd64 (0.62.0-2ubuntu2.12) ...\n",
            "Setting up fonts-droid-fallback (1:6.0.1r16-1.1) ...\n",
            "Setting up libgtk2.0-common (2.24.32-1ubuntu1) ...\n",
            "Setting up gsfonts (1:8.11+urwcyr1.0.7~pre44-4.4) ...\n",
            "Setting up libhunspell-1.6-0:amd64 (1.6.2-1) ...\n",
            "Setting up libaspell15:amd64 (0.60.7~20110707-4ubuntu0.1) ...\n",
            "Setting up poppler-data (0.4.8-2) ...\n",
            "Setting up libdjvulibre-text (3.5.27.1-8ubuntu0.2) ...\n",
            "Setting up libdbus-glib-1-2:amd64 (0.110-2) ...\n",
            "Setting up libnetpbm10 (2:10.0-15.3build1) ...\n",
            "Setting up emacsen-common (2.0.8) ...\n",
            "Setting up python3-six (1.11.0-2) ...\n",
            "Setting up perl-modules-5.26 (5.26.1-6ubuntu0.5) ...\n",
            "Setting up python3-pkg-resources (39.0.1-2) ...\n",
            "Setting up python-pkg-resources (39.0.1-2) ...\n",
            "Setting up librevenge-0.0-0:amd64 (0.0.4-6ubuntu2) ...\n",
            "Setting up gawk (1:4.1.4+dfsg-1build1) ...\n",
            "Setting up fonts-noto-mono (20171026-2) ...\n",
            "Setting up libcupsfilters1:amd64 (1.20.2-0ubuntu3.1) ...\n",
            "Setting up libcupsimage2:amd64 (2.2.7-1ubuntu2.8) ...\n",
            "Setting up liblqr-1-0:amd64 (0.4.2-2.1) ...\n",
            "Setting up libjbig2dec0:amd64 (0.13-6) ...\n",
            "Setting up python-six (1.11.0-2) ...\n",
            "Setting up python-bs4 (4.6.0-1) ...\n",
            "Setting up libperl5.26:amd64 (5.26.1-6ubuntu0.5) ...\n",
            "Setting up libtext-iconv-perl (1.7-5build6) ...\n",
            "Setting up python-lxml:amd64 (4.2.1-1ubuntu0.4) ...\n",
            "Setting up libcdr-0.1-1:amd64 (0.1.4-1build1) ...\n",
            "Setting up libijs-0.35:amd64 (0.35-13) ...\n",
            "Setting up netpbm (2:10.0-15.3build1) ...\n",
            "Setting up libpotrace0 (1.14-2) ...\n",
            "Setting up libgslcblas0:amd64 (2.4+dfsg-6) ...\n",
            "Setting up libgs9:amd64 (9.26~dfsg+0-0ubuntu0.18.04.14) ...\n",
            "Setting up libwmf0.2-7:amd64 (0.2.8.4-12) ...\n",
            "Setting up libsigc++-2.0-0v5:amd64 (2.10.0-2) ...\n",
            "Setting up python-webencodings (0.5-2) ...\n",
            "Setting up libcairomm-1.0-1v5:amd64 (1.12.2-3) ...\n",
            "Setting up libgtk2.0-0:amd64 (2.24.32-1ubuntu1) ...\n",
            "Setting up python-chardet (3.0.4-1) ...\n",
            "Setting up libmagickcore-6.q16-3:amd64 (8:6.9.7.4+dfsg-16ubuntu6.9) ...\n",
            "Setting up libgail18:amd64 (2.24.32-1ubuntu1) ...\n",
            "Setting up libgsl23:amd64 (2.4+dfsg-6) ...\n",
            "Setting up libdjvulibre21:amd64 (3.5.27.1-8ubuntu0.2) ...\n",
            "Setting up dictionaries-common (1.27.2) ...\n",
            "Setting up libvisio-0.1-1:amd64 (0.1.6-1build1) ...\n",
            "Setting up libwpd-0.10-10:amd64 (0.10.2-2) ...\n",
            "Setting up fig2dev (1:3.2.6a-6ubuntu1) ...\n",
            "Setting up python3-scour (0.36-2) ...\n",
            "Setting up scour (0.36-2) ...\n",
            "Setting up libgail-common:amd64 (2.24.32-1ubuntu1) ...\n",
            "Setting up ghostscript (9.26~dfsg+0-0ubuntu0.18.04.14) ...\n",
            "Setting up libwmf-bin (0.2.8.4-12) ...\n",
            "Setting up perl (5.26.1-6ubuntu0.5) ...\n",
            "Setting up transfig (1:3.2.6a-6ubuntu1) ...\n",
            "Setting up python-scour (0.36-2) ...\n",
            "Setting up libmagickwand-6.q16-3:amd64 (8:6.9.7.4+dfsg-16ubuntu6.9) ...\n",
            "Setting up libglibmm-2.4-1v5:amd64 (2.56.0-1) ...\n",
            "Setting up libwpg-0.3-3:amd64 (0.3.1-3) ...\n",
            "Setting up python-html5lib (0.999999999-1) ...\n",
            "Setting up aspell (0.60.7~20110707-4ubuntu0.1) ...\n",
            "Setting up hunspell-en-us (1:2017.08.24) ...\n",
            "Setting up libatkmm-1.6-1v5:amd64 (2.24.2-3) ...\n",
            "Setting up libgtk2.0-bin (2.24.32-1ubuntu1) ...\n",
            "Setting up libenchant1c2a:amd64 (1.6.0-11.1) ...\n",
            "Setting up libimage-magick-q16-perl (8:6.9.7.4+dfsg-16ubuntu6.9) ...\n",
            "Setting up imagemagick-6.q16 (8:6.9.7.4+dfsg-16ubuntu6.9) ...\n",
            "update-alternatives: using /usr/bin/compare-im6.q16 to provide /usr/bin/compare (compare) in auto mode\n",
            "update-alternatives: using /usr/bin/compare-im6.q16 to provide /usr/bin/compare-im6 (compare-im6) in auto mode\n",
            "update-alternatives: using /usr/bin/animate-im6.q16 to provide /usr/bin/animate (animate) in auto mode\n",
            "update-alternatives: using /usr/bin/animate-im6.q16 to provide /usr/bin/animate-im6 (animate-im6) in auto mode\n",
            "update-alternatives: using /usr/bin/convert-im6.q16 to provide /usr/bin/convert (convert) in auto mode\n",
            "update-alternatives: using /usr/bin/convert-im6.q16 to provide /usr/bin/convert-im6 (convert-im6) in auto mode\n",
            "update-alternatives: using /usr/bin/composite-im6.q16 to provide /usr/bin/composite (composite) in auto mode\n",
            "update-alternatives: using /usr/bin/composite-im6.q16 to provide /usr/bin/composite-im6 (composite-im6) in auto mode\n",
            "update-alternatives: using /usr/bin/conjure-im6.q16 to provide /usr/bin/conjure (conjure) in auto mode\n",
            "update-alternatives: using /usr/bin/conjure-im6.q16 to provide /usr/bin/conjure-im6 (conjure-im6) in auto mode\n",
            "update-alternatives: using /usr/bin/import-im6.q16 to provide /usr/bin/import (import) in auto mode\n",
            "update-alternatives: using /usr/bin/import-im6.q16 to provide /usr/bin/import-im6 (import-im6) in auto mode\n",
            "update-alternatives: using /usr/bin/identify-im6.q16 to provide /usr/bin/identify (identify) in auto mode\n",
            "update-alternatives: using /usr/bin/identify-im6.q16 to provide /usr/bin/identify-im6 (identify-im6) in auto mode\n",
            "update-alternatives: using /usr/bin/stream-im6.q16 to provide /usr/bin/stream (stream) in auto mode\n",
            "update-alternatives: using /usr/bin/stream-im6.q16 to provide /usr/bin/stream-im6 (stream-im6) in auto mode\n",
            "update-alternatives: using /usr/bin/display-im6.q16 to provide /usr/bin/display (display) in auto mode\n",
            "update-alternatives: using /usr/bin/display-im6.q16 to provide /usr/bin/display-im6 (display-im6) in auto mode\n",
            "update-alternatives: using /usr/bin/montage-im6.q16 to provide /usr/bin/montage (montage) in auto mode\n",
            "update-alternatives: using /usr/bin/montage-im6.q16 to provide /usr/bin/montage-im6 (montage-im6) in auto mode\n",
            "update-alternatives: using /usr/bin/mogrify-im6.q16 to provide /usr/bin/mogrify (mogrify) in auto mode\n",
            "update-alternatives: using /usr/bin/mogrify-im6.q16 to provide /usr/bin/mogrify-im6 (mogrify-im6) in auto mode\n",
            "Setting up libpangomm-1.4-1v5:amd64 (2.40.1-4) ...\n",
            "Setting up libgtkmm-2.4-1v5:amd64 (1:2.24.5-2) ...\n",
            "Setting up libgtkspell0:amd64 (2.0.16-1.2) ...\n",
            "Setting up libmagick++-6.q16-7:amd64 (8:6.9.7.4+dfsg-16ubuntu6.9) ...\n",
            "Setting up libmagickcore-6.q16-3-extra:amd64 (8:6.9.7.4+dfsg-16ubuntu6.9) ...\n",
            "Setting up aspell-en (2017.08.24-0-0.1) ...\n",
            "Setting up imagemagick (8:6.9.7.4+dfsg-16ubuntu6.9) ...\n",
            "Setting up enchant (1.6.0-11.1) ...\n",
            "Setting up inkscape (0.92.3-1) ...\n",
            "Setting up libimage-magick-perl (8:6.9.7.4+dfsg-16ubuntu6.9) ...\n",
            "Processing triggers for libc-bin (2.27-3ubuntu1.2) ...\n",
            "/sbin/ldconfig.real: /usr/local/lib/python3.7/dist-packages/ideep4py/lib/libmkldnn.so.0 is not a symbolic link\n",
            "\n",
            "Processing triggers for man-db (2.8.3-2ubuntu0.1) ...\n",
            "Processing triggers for hicolor-icon-theme (0.17-2) ...\n",
            "Processing triggers for fontconfig (2.12.6-0ubuntu2) ...\n",
            "Processing triggers for mime-support (3.60ubuntu1) ...\n",
            "Processing triggers for dictionaries-common (1.27.2) ...\n",
            "aspell-autobuildhash: processing: en [en-common].\n",
            "aspell-autobuildhash: processing: en [en-variant_0].\n",
            "aspell-autobuildhash: processing: en [en-variant_1].\n",
            "aspell-autobuildhash: processing: en [en-variant_2].\n",
            "aspell-autobuildhash: processing: en [en-w_accents-only].\n",
            "aspell-autobuildhash: processing: en [en-wo_accents-only].\n",
            "aspell-autobuildhash: processing: en [en_AU-variant_0].\n",
            "aspell-autobuildhash: processing: en [en_AU-variant_1].\n",
            "aspell-autobuildhash: processing: en [en_AU-w_accents-only].\n",
            "aspell-autobuildhash: processing: en [en_AU-wo_accents-only].\n",
            "aspell-autobuildhash: processing: en [en_CA-variant_0].\n",
            "aspell-autobuildhash: processing: en [en_CA-variant_1].\n",
            "aspell-autobuildhash: processing: en [en_CA-w_accents-only].\n",
            "aspell-autobuildhash: processing: en [en_CA-wo_accents-only].\n",
            "aspell-autobuildhash: processing: en [en_GB-ise-w_accents-only].\n",
            "aspell-autobuildhash: processing: en [en_GB-ise-wo_accents-only].\n",
            "aspell-autobuildhash: processing: en [en_GB-ize-w_accents-only].\n",
            "aspell-autobuildhash: processing: en [en_GB-ize-wo_accents-only].\n",
            "aspell-autobuildhash: processing: en [en_GB-variant_0].\n",
            "aspell-autobuildhash: processing: en [en_GB-variant_1].\n",
            "aspell-autobuildhash: processing: en [en_US-w_accents-only].\n",
            "aspell-autobuildhash: processing: en [en_US-wo_accents-only].\n",
            "'universe' distribution component is already enabled for all sources.\n",
            " The Inkscape Stable PPA is intended to provide the current supported release of Inkscape.\n",
            " More info: https://launchpad.net/~inkscape.dev/+archive/ubuntu/stable\n",
            "Press [ENTER] to continue or Ctrl-c to cancel adding it.\n",
            "\n",
            "Hit:1 https://cloud.r-project.org/bin/linux/ubuntu bionic-cran40/ InRelease\n",
            "Ign:2 https://developer.download.nvidia.com/compute/cuda/repos/ubuntu1804/x86_64  InRelease\n",
            "Ign:3 https://developer.download.nvidia.com/compute/machine-learning/repos/ubuntu1804/x86_64  InRelease\n",
            "Hit:4 https://developer.download.nvidia.com/compute/cuda/repos/ubuntu1804/x86_64  Release\n",
            "Hit:5 https://developer.download.nvidia.com/compute/machine-learning/repos/ubuntu1804/x86_64  Release\n",
            "Hit:6 http://security.ubuntu.com/ubuntu bionic-security InRelease\n",
            "Hit:7 http://archive.ubuntu.com/ubuntu bionic InRelease\n",
            "Hit:8 http://ppa.launchpad.net/c2d4u.team/c2d4u4.0+/ubuntu bionic InRelease\n",
            "Hit:9 http://archive.ubuntu.com/ubuntu bionic-updates InRelease\n",
            "Hit:10 http://archive.ubuntu.com/ubuntu bionic-backports InRelease\n",
            "Hit:11 http://ppa.launchpad.net/cran/libgit2/ubuntu bionic InRelease\n",
            "Hit:14 http://ppa.launchpad.net/deadsnakes/ppa/ubuntu bionic InRelease\n",
            "Hit:15 http://ppa.launchpad.net/graphics-drivers/ppa/ubuntu bionic InRelease\n",
            "Get:16 http://ppa.launchpad.net/inkscape.dev/stable/ubuntu bionic InRelease [15.4 kB]\n",
            "Get:17 http://ppa.launchpad.net/inkscape.dev/stable/ubuntu bionic/main amd64 Packages [960 B]\n",
            "Fetched 16.3 kB in 3s (4,783 B/s)\n",
            "Reading package lists... Done\n",
            "The following packages were automatically installed and are no longer required:\n",
            "  fig2dev libdbus-glib-1-2 libgtkmm-2.4-1v5 libgtkspell0 python-bs4\n",
            "  python-chardet python-html5lib python-lxml python-pkg-resources python-scour\n",
            "  python-six python-webencodings scour transfig\n",
            "Use 'apt autoremove' to remove them.\n",
            "The following additional packages will be installed:\n",
            "  adwaita-icon-theme-full libgdl-3-5 libgdl-3-common libgtkmm-3.0-1v5\n",
            "  libgtkspell3-3-0 python3-bs4 python3-chardet python3-html5lib python3-lxml\n",
            "  python3-numpy python3-webencodings\n",
            "Suggested packages:\n",
            "  dia | dia-gnome ruby libsvg-perl libxml-xql-perl python3-serial pstoedit\n",
            "  python3-genshi python3-lxml-dbg python-lxml-doc python-numpy-doc\n",
            "  python3-nose python3-numpy-dbg\n",
            "The following NEW packages will be installed:\n",
            "  adwaita-icon-theme-full libgdl-3-5 libgdl-3-common libgtkmm-3.0-1v5\n",
            "  libgtkspell3-3-0 python3-bs4 python3-chardet python3-html5lib python3-lxml\n",
            "  python3-numpy python3-webencodings\n",
            "The following packages will be upgraded:\n",
            "  inkscape\n",
            "1 upgraded, 11 newly installed, 0 to remove and 46 not upgraded.\n",
            "Need to get 29.4 MB of archives.\n",
            "After this operation, 80.5 MB of additional disk space will be used.\n",
            "Selecting previously unselected package adwaita-icon-theme-full.\n",
            "(Reading database ... 165357 files and directories currently installed.)\n",
            "Preparing to unpack .../00-adwaita-icon-theme-full_3.28.0-1ubuntu1_all.deb ...\n",
            "Unpacking adwaita-icon-theme-full (3.28.0-1ubuntu1) ...\n",
            "Selecting previously unselected package libgdl-3-common.\n",
            "Preparing to unpack .../01-libgdl-3-common_3.28.0-1_all.deb ...\n",
            "Unpacking libgdl-3-common (3.28.0-1) ...\n",
            "Selecting previously unselected package libgdl-3-5:amd64.\n",
            "Preparing to unpack .../02-libgdl-3-5_3.28.0-1_amd64.deb ...\n",
            "Unpacking libgdl-3-5:amd64 (3.28.0-1) ...\n",
            "Selecting previously unselected package libgtkmm-3.0-1v5:amd64.\n",
            "Preparing to unpack .../03-libgtkmm-3.0-1v5_3.22.2-2_amd64.deb ...\n",
            "Unpacking libgtkmm-3.0-1v5:amd64 (3.22.2-2) ...\n",
            "Selecting previously unselected package libgtkspell3-3-0:amd64.\n",
            "Preparing to unpack .../04-libgtkspell3-3-0_3.0.9-2_amd64.deb ...\n",
            "Unpacking libgtkspell3-3-0:amd64 (3.0.9-2) ...\n",
            "Preparing to unpack .../05-inkscape_1.0.2+r75+1~ubuntu18.04.1_amd64.deb ...\n",
            "Unpacking inkscape (1.0.2+r75+1~ubuntu18.04.1) over (0.92.3-1) ...\n",
            "Selecting previously unselected package python3-bs4.\n",
            "Preparing to unpack .../06-python3-bs4_4.6.0-1_all.deb ...\n",
            "Unpacking python3-bs4 (4.6.0-1) ...\n",
            "Selecting previously unselected package python3-chardet.\n",
            "Preparing to unpack .../07-python3-chardet_3.0.4-1_all.deb ...\n",
            "Unpacking python3-chardet (3.0.4-1) ...\n",
            "Selecting previously unselected package python3-webencodings.\n",
            "Preparing to unpack .../08-python3-webencodings_0.5-2_all.deb ...\n",
            "Unpacking python3-webencodings (0.5-2) ...\n",
            "Selecting previously unselected package python3-html5lib.\n",
            "Preparing to unpack .../09-python3-html5lib_0.999999999-1_all.deb ...\n",
            "Unpacking python3-html5lib (0.999999999-1) ...\n",
            "Selecting previously unselected package python3-lxml:amd64.\n",
            "Preparing to unpack .../10-python3-lxml_4.2.1-1ubuntu0.4_amd64.deb ...\n",
            "Unpacking python3-lxml:amd64 (4.2.1-1ubuntu0.4) ...\n",
            "Selecting previously unselected package python3-numpy.\n",
            "Preparing to unpack .../11-python3-numpy_1%3a1.13.3-2ubuntu1_amd64.deb ...\n",
            "Unpacking python3-numpy (1:1.13.3-2ubuntu1) ...\n",
            "Setting up python3-webencodings (0.5-2) ...\n",
            "Setting up python3-lxml:amd64 (4.2.1-1ubuntu0.4) ...\n",
            "Setting up python3-numpy (1:1.13.3-2ubuntu1) ...\n",
            "Setting up libgtkmm-3.0-1v5:amd64 (3.22.2-2) ...\n",
            "Setting up python3-bs4 (4.6.0-1) ...\n",
            "Setting up libgdl-3-common (3.28.0-1) ...\n",
            "Setting up python3-chardet (3.0.4-1) ...\n",
            "Setting up python3-html5lib (0.999999999-1) ...\n",
            "Setting up libgtkspell3-3-0:amd64 (3.0.9-2) ...\n",
            "Setting up libgdl-3-5:amd64 (3.28.0-1) ...\n",
            "Setting up inkscape (1.0.2+r75+1~ubuntu18.04.1) ...\n",
            "Setting up adwaita-icon-theme-full (3.28.0-1ubuntu1) ...\n",
            "Processing triggers for libc-bin (2.27-3ubuntu1.2) ...\n",
            "/sbin/ldconfig.real: /usr/local/lib/python3.7/dist-packages/ideep4py/lib/libmkldnn.so.0 is not a symbolic link\n",
            "\n",
            "Processing triggers for man-db (2.8.3-2ubuntu0.1) ...\n",
            "Processing triggers for hicolor-icon-theme (0.17-2) ...\n",
            "Processing triggers for mime-support (3.60ubuntu1) ...\n",
            "Extracting templates from packages: 100%\n",
            "Preconfiguring packages ...\n",
            "Selecting previously unselected package fonts-lato.\n",
            "(Reading database ... 172387 files and directories currently installed.)\n",
            "Preparing to unpack .../00-fonts-lato_2.0-2_all.deb ...\n",
            "Unpacking fonts-lato (2.0-2) ...\n",
            "Selecting previously unselected package tex-common.\n",
            "Preparing to unpack .../01-tex-common_6.09_all.deb ...\n",
            "Unpacking tex-common (6.09) ...\n",
            "Selecting previously unselected package fonts-lmodern.\n",
            "Preparing to unpack .../02-fonts-lmodern_2.004.5-3_all.deb ...\n",
            "Unpacking fonts-lmodern (2.004.5-3) ...\n",
            "Selecting previously unselected package fonts-texgyre.\n",
            "Preparing to unpack .../03-fonts-texgyre_20160520-1_all.deb ...\n",
            "Unpacking fonts-texgyre (20160520-1) ...\n",
            "Selecting previously unselected package javascript-common.\n",
            "Preparing to unpack .../04-javascript-common_11_all.deb ...\n",
            "Unpacking javascript-common (11) ...\n",
            "Selecting previously unselected package libjs-jquery.\n",
            "Preparing to unpack .../05-libjs-jquery_3.2.1-1_all.deb ...\n",
            "Unpacking libjs-jquery (3.2.1-1) ...\n",
            "Selecting previously unselected package libkpathsea6:amd64.\n",
            "Preparing to unpack .../06-libkpathsea6_2017.20170613.44572-8ubuntu0.1_amd64.deb ...\n",
            "Unpacking libkpathsea6:amd64 (2017.20170613.44572-8ubuntu0.1) ...\n",
            "Selecting previously unselected package libptexenc1:amd64.\n",
            "Preparing to unpack .../07-libptexenc1_2017.20170613.44572-8ubuntu0.1_amd64.deb ...\n",
            "Unpacking libptexenc1:amd64 (2017.20170613.44572-8ubuntu0.1) ...\n",
            "Selecting previously unselected package rubygems-integration.\n",
            "Preparing to unpack .../08-rubygems-integration_1.11_all.deb ...\n",
            "Unpacking rubygems-integration (1.11) ...\n",
            "Selecting previously unselected package ruby2.5.\n",
            "Preparing to unpack .../09-ruby2.5_2.5.1-1ubuntu1.8_amd64.deb ...\n",
            "Unpacking ruby2.5 (2.5.1-1ubuntu1.8) ...\n",
            "Selecting previously unselected package ruby.\n",
            "Preparing to unpack .../10-ruby_1%3a2.5.1_amd64.deb ...\n",
            "Unpacking ruby (1:2.5.1) ...\n",
            "Selecting previously unselected package rake.\n",
            "Preparing to unpack .../11-rake_12.3.1-1ubuntu0.1_all.deb ...\n",
            "Unpacking rake (12.3.1-1ubuntu0.1) ...\n",
            "Selecting previously unselected package ruby-did-you-mean.\n",
            "Preparing to unpack .../12-ruby-did-you-mean_1.2.0-2_all.deb ...\n",
            "Unpacking ruby-did-you-mean (1.2.0-2) ...\n",
            "Selecting previously unselected package ruby-minitest.\n",
            "Preparing to unpack .../13-ruby-minitest_5.10.3-1_all.deb ...\n",
            "Unpacking ruby-minitest (5.10.3-1) ...\n",
            "Selecting previously unselected package ruby-net-telnet.\n",
            "Preparing to unpack .../14-ruby-net-telnet_0.1.1-2_all.deb ...\n",
            "Unpacking ruby-net-telnet (0.1.1-2) ...\n",
            "Selecting previously unselected package ruby-power-assert.\n",
            "Preparing to unpack .../15-ruby-power-assert_0.3.0-1_all.deb ...\n",
            "Unpacking ruby-power-assert (0.3.0-1) ...\n",
            "Selecting previously unselected package ruby-test-unit.\n",
            "Preparing to unpack .../16-ruby-test-unit_3.2.5-1_all.deb ...\n",
            "Unpacking ruby-test-unit (3.2.5-1) ...\n",
            "Selecting previously unselected package libruby2.5:amd64.\n",
            "Preparing to unpack .../17-libruby2.5_2.5.1-1ubuntu1.8_amd64.deb ...\n",
            "Unpacking libruby2.5:amd64 (2.5.1-1ubuntu1.8) ...\n",
            "Selecting previously unselected package libsynctex1:amd64.\n",
            "Preparing to unpack .../18-libsynctex1_2017.20170613.44572-8ubuntu0.1_amd64.deb ...\n",
            "Unpacking libsynctex1:amd64 (2017.20170613.44572-8ubuntu0.1) ...\n",
            "Selecting previously unselected package libtexlua52:amd64.\n",
            "Preparing to unpack .../19-libtexlua52_2017.20170613.44572-8ubuntu0.1_amd64.deb ...\n",
            "Unpacking libtexlua52:amd64 (2017.20170613.44572-8ubuntu0.1) ...\n",
            "Selecting previously unselected package libtexluajit2:amd64.\n",
            "Preparing to unpack .../20-libtexluajit2_2017.20170613.44572-8ubuntu0.1_amd64.deb ...\n",
            "Unpacking libtexluajit2:amd64 (2017.20170613.44572-8ubuntu0.1) ...\n",
            "Selecting previously unselected package libzzip-0-13:amd64.\n",
            "Preparing to unpack .../21-libzzip-0-13_0.13.62-3.1ubuntu0.18.04.1_amd64.deb ...\n",
            "Unpacking libzzip-0-13:amd64 (0.13.62-3.1ubuntu0.18.04.1) ...\n",
            "Selecting previously unselected package lmodern.\n",
            "Preparing to unpack .../22-lmodern_2.004.5-3_all.deb ...\n",
            "Unpacking lmodern (2.004.5-3) ...\n",
            "Selecting previously unselected package preview-latex-style.\n",
            "Preparing to unpack .../23-preview-latex-style_11.91-1ubuntu1_all.deb ...\n",
            "Unpacking preview-latex-style (11.91-1ubuntu1) ...\n",
            "Selecting previously unselected package t1utils.\n",
            "Preparing to unpack .../24-t1utils_1.41-2_amd64.deb ...\n",
            "Unpacking t1utils (1.41-2) ...\n",
            "Selecting previously unselected package tex-gyre.\n",
            "Preparing to unpack .../25-tex-gyre_20160520-1_all.deb ...\n",
            "Unpacking tex-gyre (20160520-1) ...\n",
            "Selecting previously unselected package texlive-binaries.\n",
            "Preparing to unpack .../26-texlive-binaries_2017.20170613.44572-8ubuntu0.1_amd64.deb ...\n",
            "Unpacking texlive-binaries (2017.20170613.44572-8ubuntu0.1) ...\n",
            "Selecting previously unselected package texlive-base.\n",
            "Preparing to unpack .../27-texlive-base_2017.20180305-1_all.deb ...\n",
            "Unpacking texlive-base (2017.20180305-1) ...\n",
            "Selecting previously unselected package texlive-fonts-recommended.\n",
            "Preparing to unpack .../28-texlive-fonts-recommended_2017.20180305-1_all.deb ...\n",
            "Unpacking texlive-fonts-recommended (2017.20180305-1) ...\n",
            "Selecting previously unselected package texlive-plain-generic.\n",
            "Preparing to unpack .../29-texlive-plain-generic_2017.20180305-2_all.deb ...\n",
            "Unpacking texlive-plain-generic (2017.20180305-2) ...\n",
            "Selecting previously unselected package texlive-generic-recommended.\n",
            "Preparing to unpack .../30-texlive-generic-recommended_2017.20180305-1_all.deb ...\n",
            "Unpacking texlive-generic-recommended (2017.20180305-1) ...\n",
            "Selecting previously unselected package texlive-latex-base.\n",
            "Preparing to unpack .../31-texlive-latex-base_2017.20180305-1_all.deb ...\n",
            "Unpacking texlive-latex-base (2017.20180305-1) ...\n",
            "Selecting previously unselected package texlive-latex-recommended.\n",
            "Preparing to unpack .../32-texlive-latex-recommended_2017.20180305-1_all.deb ...\n",
            "Unpacking texlive-latex-recommended (2017.20180305-1) ...\n",
            "Selecting previously unselected package texlive-pictures.\n",
            "Preparing to unpack .../33-texlive-pictures_2017.20180305-1_all.deb ...\n",
            "Unpacking texlive-pictures (2017.20180305-1) ...\n",
            "Selecting previously unselected package texlive-latex-extra.\n",
            "Preparing to unpack .../34-texlive-latex-extra_2017.20180305-2_all.deb ...\n",
            "Unpacking texlive-latex-extra (2017.20180305-2) ...\n",
            "Selecting previously unselected package tipa.\n",
            "Preparing to unpack .../35-tipa_2%3a1.3-20_all.deb ...\n",
            "Unpacking tipa (2:1.3-20) ...\n",
            "Selecting previously unselected package texlive-xetex.\n",
            "Preparing to unpack .../36-texlive-xetex_2017.20180305-1_all.deb ...\n",
            "Unpacking texlive-xetex (2017.20180305-1) ...\n",
            "Setting up libkpathsea6:amd64 (2017.20170613.44572-8ubuntu0.1) ...\n",
            "Setting up libjs-jquery (3.2.1-1) ...\n",
            "Setting up libtexlua52:amd64 (2017.20170613.44572-8ubuntu0.1) ...\n",
            "Setting up libsynctex1:amd64 (2017.20170613.44572-8ubuntu0.1) ...\n",
            "Setting up libptexenc1:amd64 (2017.20170613.44572-8ubuntu0.1) ...\n",
            "Setting up tex-common (6.09) ...\n",
            "update-language: texlive-base not installed and configured, doing nothing!\n",
            "Setting up tex-gyre (20160520-1) ...\n",
            "Setting up preview-latex-style (11.91-1ubuntu1) ...\n",
            "Setting up fonts-texgyre (20160520-1) ...\n",
            "Setting up fonts-lato (2.0-2) ...\n",
            "Setting up ruby-did-you-mean (1.2.0-2) ...\n",
            "Setting up t1utils (1.41-2) ...\n",
            "Setting up ruby-net-telnet (0.1.1-2) ...\n",
            "Setting up rubygems-integration (1.11) ...\n",
            "Setting up javascript-common (11) ...\n",
            "Setting up ruby-minitest (5.10.3-1) ...\n",
            "Setting up libzzip-0-13:amd64 (0.13.62-3.1ubuntu0.18.04.1) ...\n",
            "Setting up libtexluajit2:amd64 (2017.20170613.44572-8ubuntu0.1) ...\n",
            "Setting up fonts-lmodern (2.004.5-3) ...\n",
            "Setting up ruby-power-assert (0.3.0-1) ...\n",
            "Setting up texlive-binaries (2017.20170613.44572-8ubuntu0.1) ...\n",
            "update-alternatives: using /usr/bin/xdvi-xaw to provide /usr/bin/xdvi.bin (xdvi.bin) in auto mode\n",
            "update-alternatives: using /usr/bin/bibtex.original to provide /usr/bin/bibtex (bibtex) in auto mode\n",
            "Setting up texlive-base (2017.20180305-1) ...\n",
            "mktexlsr: Updating /var/lib/texmf/ls-R-TEXLIVEDIST... \n",
            "mktexlsr: Updating /var/lib/texmf/ls-R-TEXMFMAIN... \n",
            "mktexlsr: Updating /var/lib/texmf/ls-R... \n",
            "mktexlsr: Done.\n",
            "tl-paper: setting paper size for dvips to a4: /var/lib/texmf/dvips/config/config-paper.ps\n",
            "tl-paper: setting paper size for dvipdfmx to a4: /var/lib/texmf/dvipdfmx/dvipdfmx-paper.cfg\n",
            "tl-paper: setting paper size for xdvi to a4: /var/lib/texmf/xdvi/XDvi-paper\n",
            "tl-paper: setting paper size for pdftex to a4: /var/lib/texmf/tex/generic/config/pdftexconfig.tex\n",
            "Setting up texlive-fonts-recommended (2017.20180305-1) ...\n",
            "Setting up texlive-plain-generic (2017.20180305-2) ...\n",
            "Setting up texlive-generic-recommended (2017.20180305-1) ...\n",
            "Setting up texlive-latex-base (2017.20180305-1) ...\n",
            "Setting up lmodern (2.004.5-3) ...\n",
            "Setting up texlive-latex-recommended (2017.20180305-1) ...\n",
            "Setting up texlive-pictures (2017.20180305-1) ...\n",
            "Setting up tipa (2:1.3-20) ...\n",
            "Regenerating '/var/lib/texmf/fmtutil.cnf-DEBIAN'... done.\n",
            "Regenerating '/var/lib/texmf/fmtutil.cnf-TEXLIVEDIST'... done.\n",
            "update-fmtutil has updated the following file(s):\n",
            "\t/var/lib/texmf/fmtutil.cnf-DEBIAN\n",
            "\t/var/lib/texmf/fmtutil.cnf-TEXLIVEDIST\n",
            "If you want to activate the changes in the above file(s),\n",
            "you should run fmtutil-sys or fmtutil.\n",
            "Setting up texlive-latex-extra (2017.20180305-2) ...\n",
            "Setting up texlive-xetex (2017.20180305-1) ...\n",
            "Setting up ruby2.5 (2.5.1-1ubuntu1.8) ...\n",
            "Setting up ruby (1:2.5.1) ...\n",
            "Setting up ruby-test-unit (3.2.5-1) ...\n",
            "Setting up rake (12.3.1-1ubuntu0.1) ...\n",
            "Setting up libruby2.5:amd64 (2.5.1-1ubuntu1.8) ...\n",
            "Processing triggers for mime-support (3.60ubuntu1) ...\n",
            "Processing triggers for libc-bin (2.27-3ubuntu1.2) ...\n",
            "/sbin/ldconfig.real: /usr/local/lib/python3.7/dist-packages/ideep4py/lib/libmkldnn.so.0 is not a symbolic link\n",
            "\n",
            "Processing triggers for man-db (2.8.3-2ubuntu0.1) ...\n",
            "Processing triggers for fontconfig (2.12.6-0ubuntu2) ...\n",
            "Processing triggers for tex-common (6.09) ...\n",
            "Running updmap-sys. This may take some time... done.\n",
            "Running mktexlsr /var/lib/texmf ... done.\n",
            "Building format(s) --all.\n",
            "\tThis may take some time... done.\n"
          ],
          "name": "stdout"
        }
      ]
    },
    {
      "cell_type": "markdown",
      "metadata": {
        "id": "S1TTMUw-8__n"
      },
      "source": [
        "3. Restart runtime to load newly-installed libraries (Runtine --> Restart runtime)"
      ]
    },
    {
      "cell_type": "markdown",
      "metadata": {
        "id": "IzH71E5Sc8S_"
      },
      "source": [
        "# Simple Linear vs. Deming Regression\n",
        "\n",
        "In this programming exercise, we will explore the differences between simple vs. Deming regression.\n",
        "\n",
        "[Simple Linear Regression](https://en.wikipedia.org/wiki/Simple_linear_regression): Accounts for errors in the observations only in the y axis. That is, the residual error is computed using just the y coordinate of given data and the output of the fitted line for the corresponding input x.\n",
        "\n",
        "[Deming Regression](https://en.wikipedia.org/wiki/Deming_regression): Accounts for errors in the observation on both x and y axis. That is, the residual error is computed using the *perpendicular* distance of the fitted line from the given data points.\n",
        "\n",
        "For example, see the image is [this link](https://bisque.ece.ucsb.edu/client_service/view?resource=https://bisque.ece.ucsb.edu/data_service/00-zK5MpAScZUqCvjMWk9ijRE). \n",
        "\n",
        "For Simple linear regression, the vertical distance of data points (shown in black) from the line is minimized - this distance is shown in blue in the image in link above. The blue line indicates the **vertical residual error**.\n",
        "\n",
        "For Deming regression, the perpendicular distance of data points (shown in black) from the line is minimized - this distance is shown in red in the image in link above. The red line indicates the **perpendicular residual error**.\n",
        "\n",
        "For this assignment, you will perform Simple as well as Deming regression to given data and report the performance metrics (vertical and perpendicular residual error) as well as visual results.\n",
        "\n"
      ]
    },
    {
      "cell_type": "markdown",
      "metadata": {
        "id": "YsAKa2VFivtx"
      },
      "source": [
        "\n",
        "First, generate the data for linear regression. We will use this synthetic dataset this assignment. Do not change the seed used to generate the data.\n",
        "\n",
        "**NOTE**: the experiments for both Simple and Deming regression would be repeated for various number of available data points: 5, 10, 20."
      ]
    },
    {
      "cell_type": "code",
      "metadata": {
        "colab": {
          "base_uri": "https://localhost:8080/",
          "height": 282
        },
        "id": "8JKWlw0Ii4qP",
        "outputId": "17a743e4-ecd3-41b2-e0cd-05f45e0de37d"
      },
      "source": [
        "import numpy as np\n",
        "import matplotlib.pyplot as plt\n",
        "\n",
        "maximum_N = 20\n",
        "sigma = 0.1\n",
        "np.random.seed(123)\n",
        "\n",
        "def f(x): return 0.2*np.sin(20*x) +2*x + 1\n",
        "\n",
        "x_data = np.random.rand(maximum_N)\n",
        "y_data = f(x_data) + np.random.normal(0,sigma,maximum_N)\n",
        "\n",
        "plt.scatter(x_data,y_data)"
      ],
      "execution_count": null,
      "outputs": [
        {
          "output_type": "execute_result",
          "data": {
            "text/plain": [
              "<matplotlib.collections.PathCollection at 0x7f8bc9665f10>"
            ]
          },
          "metadata": {
            "tags": []
          },
          "execution_count": 2
        },
        {
          "output_type": "display_data",
          "data": {
            "image/png": "[encoded data removed]",
            "text/plain": [
              "<Figure size 432x288 with 1 Axes>"
            ]
          },
          "metadata": {
            "tags": [],
            "needs_background": "light"
          }
        }
      ]
    },
    {
      "cell_type": "markdown",
      "metadata": {
        "id": "Hd5orGnHxLfn"
      },
      "source": [
        "# Problem 1: perform simple linear regression\n"
      ]
    },
    {
      "cell_type": "markdown",
      "metadata": {
        "id": "u4YBO8WEkSLE"
      },
      "source": [
        "Next, let's work on a simple linear regression case by using $residual\\ error = \\frac{1}{n} \\sum_{data} (y_{data}-\\hat{y})^2$.\n",
        "\n",
        "1. Given below is some skeleton code.\n",
        "2. Fill in the SimpleLeastSquares class.\n",
        "3. Fill in the next cell to fit the `model1_5points` for a given number of data points N (start with N = 5).\n",
        "4. Predict the output for test input `x_test`.\n",
        "5. The plotting code is already mentioned - be sure to run it to see the output line overlayed with the input data.\n",
        "6. Print the formulation for the line that you estimated.\n",
        "7. Calculate and print the average vertical *and* average perpendicular residual  error of your estimation for the input data points.\n",
        "8. Repeat steps 3 through 7 for N = 10, 20\n",
        "\n",
        "Hint: you may use `np.linalg.lstsq`."
      ]
    },
    {
      "cell_type": "code",
      "metadata": {
        "id": "mW67f4BSmnhE"
      },
      "source": [
        "## STUDENT TASK: code up SimpleLeastSquares\n",
        "class SimpleLeastSquares:\n",
        "  def fit(self,x,y):\n",
        "    A = np.vstack([x, np.ones(len(x))]).T\n",
        "    m,b = np.linalg.lstsq(A, y, rcond=None)[0]\n",
        "    return m,b\n",
        "\n",
        "  #def __call__(self,x):\n",
        "    \n"
      ],
      "execution_count": null,
      "outputs": []
    },
    {
      "cell_type": "code",
      "metadata": {
        "id": "_qxg5-eWVEMu",
        "colab": {
          "base_uri": "https://localhost:8080/",
          "height": 316
        },
        "outputId": "84f4fe40-7391-4683-8c4d-3e725f719e87"
      },
      "source": [
        "\n",
        "\n",
        "## SimpleLeastSquares model to 5 data points (N = 5)\n",
        "N = 5\n",
        "\n",
        "## initialize the model\n",
        "model1_5points = SimpleLeastSquares()\n",
        "\n",
        "## select the given number of points\n",
        "x_data_selected = x_data[0:N]\n",
        "y_data_selected = y_data[0:N]\n",
        "\n",
        "## fit the model for selected points\n",
        "## STUDENT TASK: ENTER CODE HERE\n",
        "m,b = model1_5points.fit(x_data_selected, y_data_selected)\n",
        "## make the prediction for x_test input\n",
        "x_test = np.linspace(0,1,1000)\n",
        "y_hat_model1_5points =  m*x_test + b\n",
        "\n",
        "## plotting code\n",
        "plt.plot(x_data,y_data,'o')\n",
        "plt.plot(x_test,y_hat_model1_5points)\n",
        "\n",
        "## STUDENT TASK: add code to print the formulation of the line\n",
        "print(\"Line formulation: y = \" +str(m) + \"*x+\" + str(b))\n",
        "## STUDENT TASK: add code to compute residual errors (vertical and perpendicular) for input data (x_data, y_data)\n",
        "res_vert = 1/N*sum((y_data - m*x_data + b)**2)\n",
        "print(\"Vertical Residual Error:\" + str(res_vert))\n",
        "\n",
        "res_perp = 1/N * sum(abs(y_data - (m * x_data + b)) / np.sqrt(1 + m**2))\n",
        "print(\"Perpendicular Residual Error:\" + str(res_perp))"
      ],
      "execution_count": null,
      "outputs": [
        {
          "output_type": "stream",
          "text": [
            "Line formulation: y = 2.602235609206688*x+0.732157422560689\n",
            "Vertical Residual Error:8.763663234428234\n",
            "Perpendicular Residual Error:0.1688132918386267\n"
          ],
          "name": "stdout"
        },
        {
          "output_type": "display_data",
          "data": {
            "image/png": "[encoded data removed]",
            "text/plain": [
              "<Figure size 432x288 with 1 Axes>"
            ]
          },
          "metadata": {
            "tags": [],
            "needs_background": "light"
          }
        }
      ]
    },
    {
      "cell_type": "code",
      "metadata": {
        "id": "31po0KVAXWA_",
        "colab": {
          "base_uri": "https://localhost:8080/",
          "height": 316
        },
        "outputId": "ae41352a-c218-4398-f912-c4fd59a3706c"
      },
      "source": [
        "## STUDENT TASK : repeat the above experiments for N = 10 (skeleton code given)\n",
        "\n",
        "## SimpleLeastSquares model to 10 data points (N = 10)\n",
        "N = 10\n",
        "\n",
        "## initialize the model\n",
        "model1_10points = SimpleLeastSquares()\n",
        "\n",
        "## select the given number of points\n",
        "x_data_selected = x_data[0:N]\n",
        "y_data_selected = y_data[0:N]\n",
        "\n",
        "## fit the model for selected points\n",
        "## STUDENT TASK: ENTER CODE HERE\n",
        "m,b = model1_10points.fit(x_data_selected, y_data_selected)\n",
        "## make the prediction for x_test input\n",
        "x_test = np.linspace(0,1,1000)\n",
        "y_hat_model1_10points =  m*x_test + b\n",
        "## plotting code\n",
        "plt.plot(x_data,y_data,'o')\n",
        "plt.plot(x_test,y_hat_model1_10points)\n",
        "\n",
        "## STUDENT TASK: add code to print the formulation of the line\n",
        "print(\"Line formulation: y = \" +str(m) + \"*x+\" + str(b))\n",
        "## STUDENT TASK: add code to compute residual errors (vertical and perpendicular) for input data (x_data, y_data)\n",
        "res_vert = 1/N*sum((y_data - m*x_data + b)**2)\n",
        "print(\"Vertical Residual Error:\" + str(res_vert))\n",
        "\n",
        "res_perp = 1/N * sum(abs(y_data - (m * x_data + b)) / np.sqrt(1 + m**2))\n",
        "print(\"Perpendicular Residual Error:\" + str(res_perp))"
      ],
      "execution_count": null,
      "outputs": [
        {
          "output_type": "stream",
          "text": [
            "Line formulation: y = 2.200610832548745*x+0.9584129861322119\n",
            "Vertical Residual Error:7.182006682111241\n",
            "Perpendicular Residual Error:0.07020653438824741\n"
          ],
          "name": "stdout"
        },
        {
          "output_type": "display_data",
          "data": {
            "image/png": "[encoded data removed]",
            "text/plain": [
              "<Figure size 432x288 with 1 Axes>"
            ]
          },
          "metadata": {
            "tags": [],
            "needs_background": "light"
          }
        }
      ]
    },
    {
      "cell_type": "code",
      "metadata": {
        "id": "XJtCHaZ-XVz_",
        "colab": {
          "base_uri": "https://localhost:8080/",
          "height": 316
        },
        "outputId": "8209739d-0bda-47b4-8d14-dbed584531db"
      },
      "source": [
        "## STUDENT TASK : repeat the above experiment for N = 20\n",
        "\n",
        "N = 20 \n",
        "## STUDENT TASK: enter rest of code as done above and plot the line, print line formulation, print residual errors\n",
        "## select the given number of points\n",
        "x_data_selected = x_data[0:N]\n",
        "y_data_selected = y_data[0:N]\n",
        "\n",
        "## fit the model for selected points\n",
        "## STUDENT TASK: ENTER CODE HERE\n",
        "model1_20points = SimpleLeastSquares()\n",
        "m,b = model1_20points.fit(x_data_selected, y_data_selected)\n",
        "## make the prediction for x_test input\n",
        "x_test = np.linspace(0,1,1000)\n",
        "y_hat_model1_20points =  m*x_test + b\n",
        "\n",
        "## plotting code\n",
        "plt.plot(x_data,y_data,'o')\n",
        "plt.plot(x_test,y_hat_model1_10points)\n",
        "\n",
        "## STUDENT TASK: add code to print the formulation of the line\n",
        "print(\"Line formulation: y = \" +str(m) + \"*x+\" + str(b))\n",
        "## STUDENT TASK: add code to compute residual errors (vertical and perpendicular) for input data (x_data, y_data)\n",
        "res_vert = 1/N*sum((y_data - m*x_data + b)**2)\n",
        "print(\"Vertical Residual Error:\" + str(res_vert))\n",
        "\n",
        "res_perp = 1 / N * sum(abs(y_data - (m * x_data + b)) / np.sqrt(1 + m**2))\n",
        "print(\"Perpendicular Residual Error:\" + str(res_perp))"
      ],
      "execution_count": null,
      "outputs": [
        {
          "output_type": "stream",
          "text": [
            "Line formulation: y = 2.2128760929937776*x+0.9273119638694097\n",
            "Vertical Residual Error:3.4524984700881056\n",
            "Perpendicular Residual Error:0.034875038249651685\n"
          ],
          "name": "stdout"
        },
        {
          "output_type": "display_data",
          "data": {
            "image/png": "[encoded data removed]",
            "text/plain": [
              "<Figure size 432x288 with 1 Axes>"
            ]
          },
          "metadata": {
            "tags": [],
            "needs_background": "light"
          }
        }
      ]
    },
    {
      "cell_type": "markdown",
      "metadata": {
        "id": "6TCW1KfWxfDh"
      },
      "source": [
        "\n",
        "# Problem 2: perform Deming regression\n"
      ]
    },
    {
      "cell_type": "markdown",
      "metadata": {
        "id": "9Hgg6a91nO-t"
      },
      "source": [
        "Next, let's work on a Deming linear regression case by using \n",
        "\n",
        "$residual\\ error = \\frac{1}{n} \\sum_{data} \\min_{x'} [(m x' + b - y_{data})^2 + (x' - x_{data})^2]$\n",
        "\n",
        "This minimum, or shortest distnce from the point to the line, will make the residual perpendicular to the best fit line.\n",
        "\n",
        "\n",
        "1. Given below is some skeleton code.\n",
        "2. Fill in the DemingLeastSquares class.\n",
        "3. Fill in the next cell to fit the `model2_5points` for a given number of data points N (start with N = 5).\n",
        "4. Predict the output for test input `x_test`.\n",
        "5. The plotting code is already mentioned - be sure to run it to see the output line overlayed with the input data.\n",
        "6. Print the formulation for the line that you estimated.\n",
        "7. Calculate and print the average vertical *and* average perpendicular residual  error of your estimation for the input data points.\n",
        "8. Repeat steps 3 through 7 for N = 10, 20.\n",
        "\n",
        "Hint: you may use `np.linalg.eig`.\n"
      ]
    },
    {
      "cell_type": "code",
      "metadata": {
        "id": "Dbfd51MOY_sC"
      },
      "source": [
        "## STUDENT TASK: code up DemingLeastSquares\n",
        "class DemingLeastSquares:\n",
        "  def fit(self,x,y):\n",
        "    y_bar = np.mean(y)\n",
        "    x_bar = np.mean(x)\n",
        "    N = len(y)\n",
        "    #intercepts\n",
        "    s_yy = np.sum([(y_i - y_bar)**2 for y_i in y]) / (N-1)\n",
        "    s_xx = np.sum([(x_i - x_bar)**2 for x_i in x]) / (N-1)\n",
        "    s_xy = np.sum([(x[i] - x_bar)*(y[i] - y_bar) for i in range(0,N)]) / (N-1)\n",
        "\n",
        "    self.y_intercept = (s_yy - s_xx) / (2*s_xy)\n",
        "    self.slope = self.y_intercept + np.sqrt(self.y_intercept**2 + 1)\n",
        "\n",
        "    return (self.slope, self.y_intercept)\n",
        "\n",
        "  \n",
        "  def __call__(self,x):\n",
        "    return [(self.slope*x_i + self.y_intercept) for x_i in x]\n"
      ],
      "execution_count": null,
      "outputs": []
    },
    {
      "cell_type": "code",
      "metadata": {
        "id": "CN5kOuIF0W9L",
        "colab": {
          "base_uri": "https://localhost:8080/",
          "height": 316
        },
        "outputId": "4d556f38-dccc-455e-cd6c-c2177d280dae"
      },
      "source": [
        "## STUDENT TASK: fit DemingLeastSquares model to 5 data points i.e., N = 5  (skeleton code given)\n",
        "N = 5\n",
        "\n",
        "## initialize the model\n",
        "model2_5points = DemingLeastSquares()\n",
        "\n",
        "## select the given number of points\n",
        "x_data_selected = x_data[0:N]\n",
        "y_data_selected = y_data[0:N]\n",
        "\n",
        "## fit the model for selected points\n",
        "## STUDENT TASK: ENTER CODE HERE\n",
        "m,b = model2_5points.fit(x_data_selected, y_data_selected)\n",
        "## make the prediction for x_test input\n",
        "x_test = np.linspace(0,1,1000)\n",
        "y_hat_model2_5points = m*x_test + b\n",
        "\n",
        "## plotting code\n",
        "plt.plot(x_data,y_data,'o')\n",
        "plt.plot(x_test,y_hat_model2_5points)\n",
        "\n",
        "## STUDENT TASK: add code to print the formulation of the line\n",
        "print(\"Line formulation: y = \" +str(m) + \"*x+\" + str(b))\n",
        "## STUDENT TASK: add code to compute residual errors (vertical and perpendicular) for input data (x_data, y_data)\n",
        "res_vert = 1/N*sum((y_data - m*x_data + b)**2)\n",
        "print(\"Vertical Residual Error:\" + str(res_vert))\n",
        "\n",
        "res_perp = 1/N * sum(abs(y_data - (m * x_data + b)) / np.sqrt(1 + m**2))\n",
        "print(\"Perpendicular Residual Error:\" + str(res_perp))\n"
      ],
      "execution_count": null,
      "outputs": [
        {
          "output_type": "stream",
          "text": [
            "Line formulation: y = 2.66506136300329*x+1.144917740598647\n",
            "Vertical Residual Error:13.870650073185615\n",
            "Perpendicular Residual Error:0.609833742092844\n"
          ],
          "name": "stdout"
        },
        {
          "output_type": "display_data",
          "data": {
            "image/png": "[encoded data removed]",
            "text/plain": [
              "<Figure size 432x288 with 1 Axes>"
            ]
          },
          "metadata": {
            "tags": [],
            "needs_background": "light"
          }
        }
      ]
    },
    {
      "cell_type": "code",
      "metadata": {
        "id": "i-d-UqWjZUNW",
        "colab": {
          "base_uri": "https://localhost:8080/",
          "height": 316
        },
        "outputId": "19811993-8903-4a2c-f039-3ab5b915abd0"
      },
      "source": [
        "## STUDENT TASK: fit DemingLeastSquares model to 10 data points i.e., N = 10  (skeleton code given)\n",
        "N = 10\n",
        "\n",
        "## initialize the model\n",
        "model2_10points = DemingLeastSquares()\n",
        "\n",
        "## select the given number of points\n",
        "x_data_selected = x_data[0:N]\n",
        "y_data_selected = y_data[0:N]\n",
        "\n",
        "## fit the model for selected points\n",
        "## STUDENT TASK: ENTER CODE HERE\n",
        "m,b = model2_10points.fit(x_data_selected, y_data_selected)\n",
        "## make the prediction for x_test input\n",
        "x_test = np.linspace(0,1,1000)\n",
        "y_hat_model2_10points = m*x_test + b\n",
        "\n",
        "## plotting code\n",
        "plt.plot(x_data,y_data,'o')\n",
        "plt.plot(x_test,y_hat_model2_10points)\n",
        "\n",
        "## STUDENT TASK: add code to print the formulation of the line\n",
        "print(\"Line formulation: y = \" +str(m) + \"*x+\" + str(b))\n",
        "\n",
        "## STUDENT TASK: add code to compute residual errors (vertical and perpendicular) for input data (x_data, y_data)\n",
        "res_vert = 1/N*sum((y_data - m*x_data + b)**2)\n",
        "print(\"Vertical Residual Error:\" + str(res_vert))\n",
        "\n",
        "res_perp = 1/N * sum(abs(y_data - (m * x_data + b)) / np.sqrt(1 + m**2))\n",
        "print(\"Perpendicular Residual Error:\" + str(res_perp))\n",
        "\n"
      ],
      "execution_count": null,
      "outputs": [
        {
          "output_type": "stream",
          "text": [
            "Line formulation: y = 2.3247048832193093*x+0.9472713775102033\n",
            "Vertical Residual Error:6.6596521661074535\n",
            "Perpendicular Residual Error:0.08675390245109786\n"
          ],
          "name": "stdout"
        },
        {
          "output_type": "display_data",
          "data": {
            "image/png": "[encoded data removed]",
            "text/plain": [
              "<Figure size 432x288 with 1 Axes>"
            ]
          },
          "metadata": {
            "tags": [],
            "needs_background": "light"
          }
        }
      ]
    },
    {
      "cell_type": "code",
      "metadata": {
        "id": "FyoRTOWBZq0T",
        "colab": {
          "base_uri": "https://localhost:8080/",
          "height": 316
        },
        "outputId": "a7b0f7c9-324d-4a2b-bf05-c22987f0ccbf"
      },
      "source": [
        "## STUDENT TASK : repeat the above experiment for N = 20  \n",
        "\n",
        "N = 20 \n",
        "## STUDENT TASK: enter rest of code as done above and plot the line, print line formulation, print residual errors\n",
        "\n",
        "## initialize the model\n",
        "model2_20points = DemingLeastSquares()\n",
        "\n",
        "## select the given number of points\n",
        "x_data_selected = x_data[0:N]\n",
        "y_data_selected = y_data[0:N]\n",
        "\n",
        "## fit the model for selected points\n",
        "## STUDENT TASK: ENTER CODE HERE\n",
        "m,b = model2_20points.fit(x_data_selected, y_data_selected)\n",
        "## make the prediction for x_test input\n",
        "x_test = np.linspace(0,1,1000)\n",
        "y_hat_model2_20points = m*x_test + b\n",
        "\n",
        "## plotting code\n",
        "plt.plot(x_data,y_data,'o')\n",
        "plt.plot(x_test,y_hat_model2_10points)\n",
        "\n",
        "## STUDENT TASK: add code to print the formulation of the line\n",
        "print(\"Line formulation: y = \" +str(m) + \"*x+\" + str(b))\n",
        "\n",
        "## STUDENT TASK: add code to compute residual errors (vertical and perpendicular) for input data (x_data, y_data)\n",
        "res_vert = 1/N*sum((y_data - m*x_data + b)**2)\n",
        "print(\"Vertical Residual Error:\" + str(res_vert))\n",
        "\n",
        "res_perp = 1/N * sum(abs(y_data - (m * x_data + b)) / np.sqrt(1 + m**2))\n",
        "print(\"Perpendicular Residual Error:\" + str(res_perp))"
      ],
      "execution_count": null,
      "outputs": [
        {
          "output_type": "stream",
          "text": [
            "Line formulation: y = 2.3069691654683093*x+0.936749999765205\n",
            "Vertical Residual Error:3.3222297632449163\n",
            "Perpendicular Residual Error:0.039218507998534734\n"
          ],
          "name": "stdout"
        },
        {
          "output_type": "display_data",
          "data": {
            "image/png": "[encoded data removed]",
            "text/plain": [
              "<Figure size 432x288 with 1 Axes>"
            ]
          },
          "metadata": {
            "tags": [],
            "needs_background": "light"
          }
        }
      ]
    },
    {
      "cell_type": "markdown",
      "metadata": {
        "id": "61Fc-JTcjMGG"
      },
      "source": [
        "#Report your observations\n",
        "\n",
        "Comparing the residual errors (both vertical and perpendicular) for Simple least squares and Deming regression, what do you observe? \n",
        "\n",
        "Comment about the change magnitude of error for both regression approaches with increasing amount of data and the performance difference of the two regression approaches (Simple vs. Deming) for the same amount of data.\n",
        "(To enter your response, double click \"Your Answer\" to activate the text block below.)"
      ]
    },
    {
      "cell_type": "markdown",
      "metadata": {
        "id": "0SWL5BhRjsQe"
      },
      "source": [
        "# Your Answer:\n",
        "\n",
        "Comparing the residual errors in the Simple and Deming regression, it can be observed that the vertical residual error has a larger value than the perpendicular residual error. For both models, the values of error decrease as the number of data points increase. This observation can imply that the model becomes more accurate in laying out the line of best fit if there are more data points. An observation from the Deming regression using 5 data points shows that there is insufficient data points to accurately define a line of best fit since the points are far from the line, hence having higher vertical residual error values. "
      ]
    },
    {
      "cell_type": "markdown",
      "metadata": {
        "id": "d_6TmzX-5Bty"
      },
      "source": [
        "---\n",
        "# Save out the notebook\n",
        "If you saved this notebook into the folder `ECE180` in google drive with original name, then run the following command (otherwise, adjust the path to the notebook and its name according to how you saved it). The saved out PDF will show up in the same directory as your copy of this notebook. Rename the pdf as mentioned in submission instructions and submit it to gradescope."
      ]
    },
    {
      "cell_type": "code",
      "metadata": {
        "id": "rnhBpmGK4z5x",
        "colab": {
          "base_uri": "https://localhost:8080/"
        },
        "outputId": "4054e32d-e368-436d-fb94-b03a74ff94d6"
      },
      "source": [
        "!jupyter nbconvert --to PDF \"/content/drive/MyDrive/ECE180/ECE180-S21-HW2.ipynb\""
      ],
      "execution_count": null,
      "outputs": [
        {
          "output_type": "stream",
          "text": [
            "[NbConvertApp] Converting notebook /content/drive/MyDrive/ECE180/ECE180-S21-HW2.ipynb to PDF\n",
            "/content/nbconvert/nbconvert/filters/datatypefilter.py:41: UserWarning: Your element with mimetype(s) dict_keys(['application/vnd.colab-display-data+json']) is not able to be represented.\n",
            "  mimetypes=output.keys())\n",
            "[NbConvertApp] Support files will be in ECE180-S21-HW2_files/\n",
            "[NbConvertApp] Making directory ./ECE180-S21-HW2_files\n",
            "[NbConvertApp] Making directory ./ECE180-S21-HW2_files\n",
            "[NbConvertApp] Making directory ./ECE180-S21-HW2_files\n",
            "[NbConvertApp] Making directory ./ECE180-S21-HW2_files\n",
            "[NbConvertApp] Making directory ./ECE180-S21-HW2_files\n",
            "[NbConvertApp] Making directory ./ECE180-S21-HW2_files\n",
            "[NbConvertApp] Making directory ./ECE180-S21-HW2_files\n",
            "[NbConvertApp] Writing 110050 bytes to notebook.tex\n",
            "[NbConvertApp] Building PDF\n",
            "[NbConvertApp] Running xelatex 3 times: ['xelatex', 'notebook.tex', '-quiet']\n",
            "[NbConvertApp] Running bibtex 1 time: ['bibtex', 'notebook']\n",
            "[NbConvertApp] WARNING | bibtex had problems, most likely because there were no citations\n",
            "[NbConvertApp] PDF successfully created\n",
            "[NbConvertApp] Writing 160433 bytes to /content/drive/MyDrive/ECE180/ECE180-S21-HW2.pdf\n"
          ],
          "name": "stdout"
        }
      ]
    },
    {
      "cell_type": "code",
      "metadata": {
        "id": "emCGFwCPt-tR"
      },
      "source": [
        ""
      ],
      "execution_count": null,
      "outputs": []
    }
  ]
}